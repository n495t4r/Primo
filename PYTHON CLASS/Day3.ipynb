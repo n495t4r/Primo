{
 "cells": [
  {
   "cell_type": "code",
   "execution_count": 20,
   "id": "ec9797da",
   "metadata": {},
   "outputs": [
    {
     "name": "stdout",
     "output_type": "stream",
     "text": [
      "1 Enter a number: 32\n",
      "2 Enter a number: 12\n",
      "3 Enter a number: 34\n",
      "4 Enter a number: 23\n",
      "5 Enter a number: 22\n",
      "Sum of the inputted figures:  123.0\n"
     ]
    }
   ],
   "source": [
    "i=1\n",
    "name = []\n",
    "\n",
    "while i <= 5 :\n",
    "    numInput = float(input(str(i)+\" Enter a number: \"))\n",
    "    name.append(numInput)\n",
    "    i +=1\n",
    "    \n",
    "sumfig = sum(name)\n",
    "\n",
    "print(\"Sum of the inputted figures: \", sumfig)"
   ]
  },
  {
   "cell_type": "code",
   "execution_count": 19,
   "id": "47704297",
   "metadata": {},
   "outputs": [
    {
     "name": "stdout",
     "output_type": "stream",
     "text": [
      "1 Enter a number: 34\n",
      "2 Enter a number: dada\n",
      "An error occured, please enter a float value: : ada\n",
      "An error occured, please enter a float value: : 54\n",
      "3 Enter a number: 23\n",
      "4 Enter a number: 21\n",
      "5 Enter a number: 32ad\n",
      "An error occured, please enter a float value: : fad3\n",
      "An error occured, please enter a float value: : 54\n",
      "Sum of the inputted figures:  186.0\n"
     ]
    }
   ],
   "source": [
    "def floatValue(inputText):\n",
    "    while True:\n",
    "        try:\n",
    "            fInput = float(input(inputText+\": \"))\n",
    "            return fInput\n",
    "    \n",
    "        except ValueError:\n",
    "            inputText = \"An error occured, please re-enter a float value\"\n",
    "\n",
    "i=1\n",
    "inputFig = []\n",
    "\n",
    "while i <= 5 :\n",
    "    numInput = floatValue((str(i)+\" Enter a number\"))\n",
    "    inputFig.append(numInput)\n",
    "    i +=1\n",
    "    \n",
    "sumfig = sum(inputFig)\n",
    "\n",
    "print(\"Sum of the inputted figures: \", sumfig)"
   ]
  },
  {
   "cell_type": "code",
   "execution_count": 16,
   "id": "57bd05b5",
   "metadata": {},
   "outputs": [
    {
     "ename": "SyntaxError",
     "evalue": "invalid syntax (1736433791.py, line 1)",
     "output_type": "error",
     "traceback": [
      "\u001b[1;36m  Cell \u001b[1;32mIn[16], line 1\u001b[1;36m\u001b[0m\n\u001b[1;33m    if (! float(input(\"Enter a num: \"))):\u001b[0m\n\u001b[1;37m        ^\u001b[0m\n\u001b[1;31mSyntaxError\u001b[0m\u001b[1;31m:\u001b[0m invalid syntax\n"
     ]
    }
   ],
   "source": [
    "if (! float(input(\"Enter a num: \"))):\n",
    "    print(\"There is an error\")\n",
    "else:\n",
    "    print(\"No error\")"
   ]
  },
  {
   "cell_type": "code",
   "execution_count": 1,
   "id": "4dde3bf5",
   "metadata": {},
   "outputs": [
    {
     "name": "stdout",
     "output_type": "stream",
     "text": [
      "7\n"
     ]
    }
   ],
   "source": [
    "num = (2,3,4,6,8,2,3)\n",
    "\n",
    "print(len(num))"
   ]
  },
  {
   "cell_type": "code",
   "execution_count": 2,
   "id": "1571561d",
   "metadata": {},
   "outputs": [
    {
     "name": "stdout",
     "output_type": "stream",
     "text": [
      "4.0\n"
     ]
    }
   ],
   "source": [
    "def cal_avg(n):\n",
    "    if(n):\n",
    "        return sum(n)/len(n)\n",
    "    return 0\n",
    "\n",
    "print (cal_avg(num))"
   ]
  },
  {
   "cell_type": "code",
   "execution_count": 9,
   "id": "94b26c6a",
   "metadata": {},
   "outputs": [
    {
     "name": "stdout",
     "output_type": "stream",
     "text": [
      "23.0\n"
     ]
    }
   ],
   "source": [
    "jen = 20\n",
    "dan = 30\n",
    "teni = 40\n",
    "dami = 2\n",
    "\n",
    "aver = (jen+dan+teni+dami)/4\n",
    "print(aver)"
   ]
  },
  {
   "cell_type": "code",
   "execution_count": 4,
   "id": "5eed7e3f",
   "metadata": {},
   "outputs": [
    {
     "ename": "NameError",
     "evalue": "name 'average' is not defined",
     "output_type": "error",
     "traceback": [
      "\u001b[1;31m---------------------------------------------------------------------------\u001b[0m",
      "\u001b[1;31mNameError\u001b[0m                                 Traceback (most recent call last)",
      "Cell \u001b[1;32mIn[4], line 1\u001b[0m\n\u001b[1;32m----> 1\u001b[0m average\n",
      "\u001b[1;31mNameError\u001b[0m: name 'average' is not defined"
     ]
    }
   ],
   "source": []
  },
  {
   "cell_type": "code",
   "execution_count": 5,
   "id": "3f41b9cf",
   "metadata": {},
   "outputs": [
    {
     "data": {
      "text/plain": [
       "23.0"
      ]
     },
     "execution_count": 5,
     "metadata": {},
     "output_type": "execute_result"
    }
   ],
   "source": [
    "aver"
   ]
  },
  {
   "cell_type": "code",
   "execution_count": null,
   "id": "6b1415c1",
   "metadata": {},
   "outputs": [],
   "source": [
    "print (len(aver))"
   ]
  },
  {
   "cell_type": "code",
   "execution_count": 13,
   "id": "eabb2827",
   "metadata": {},
   "outputs": [
    {
     "name": "stdout",
     "output_type": "stream",
     "text": [
      "29.3\n"
     ]
    }
   ],
   "source": [
    "nums = [30, 35, 21, 19, 12, 34, 36, 66, 17, 23]\n",
    "print (cal_avg(nums))"
   ]
  },
  {
   "cell_type": "code",
   "execution_count": 18,
   "id": "6a4001ac",
   "metadata": {},
   "outputs": [
    {
     "name": "stdout",
     "output_type": "stream",
     "text": [
      "Enter your score72\n",
      "Passed\n"
     ]
    }
   ],
   "source": [
    "# Using if elif and else statements\n",
    "\n",
    "num3 = float(input('Enter your score: '))\n",
    "\n",
    "if num3 >50 and num3 <= 100:\n",
    "    print (\"Passed\")\n",
    "elif num3 <= 50 and num3 >= 0:\n",
    "    print (\"Failed\")\n",
    "else:\n",
    "    print (\"An error occured, score has to be between 0 and 100\")"
   ]
  },
  {
   "cell_type": "code",
   "execution_count": 28,
   "id": "0c9ccb72",
   "metadata": {},
   "outputs": [
    {
     "name": "stdout",
     "output_type": "stream",
     "text": [
      "Enter your score: 101\n",
      "An error occured, score should be 0 - 100\n"
     ]
    }
   ],
   "source": [
    "# Using if and else statements\n",
    "\n",
    "num4 = float(input('Enter your score: '))\n",
    "\n",
    "if num4 > 0 and num4 <=100:\n",
    "    if num4 <= 50 :\n",
    "        print (\"Failed\")\n",
    "    else:\n",
    "        print (\"Passed\")\n",
    "else:\n",
    "    print (\"An error occured, score should be 0 - 100\")"
   ]
  },
  {
   "cell_type": "code",
   "execution_count": 2,
   "id": "c8b4c7bb",
   "metadata": {},
   "outputs": [
    {
     "name": "stdout",
     "output_type": "stream",
     "text": [
      "['ï»¿first_name', 'middle_name', 'last_name', 'gender', 'phone_number', 'contact_phone_number', 'email', 'account_number', 'bank', 'bvn', 'date_of_birth', 'occupation', 'education', 'home_address', 'no_of_dependant', 'guarantors_name', 'guarantors_education', 'guarantors_occupation', 'guarantors_office_address', 'guarantors_phone_number', 'relationship_with_guarantor', 'gps', 'state', 'lga', 'status']\n",
      "['ADAMU', '-', 'MAIJAMAA', 'Male', '08066354151', '08066354151', 'adamumaijamaa50@gmail.com', '0057184197', 'Access Bank', '22277353067', '1988-06-25T00:00:00.000Z', '', 'B.Sc.', '08 Alhaji manu street  Dukku', '12', 'Hassan julde', 'Diploma (OND or Others)', '', 'National population office nafada', '07039130476', '', '11.0083183 10.7480483', 'Gombe', 'Dukku', 'CONFIRMED']\n",
      "['ADAM', 'I', 'KACHALLAH', 'Male', '07030307823', '07030307823', 'iadamkachallah@gmail.com', '0718754149', 'Access Bank', '22410413537', '1994-01-01T00:00:00.000Z', '', 'B.Sc.', '1234 Kwami Kwami', '1', 'Hassan Kachallah Inuwa', 'Masters or Higher', '', 'College of Health Technology Maiduguri', '08034437971', '', '11.8090058 13.2019739', 'Gombe', 'Kwami', 'CONFIRMED']\n",
      "['UMAR', 'MUSA', 'ADAMU', 'Male', '09030617878', '09030617878', 'umaradamumusa7878@gmail.com', '3191139678', 'First Bank', '22501534662', '1992-01-01T00:00:00.000Z', '', 'Diploma (OND or Others)', 'Darazawa Darazawa Gombe', '15', 'Yahaya Adamu musa', 'B.Sc.', '', 'Darazawa', '08031109399', '', '10.2878459 11.1641125', 'Gombe', 'Gombe', 'CONFIRMED']\n",
      "['IBRAHIM', 'Ibrahim ', 'DAUDA', 'Male', '08024383052', '08088280548', 'ibrahimdauda920@gmail.com', '3099179019', 'First Bank', '22351958412', '1992-01-01T00:00:00.000Z', '', 'Diploma (OND or Others)', '035 Government house street  Gombe ', '7', 'Sani dauda ', 'B.Sc.', '', 'Fth Gombe ', '07059691981', '', '10.2875656 11.1640361', 'Gombe', 'Gombe', 'CONFIRMED']\n",
      "['HUSSAINI', '-', 'MUHAMMAD', 'Male', '07069348450', '08169039175', 'hmuhammadmalala@gmail.com', '0696252895', 'Access Bank', '22336907088', '1992-06-02T00:00:00.000Z', '', 'Diploma (OND or Others)', '20 Ung Galadima  Dukku/Malala', '10', 'Hassan Muhammad ', 'Diploma (OND or Others)', '', 'Galadima ', '08065094077', '', '11.00511 10.7479383', 'Gombe', 'Dukku', 'CONFIRMED']\n",
      "['AHMED', '.', 'JINGI', 'Male', '08035290461', '07066027462', 'jingiahmed90@gmail.com', '0768383524', 'Access Bank', '22466200444', '1993-01-01T00:00:00.000Z', '', 'Diploma (OND or Others)', '19 Adamu street Dukku Malala', '8', 'Anas Damana', 'Diploma (OND or Others)', '', 'Civil defense', '07065896478', '', '11.0075035 10.7466036', 'Gombe', 'Dukku', 'CONFIRMED']\n",
      "['BELLO', 'KAWU', 'GIMBA', 'Male', '08063358193', '08063358193', 'gimbabellokawu@gmail.com', '0057184063', 'Access Bank', '22331318373', '1986-03-30T00:00:00.000Z', '', 'Diploma (OND or Others)', '09 Auyakari Dukku ', '9', 'Sabo Gimba', 'B.Sc.', '', 'J ss Burari', '08038399254', '', '11.0050383 10.747965', 'Gombe', 'Dukku', 'CONFIRMED']\n",
      "['RABIU', 'MALLAM', 'ABUBAKAR', 'Male', '08065914479', '08065914479', 'rabiumallamabubakar@gmail.com', '3095143434', 'First Bank', '22286398613', '1993-06-22T00:00:00.000Z', '', 'Diploma (OND or Others)', '011 Chiroma bakau quarters Malala  Dukku ', '2', 'Abubakar Abubakar Malala ', 'B.Sc.', '', 'Fce(t) Gombe ', '08036919522', '', '11.0075286 10.7458988', 'Gombe', 'Dukku', 'CONFIRMED']\n",
      "['HARUNA', 'INUWA', 'LAMIDO', 'Male', '08106268284', '08106268284', 'Harunainuwalamido@gmail.com', '2191938658', 'Zenith Bank', '22372902816', '1996-06-23T00:00:00.000Z', '', 'B.Sc.', 'No: 1 Herwagana B gombe State  Iyan gombe Street Gombe', '3', 'Adamu Inuwa Lamido', 'B.Sc.', '', 'No: 1 Herwagana Quarters Gombe ', '08137628974', '', '10.2865684 11.1728845', 'Gombe', 'Gombe', 'CONFIRMED']\n",
      "['ADAMU', 'Galadima', 'USMAN', 'Male', '08096696148', '08096696148', 'usmangaladimaadamu@gamail.com', '0139845926', 'GTBank', '22309942458', '1991-07-01T00:00:00.000Z', '', 'Secondary School', '33 Malam Inna street  Gombe', '5', 'Adamu umaru', 'No School', '', 'Malam Inna ', '09033094650', '', '10.3013498 11.1845657', 'Gombe', 'Gombe', 'CONFIRMED']\n",
      "['FATIMA', 'Fatima', 'ADAMU', 'Female', '07031252205', '07031252205', 'fatimaadamu2205@gmail.com', '0734985565', 'Access Bank', '22439083315', '1985-02-11T00:00:00.000Z', '', 'Diploma (OND or Others)', '5 Bolari Gombe State', '4', 'Aliyu Adamu', 'Secondary School', '', 'Bolari', '08087760060', '', '10.2841412 11.1831497', 'Gombe', 'Gombe', 'CONFIRMED']\n",
      "['LYDIA', 'OMEYI', 'OKWANYA', 'Female', '08149049496', '08034321342', 'omeyiokwanya@gmail.com', '3181322963', 'First Bank', '22393073045', '1995-03-17T00:00:00.000Z', '', 'B.Sc.', '24 JJ Okocha 3rd Avenue Gwarimpa Abuja', '0', 'Okwanya Daddy', 'HND', '', 'Federal Goverment Staff', '07037724237', '', '9.1025361 7.4182688', 'Gombe', 'Kwami', 'CONFIRMED']\n",
      "['MOHAMMED', 'IBRAHIM', 'ADAM', 'Male', '08037154353', '09037154353', 'miadam6870@gmail.com', '0002257648', 'Jaiz', '22405631401', '1994-05-01T00:00:00.000Z', '', 'Diploma (OND or Others)', '140 Yusuf maitama sule Street  Gombe', '15', 'Ibrahim Adamu', 'Diploma (OND or Others)', '', 'Yusuf maitama suke Street ', '09087946069', '', '10.2834395 11.1686491', 'Gombe', 'Gombe', 'CONFIRMED']\n",
      "['ELIJAH', 'ADEOLA', 'EZEKIEL', 'Male', '07063745304', '07063745304', 'ezekielelijah59@gmail.com', '0124725518', 'GTBank', '22158522755', '1994-02-24T00:00:00.000Z', '', 'HND', 'No.21 Emir place Street new liji GOMBE', '4', 'ISRAEL EZEKIEL', 'B.Sc.', '', 'IMO state ', '07064359316', '', '10.0483963 11.214708', 'Gombe', 'Yamaltu/Delta', 'CONFIRMED']\n",
      "['GAMBO', '-', 'SABO', 'Male', '08036048574', '08036048574', 'gambosabo136@gmail.com', '4403211013', 'FCMB', '22427976863', '1986-11-05T00:00:00.000Z', '', 'Diploma (OND or Others)', '20 Madaki quarters Malala  Dukku ', '10', 'Muhammad Muhammad ', 'Diploma (OND or Others)', '', 'Leggel Malala ', '08100149071', '', '11.0075162 10.7462485', 'Gombe', 'Dukku', 'CONFIRMED']\n",
      "['SAGIR', '-', 'SANI', 'Male', '2347030959166', '07030959166', 'babangidasanivange41@gmail.com', '0008404200', 'Jaiz', '22197845565', '1983-01-01T00:00:00.000Z', '', 'Diploma (OND or Others)', \"112 Justice mu'azu pindiga street Gombe\", '33', 'Sani sabo jinade', 'Masters or Higher', '', 'Subeb', '08036247468', '', '10.2638755 11.1604969', 'Gombe', 'Gombe', 'CONFIRMED']\n",
      "['SANI', '.', 'GARBA', 'Male', '09036129000', '09036129000', 'sanigarbangani@gmail.com', '2007451317', 'Zenith Bank', '22293369563', '1989-12-25T00:00:00.000Z', '', 'B.Sc.', '001 TUDUN WADA SHAMAKI STREET OPPOSITE POLICE BARRACKS GOMBE GOMBE', '4', 'ABUBAKAR SANI BUBA', 'B.Sc.', '', 'ORJI QUARTERS GOMBE', '08038412180', '', '10.291683 11.1647439', 'Gombe', 'Gombe', 'CONFIRMED']\n",
      "['BILKISU', '-', 'YUSUF', 'Female', '07034413730', '07034413730', 'yusufbilkisu30@gmail.com', '0805513820', 'Access Bank', '22521150756', '1997-11-29T00:00:00.000Z', '', 'Diploma (OND or Others)', 'J030 KAWU FETO STREET GOMBE GOMBE', '2', 'NUHU ABBA', 'B.Sc.', '', 'BYEPASS GOMBE', '08139692070', '', '9.0570752 7.471104', 'Gombe', 'Gombe', 'CONFIRMED']\n",
      "['SHAMSIYA', 'BAPPAH', 'ABUBAKAR', 'Female', '07062503033', '07062503033', 'shamsiyaab30@gmail.com', '2371638149', 'Zenith Bank', '22244297268', '1992-05-25T00:00:00.000Z', '', 'B.Sc.', '06 State Low-cost adj Gombe intl school Gombe State Gombe State', '2', 'Shaheedah Abubakar Bappah', 'B.Sc.', '', 'Federal Teaching Hospital Gombe', '07031254106', '', '10.2783848 11.1799638', 'Gombe', 'Gombe', 'CONFIRMED']\n",
      "['HASIYA', '-', 'HUSSAINI', 'Female', '08027604848', '08027604848', 'hussainihasiya0@gmail.com', '2021148033', 'First Bank', '22402964553', '1990-07-27T00:00:00.000Z', '', 'Diploma (OND or Others)', 'B45 DAN MALAKI STREET GOMBE GOMBE', '6', 'MUHAMMAD HUSSAINI', 'Masters or Higher', '', 'MINISTRY OF EDUACTION GOMBE', '08037638018', '', '9.0570752 7.471104', 'Gombe', 'Kwami', 'CONFIRMED']\n",
      "['BASHIR', '-', 'YAU', 'Male', '2348029721144', '08029721144', 'bashiryaubolari@gmail.com', '0004198194', 'Jaiz', '22216427280', '1983-02-01T00:00:00.000Z', '', 'B.Sc.', 'B122 BALULU STREET GOMBE GOMBE', '8', 'SANI YAU', 'Diploma (OND or Others)', '', 'LOCAL EDUCATION AUTHORITY GOMBE', '08027996267', '', '9.0570752 7.471104', 'Gombe', 'Gombe', 'CONFIRMED']\n",
      "['ALIYU', 'Nill', 'SANI', 'Male', '08133854723', '08133854723', 'sanialiyubage@gmail.com', '3047005161', 'Polaris bank', '22394722544', '1996-07-07T00:00:00.000Z', '', 'Diploma (OND or Others)', '03 Tudun wada shamaki ward nearest former prison headquarter gombe Gombe', '12', 'Muhammad Bashir Muhammad ', 'Masters or Higher', '', 'College of education billiri gombe', '07031213928', '', '10.2837715 11.1838577', 'Gombe', 'Akko', 'CONFIRMED']\n",
      "['ISHIYAKU', '', '', 'SHAIBU', 'Male', '08064728046', '08064728046', 'shuaibuisiyaku54@gmail.com', '0039443851', 'Stanbic IBTC', '22317096646', '1988-03-04T00:00:00.000Z', '', 'Diploma (OND or Others)', 'Kb6 Kumabia Kumabia Street  Gombe', '5', 'Abdulwahab sabo', 'B.Sc.', '', 'Gombe local government', '07016161622', '', '10.2822657 11.1675753', 'Gombe', 'Gombe', 'CONFIRMED']\n",
      "['UMAR', 'Umar', 'ABUBAKAR', 'Male', '08109566953', '08109566953', 'umarabubakar55555@gmail.com', '6036673544', 'Keystone Bank', '22318725039', '1990-09-18T00:00:00.000Z', '', 'B.Sc.', '. Kasuwanmata along Former Prison Headquarters Gombe Gombe', '3', 'Muhammad Umar', 'Masters or Higher', '', 'Federal College of Education (Tech) Gombe', '08064937570', '', '10.3017182 11.1640361', 'Gombe', 'Gombe', 'CONFIRMED']\n",
      "['SAFIYANU', 'Safiyanu ', 'ALHASSAN', 'Male', '08165842654', '08066440431', 'safiyanualhassan87@gmail.com', '7116361011', 'FCMB', '22432048858', '1990-01-01T00:00:00.000Z', '', 'Diploma (OND or Others)', '405 Gadan Mai alewa  Gombe', '2', 'Ibrahim alhassan ', 'Diploma (OND or Others)', '', 'No.15 biu road opp central primary school gombe ', '07033322222', '', '10.291205 11.1631033', 'Gombe', 'Gombe', 'CONFIRMED']\n",
      "['ABUBAKAR', 'ABUBAkAR', 'YAHAYA', 'Male', '7061671694', '07061671694', 'abubakaryahaya143@yahoo.com', '3011411949', 'Polaris bank', '22343379429', '1992-06-18T00:00:00.000Z', '', 'Diploma (OND or Others)', '037 Shehunafada layin kotu Gombe', '3', 'Muhammed zangina yahaya', 'Secondary School', '', 'Shehunafada street', '07063070296', '', '10.2870866 11.17784', 'Gombe', 'Gombe', 'CONFIRMED']\n",
      "['NUSAIBA', 'MUHAMMAD', 'SALISU', 'Female', '08146290668', '08146290668', 'nusayberm.salis@gmail.com', '0429092492', 'GTBank', '22493069744', '1995-06-20T00:00:00.000Z', '', 'Diploma (OND or Others)', '30 Sarkin hausawan gabukka street  Nigeria', '2', 'Muhammad bello Abdullahi ', 'B.Sc.', '', 'NIMC Gombe state office Opposite CBN office', '07036291313', '', '10.2618318 11.169699', 'Gombe', 'Gombe', 'CONFIRMED']\n",
      "['ZULAIHATU', '.', 'ZAKARIYYA', 'Female', '08033486685', '08033486685', 'zakariyazulaihatu@gmail.com', '4048322011', 'FCMB', '22402983749', '1986-04-03T00:00:00.000Z', '', 'Diploma (OND or Others)', '22 Main market road H/gana gombe Gombe', '7', 'Abubakar zakariya', 'B.Sc.', '', 'Herwagana gombe', '08032495858', '', '10.2865438 11.1735924', 'Gombe', 'Gombe', 'CONFIRMED']\n",
      "[' UMAR ', 'UMAR', 'YUSUF ', 'Male', '07066608368', '08137765860', 'umardabo15@gmail.com', '6016465280', 'Keystone Bank', '22216057786', '1988-04-14T00:00:00.000Z', '', 'B.Sc.', '005 Danmalikin Gombe Gombe', '5', 'MUHAMMAD DABO YUSUF', 'B.Sc.', '', 'SPECIALIST HOSPITAL GOMBE', '08060878260', '', '10.288251666666667 11.170816666666667', 'Gombe', 'Gombe', 'CONFIRMED']\n",
      "['AFFAN', ' ', 'HARUNA', 'Male', '08038437163', '08038437163', 'affanh88@gmail.com', '2080199140', 'UBA', '22345376392', '1988-08-14T00:00:00.000Z', '', 'Diploma (OND or Others)', 'No 3 Doma Street Gombe/Gombe', '7', 'Alh. Abdulkadir Muhammad Kadai', 'B.Sc.', '', 'Orji Quarters Gombe Gombe State', '07035905043', '', '9.0570752 7.471104', 'Gombe', 'Gombe', 'CONFIRMED']\n",
      "['HADIZA', 'UMAR', 'ADAMU', 'Female', '08036592449', '08036592449', 'hadizaadamuabc@gmail.com', '2350036476', 'Zenith Bank', '22237255057', '1987-08-16T00:00:00.000Z', '', 'B.Sc.', 'House 2 Majidadi Street Gombe', '5', 'Musa Adamu Umar', 'B.Sc.', '', 'Nigerian security and Civic defense corps', '08036765464', '', '10.2745014 11.1725305', 'Gombe', 'Gombe', 'CONFIRMED']\n",
      "['IMRANA', ' ', 'HAMZA', 'Male', '08035901164', '08035901164', 'imranahamza05@gmail.com', '2041191806', 'UBA', '22228976158', '1986-04-15T00:00:00.000Z', '', 'B.Sc.', 'B 30 Layin Dogun Dibino Gombe/Gombe', '2', \"Garba Sa'adu\", 'B.Sc.', '', 'Federal Teaching Hospital', '08037702593', '', '9.060352 7.4678272', 'Gombe', 'Gombe', 'CONFIRMED']\n",
      "['HAULAT', 'SANI', 'ISHAQ', 'Female', '08033525563', '09025507895', 'haulatsani31@gmail.com', '0024908629', 'Unity Bank', '22379946945', '1994-06-11T00:00:00.000Z', '', 'Diploma (OND or Others)', 'Shamaki Shamaki Gombe ', '10', 'Sadiq Muhammad', 'B.Sc.', '', 'Federal College of Education Gombe', '08061501009', '', '10.2851496 11.1640361', 'Gombe', 'Gombe', 'CONFIRMED']\n",
      "['HALIMA', 'MUAZU', 'DANLADI', 'Female', '07036689642', '07036689642', 'halimadanladi977@gmail.com', '0058128726', 'Sterling Bank', '22397071681', '1992-01-09T00:00:00.000Z', '', 'Diploma (OND or Others)', '07036689642 BOLARI WEST BEHIND GOVERNMENT HOUSE GOMBE GOMBE', '3', 'ADAMU MOHAMMED USMAN', 'B.Sc.', '', 'MINISTRY OF EDUCATION BAUCHI STATE', '08067036530', '', '6.5243793 3.3792057', 'Gombe', 'Gombe', 'CONFIRMED']\n",
      "['USMAN', 'None', 'MADU', 'Male', '08064124677', '08064124677', 'usmadu123@gmail.com', '2054510133', 'UBA', '22225715945', '1989-02-02T00:00:00.000Z', '', 'Diploma (OND or Others)', 'Manawaci Manawaci Pantami', '10', 'Aishatu a Hafizu', 'Diploma (OND or Others)', '', 'Pantami', '07064877963', '', '10.283091 11.1636821', 'Gombe', 'Gombe', 'CONFIRMED']\n",
      "['MOHAMMED', ' ', 'IBRAHIM', 'Male', '07034986268', '07034986268', 'ibrahimmohammed1883@gmail.com', '1486941011', 'FCMB', '22326258079', '1985-11-01T00:00:00.000Z', '', 'Diploma (OND or Others)', '00008 Jekafari Honda Villa street Gombe', '3', 'ADAMU GARBA', 'Diploma (OND or Others)', '', 'Jekafari Honda Villa street', '07061412185', '', '10.2824557 11.1641107', 'Gombe', 'Gombe', 'CONFIRMED']\n",
      "['GRACE', 'HARUNA', 'AKILA', 'Female', '07065917134', '07065917134', 'aghwalmn@gmail.com', '3035673081', 'First Bank', '22282405014', '1991-03-05T00:00:00.000Z', '', 'B.Sc.', '22 Dongor Tal Billiri Tal Billiri', '5', 'Idi Adamu', 'Diploma (OND or Others)', '', 'Ecwa Bore DCC Billiri Gombe', '08081735446', '', '9.5500467 10.6304133', 'Gombe', 'Billiri', 'CONFIRMED']\n",
      "['ALIYU', 'MUHAMMAD', 'IBRAHIM', 'Male', '08132515856', '08132515836', 'aliyuajasu12@gmail.com', '0026553688', 'Stanbic IBTC', '22362561045', '1993-01-01T00:00:00.000Z', '', 'Diploma (OND or Others)', '036 Honda Villa street Gombe', '2', 'ZALIHA IBRAHIM DANMALIKI', 'Diploma (OND or Others)', '', 'Tudun wada karshen kwalta', '09076717117', '', '10.2861605 11.1647439', 'Gombe', 'Gombe', 'CONFIRMED']\n",
      "['HARUNA', 'BUBA', 'BUBA', 'Male', '08137811732', '08137911732', 'harunabuba6060@gmail.com', '5788188015', 'FCMB', '22499856193', '1995-06-25T00:00:00.000Z', '', 'Diploma (OND or Others)', '23 S kogi street Gombe Abba', '7', 'Haruna musa', 'Diploma (OND or Others)', '', 'Class teacher', '08065047214', '', '10.8320427 10.5990711', 'Gombe', 'Dukku', 'CONFIRMED']\n",
      "['MUHAMMAD', 'MAMMADIYO', 'YAHAYA', 'Male', '08066798541', '08066798541', 'yahyamuhammad8@gmail.com', '3010684319', 'Polaris bank', '22283528215', '1988-01-21T00:00:00.000Z', '', 'B.Sc.', 'No: 06 Layin Dogon Karfe Barunde Quarters  Gombe', '5', 'Muhammad Muhammad', 'B.Sc.', '', 'Nigeria institute of transport technology (NITT) zaria Gombe liasion office Kumo', '08065945373', '', '10.2867292 11.1781939', 'Gombe', 'Akko', 'CONFIRMED']\n",
      "['ADAMU', '-', 'JIBRIN', 'Male', '08037436734', '08067436734', 'adamuj2014@gmail.com', '0044924398', 'GTBank', '22264792086', '1977-06-15T00:00:00.000Z', '', 'Diploma (OND or Others)', 'p50 SHAMAKI  STREET GOMBE GOMBE', '6', 'BABANGIDA MUSA USMAN', 'Secondary School', '', 'GOMBE MAIN MARKET GOMBE', '08036278373', '', '9.0570752 7.471104', 'Gombe', 'Gombe', 'CONFIRMED']\n",
      "['SHAMSUDDEEN', 'MUSA', 'ALHASSAN', 'Male', '09030908221', '09030908221', 'shamsuddeenalhassan95@gmail.com', '0733351138', 'Access Bank', '22441048423', '1997-10-23T00:00:00.000Z', '', 'Diploma (OND or Others)', 'E45 BEHIND IDI PRIMARY SCHOOL GOMBE GOMBE', '5', 'ABUBAKAR MUHAMMAD ', 'Diploma (OND or Others)', '', 'Gombe Main Market Opposite First Bank Plc', '09015292117', '', '10.290452 11.1803178', 'Gombe', 'Yamaltu/Delta', 'CONFIRMED']\n",
      "['HAMZA', 'ABUBAKAR', 'ABUBAKAR', 'Male', '08163066082', '08022939698', 'hamzaabubakargoje@gmail.com', '0713260760', 'Access Bank', '22399936320', '1995-11-09T00:00:00.000Z', '', 'Diploma (OND or Others)', '20 Dugge Dukku', '5', 'ABUBAKAR GOJE', 'Secondary School', '', 'Dukku', '08098387973', '', '10.8320427 10.5990711', 'Gombe', 'Dukku', 'CONFIRMED']\n",
      "['YAHAYA', 'MOHAMMED', 'BOSE', 'Male', '07031213373', '09066291300', 'yahayamuhdbose@gmail.com', '0023928451', 'Unity Bank', '22238325797', '1987-09-09T00:00:00.000Z', '', 'Diploma (OND or Others)', '33 Hubbare street Gombe Abba', '8', 'Adamu shaaban', 'Diploma (OND or Others)', '', 'Class teacher', '08122761972', '', '10.8320427 10.5990711', 'Gombe', 'Dukku', 'CONFIRMED']\n",
      "['ABDULHAMID UMAR', 'BABAGORO', 'UMAR', 'Male', '07036063399', '07036063399', 'abdulhamidumarbabagoro@gmail.com', '0241492740', 'GTBank', '22433533717', '1993-08-19T00:00:00.000Z', '', 'Diploma (OND or Others)', '80 Shamaki Street Gombe Gombe ', '4', 'Rashida Muhammed', 'B.Sc.', '', 'ITF Offive Abuja ', '08062612340', '', '9.060843 7.4721153', 'Gombe', 'Gombe', 'CONFIRMED']\n",
      "['RASHIDA', 'YARIMA', 'BASHAR', 'Female', '07038310123', '07038310123', 'rashidabasharyarima123@gmail.com', '6003664267', 'Keystone Bank', '22419940993', '1990-11-29T00:00:00.000Z', '', 'Diploma (OND or Others)', '03 Tabrq Tabra', '3', 'Mohammed sani Usman ', 'B.Sc.', '', 'BCGA Gombe', '08036560098', '', '10.2589667 11.205745', 'Gombe', 'Akko', 'CONFIRMED']\n",
      "['HAFSAT', 'MUHAMMAD', 'KHALID', 'Female', '23408135570881', '08135570881', 'mhafsat771@gmail.com', '0020310636', 'Stanbic IBTC', '22420501163', '1990-05-14T00:00:00.000Z', '', 'Diploma (OND or Others)', '. Maternity Madaki Quarters Gombe Gombe', '5', 'Ibrahim Khaleed', 'Diploma (OND or Others)', '', 'Kembu Plaza Gombe', '08162286448', '', '10.2668621 11.1838577', 'Gombe', 'Gombe', 'CONFIRMED']\n",
      "['BELLO', 'ADAMU', 'ABUBAKAR', 'Male', '08064547254', '08064547254', 'hasel2018@gmail.com', '0812727432', 'Access Bank', '22272261532', '1992-01-01T00:00:00.000Z', '', 'B.Sc.', 'Nil High level Ashaka near jalingo primary school Ashaka Gombe state  Ashaka ', '8', 'Dahiru Bello', 'Diploma (OND or Others)', '', 'Federal university kashare Gombe state ', '08037033216', '', '9.0985607 7.4871194', 'Gombe', 'Funakaye', 'CONFIRMED']\n",
      "['KHADIJA', 'MAINA', 'BALA', 'Female', '08106901149', '08166901149', 'khadijabalamaina2@gmail.com', '0421049012', 'GTBank', '22480835152', '1994-04-10T00:00:00.000Z', '', 'Diploma (OND or Others)', '03 New commercials area behind new market gombe Gombe', '5', 'Bala maiÃ±a', 'Secondary School', '', 'New commercials area behind new market gombe', '08106901149', '', '10.2808989 11.177132', 'Gombe', 'Gombe', 'CONFIRMED']\n",
      "['ZAIDU', 'IMAM', 'SAIDU', 'Male', '2348169784340', '08169784340', 'saidzaidimam@gmail.com', '0002031865', 'Stanbic IBTC', '22284645863', '1993-06-07T00:00:00.000Z', '', 'Diploma (OND or Others)', '13 Jekadafari behind jewel suite Gombe  Gombe', '4', 'Abdurrashid haruna shugaba ', 'B.Sc.', '', 'Federal lowcost gombe', '07037832707', '', '10.2819412 11.1634846', 'Gombe', 'Gombe', 'CONFIRMED']\n",
      "['SADIKA', '-', 'MUAZU', 'Female', '07033616525', '09074221261', 'binbasinterlinks@gmail.com', '1396963991', 'Access Bank', '22400794116', '1990-01-01T00:00:00.000Z', '', 'Diploma (OND or Others)', '09074221261 JEKADAFARI OPPOSITE GOVERNMENT HOUSE CHIKAIRE LINE GOMBE GOMBE STATE GOMBE', '7', 'ABDULLAHI MUHAMMAD', 'Masters or Higher', '', 'GOMBE STATE UNIVERSITY', '07089598656', '', '10.2860623 11.1675753', 'Gombe', 'Gombe', 'CONFIRMED']\n",
      "['MUSA', 'LAMUDU', 'DAVID', 'Male', '07062635471', '07062635471', 'lamudu2020@gmail.com', '0026560098', 'Unity Bank', '22407165045', '1996-08-06T00:00:00.000Z', '', 'B.Sc.', 'B62 GALADIMA STREET ALONG YOLA ROAD BILLIRI', '5', 'BABA GARBA', 'B.Sc.', '', 'BILLIRI TOWN', '08160868915', '', '9.0570752 7.471104', 'Gombe', 'Billiri', 'CONFIRMED']\n",
      "['FATIMA', 'ADAMU ', 'ADAMU', 'Female', '23408063683272', '08063683272', 'fatimadamu22@gmail.com', '3098040503', 'First Bank', '22340097526', '1998-03-26T00:00:00.000Z', '', 'Diploma (OND or Others)', '7 Behind meseum kalorgu  Kaltungo ', '6', 'ADAMU ABDUL', 'Diploma (OND or Others)', '', 'Behind snake bite hospital kaltungo ', '08034307380', '', '9.8210502 11.3003902', 'Gombe', 'Kaltungo', 'CONFIRMED']\n",
      "['AHMAD', '   ', 'USMAN', 'Male', '07068386068', '07068386068', 'ibnahmad184@gmail.com', '2160100899', 'UBA', '22354612157', '1995-06-26T00:00:00.000Z', '', 'B.Sc.', ' B12 Pantami near emirs palace Gombe Gombe', '7', 'Abdulrazaq Ahmad Usman', 'B.Sc.', '', 'Jambandu super market', '08038735979', '', '9.1619214 7.3643168', 'Gombe', 'Gombe', 'CONFIRMED']\n",
      "['SERAH', 'HASSAN', 'UMAR', 'Female', '08065363309', '08065363309', 'seromen10@gmail.com', '0020688214', 'Stanbic IBTC', '22384874558', '1986-02-02T00:00:00.000Z', '', 'Diploma (OND or Others)', '10 Layi leda Gombe', '5', 'Rahila Umar Hassan ', 'Secondary School', '', 'Mama food restaurant', '08139714424', '', '10.2956728 11.1035941', 'Gombe', 'Shomgom', 'CONFIRMED']\n",
      "['MOHAMMED', 'MOHAMMED', 'ABUBAKAR', 'Male', '07065905273', '07033924880', 'abubakarmohammedmohammed7@gmail.com', '0163954894', 'GTBank', '22329167556', '1991-07-08T00:00:00.000Z', '', 'Diploma (OND or Others)', '15 Bolari layin AA haruna Street  Gombe', '5', 'Faruk AA Haruna', 'B.Sc.', '', 'Opposit federal teachin hospita Gombe ', '07030997271', '', '10.2822657 11.1675753', 'Gombe', 'Gombe', 'CONFIRMED']\n",
      "['YAHAYA', 'MOHAMMED', 'IDRIS', 'Male', '08039285303', '08039285303', 'khadigk@gmail.com', '0044946145', 'GTBank', '22242991159', '1990-10-07T00:00:00.000Z', '', 'Diploma (OND or Others)', '22 Tashabdukku laying sifika Gombe ', '0', 'Adamu Mohammed Idris ', 'B.Sc.', '', 'Tcn Gombe ', '07067564199', '', '10.2827473 11.1735924', 'Gombe', 'Dukku', 'CONFIRMED']\n",
      "['Lubabatu', 'Kwadon', 'Ibrahim', 'Female', '2348037703911', '08037703911', 'ummukhadija2@gmail.com', '3142113655', 'Ecobank', '22329676058', '1988-11-11T00:00:00.000Z', '', 'Diploma (OND or Others)', '120 Kwadon  Gombe', '10', 'Salihu mahdi', 'HND', '', 'Kwami LGA ', '08027322597', '', '10.3094246 11.1707608', 'Gombe', 'Yamaltu/Delta', 'CONFIRMED']\n",
      "['FATIMA', 'BELLO', 'IBRAHIM', 'Female', '070679000049', '07067900049', 'fibrahimbello@gmail.com', '0002886420', 'Jaiz', '22430026573', '1998-11-28T00:00:00.000Z', '', 'Diploma (OND or Others)', '098 SHAMAKI  STREET GOMBE GOMBE', '2', 'ABDULLAHI BABA ABUBAKAR', 'Masters or Higher', '', 'FEDERAL UNIVERSITY OF KASHERE GOMBE', '07063445525', '', '9.0570752 7.471104', 'Gombe', 'Gombe', 'CONFIRMED']\n",
      "['SADIQAT', 'ADAMU', 'SARKI', 'Female', '2347067219818', '09036064326', 'Adamusarkisadiqat@gmail.com', '0016899611', 'Stanbic IBTC', '22376184124', '1997-02-02T00:00:00.000Z', '', 'Diploma (OND or Others)', '4 Dan gusau street Gombe', '1', 'Adamu sarki', 'HND', '', 'Kwadon bakin kasuwa', '08062967120', '', '10.2727539 11.1930619', 'Gombe', 'Gombe', 'CONFIRMED']\n",
      "['ALIYU', 'None', 'YUSUF', 'Male', '23408128441167', '08128441167', 'shamsuddeenaliyuy@gmail.com', '0011966734', 'Stanbic IBTC', '22289145779', '1992-01-01T00:00:00.000Z', '', 'Diploma (OND or Others)', 'Darazawa Darazawa Gombe', '10', 'Auwalu Ibrahim', 'Diploma (OND or Others)', '', 'Jekadafari', '08033895254', '', '10.2876638 11.1612047', 'Gombe', 'Gombe', 'CONFIRMED']\n",
      "['WASIYYA', '.', 'ISAH', 'Female', '08163490496', '08037732417', 'wasiyyaisah3773@gmail.com', '1411526750', 'Access Bank', '22418490332', '1995-05-16T00:00:00.000Z', '', 'Diploma (OND or Others)', '. Maternity Madaki Quarters Gombe Gombe', '7', 'Usman A Dibal', 'Masters or Higher', '', 'FCE Gombe State', '08038691228', '', '10.2727774 11.1824417', 'Gombe', 'Gombe', 'CONFIRMED']\n",
      "['NAOMI', 'ALI', 'NZOMISAKI', 'Female', '09019973920', '07038901349', 'bayambe@gmail.com', '2053421883', 'UBA', '22233104209', '1985-11-16T00:00:00.000Z', '', 'Diploma (OND or Others)', '72 Yawunde street Gombe ', '4', '07030992667', 'B.Sc.', '', 'Govt house gombe', '07030992667', '', '10.2826929 11.1053027', 'Gombe', 'Akko', 'CONFIRMED']\n",
      "['GLADYS', 'NIL', 'JUSSONG', 'Female', '08164829392', '08164829392', 'gladysjussong301@gmail.com', '0220424775', 'GTBank', '22389275002', '1996-04-12T00:00:00.000Z', '', 'B.Sc.', 'NIL NIL GOMBE ', '6', 'MR. DAFLE HABLA ', 'Diploma (OND or Others)', '', 'FTH GOMBE', '08038680047', '', '10.2989412 11.1445723', 'Gombe', 'Billiri', 'CONFIRMED']\n",
      "['MUSA SARKI', 'Sarki', 'YAHAYA', 'Male', '08030606938', '08030606938', 'musayahay3060@gmail.com', '0219832848', 'GTBank', '22388663127', '1990-11-12T00:00:00.000Z', '', 'Diploma (OND or Others)', '12 Opposite mtn office buba shango Gombe', '11', 'Usman yahaya', 'B.Sc.', '', 'Civil service commission', '08104049993', '', '10.2875879 11.1474786', 'Gombe', 'Gombe', 'CONFIRMED']\n",
      "['ASHIRU', 'UMAR', 'AHMED', 'Male', '23407034226444', '07034226444', 'ashirumar202020@gmail.com', '0038932257', 'Sterling Bank', '22298942554', '1984-02-15T00:00:00.000Z', '', 'B.Sc.', 'NIL  A.A Haruna street near Government house Gombe.  Gombe ', '5', 'Ahmed Umar', 'Diploma (OND or Others)', '', 'Bolari west Gombe ', '07035592397', '', '10.2878739 11.1650978', 'Gombe', 'Gombe', 'CONFIRMED']\n",
      "['MUSA', 'Nil', 'ABUBAKAR', 'Male', '07066593386', '07066593386', 'mzambuk@gmail.com', '0044971749', 'GTBank', '22308650350', '1988-01-07T00:00:00.000Z', '', 'B.Sc.', 'Nil A.A Haruna street near Government house Gombe.  Gombe ', '4', 'Mal. Muhammad kawu manga', 'Diploma (OND or Others)', '', 'Bolari west near A.A Haruna street. ', '07086160170', '', '10.2854579 11.1650978', 'Gombe', 'Gombe', 'CONFIRMED']\n",
      "['ZAKARI', '.', 'KORAU', 'Female', '07052729041', '09037945553', 'zakarikorau5@gmail.com', '0734043456', 'Access Bank', '22437683373', '1988-07-18T00:00:00.000Z', '', 'Diploma (OND or Others)', '23 Gabanni bojude Bojude', '8', 'Ilyasu korau', 'Diploma (OND or Others)', '', 'Ministry of education', '09033254719', '', '10.542145 11.02493', 'Gombe', 'Kwami', 'CONFIRMED']\n",
      "['IBRAHIM', 'BABA', 'MOHAMMED', 'Male', '08070760773', '08167228889', 'ibrahimzizi883@gmail.com', '2057983301', 'UBA', '22269450303', '1983-07-20T00:00:00.000Z', '', 'Diploma (OND or Others)', '252 BOLARI STREET GOMBE GOMBE', '4', 'MOHAMMED USMAN SHEHU', 'B.Sc.', '', 'MINISTRY OF SCIENCE AND TECHNOLOGY GOMBE STATE', '07067737374', '', '10.2711609 11.169345', 'Gombe', 'Gombe', 'CONFIRMED']\n",
      "['BELLO', ' ', 'SHAMSUDDEEN', 'Male', '07063500009', '07063500009', 'ug16dhrdasba1042@gmail.com', '0764454020', 'Access Bank', '22226364311', '1991-05-15T00:00:00.000Z', '', 'B.Sc.', 'JB 33 Mai Unguwa Doma Street Gombe/Gombe', '7', 'Salihu Muhammad Bello', 'B.Sc.', '', '303 Kofar Yamma Opp. Police Station Misau Bauchi State', '08037694307', '', '9.060352 7.4678272', 'Gombe', 'Gombe', 'CONFIRMED']\n",
      "['ADAMU ', ' ', 'SANI ', 'Male', '08036809942', '08036809942', 'adamusani20@gmail.com', '0226308541', 'GTBank', '22401689248', '1991-01-01T00:00:00.000Z', '', 'B.Sc.', 'JB 20 Honda Villa Street Gombe/Gombe', '4', 'Shamdudeen B. Malala', 'Masters or Higher', '', 'Shongo Housing Estate Gombe Gombe State', '08084763730', '', '9.060352 7.4678272', 'Gombe', 'Gombe', 'CONFIRMED']\n",
      "['MUSA', 'ZIRA', 'UMAR', 'Male', '08063655313', '08063655313', 'umarmusazira55313@gmail.com', '3116609767', 'First Bank', '22437701235', '1992-06-05T00:00:00.000Z', '', 'Diploma (OND or Others)', 'JB 34 Namadi Sambo Road Gombe/Gombe', '4', 'Ubaida Musa', 'Secondary School', '', 'Namadi Sambo Road Jekadafari Quarters Gombe Gombe State', '08104099272', '', '9.060352 7.4678272', 'Gombe', 'Gombe', 'CONFIRMED']\n",
      "['HASKAINU', 'LETHELE', 'YAZIL', 'Female', '08173260150', '09031724677', 'yazilritahaskainu@gmail.com', '2042228734', 'UBA', '22216633940', '1988-12-26T00:00:00.000Z', '', 'B.Sc.', '93 Moonlight street yalenguruza gombe Gombe', '4', 'John Monday ', 'HND', '', ' ', '08069547879', '', '10.299098 11.0900944', 'Gombe', 'Balanga', 'CONFIRMED']\n",
      "['GARBA', 'SHUGABA', 'YAU', 'Male', '2347057862309', '07057862309', 'garabayaushugaba84@gmail.com', '0008636334', 'Stanbic IBTC', '22197085613', '1984-01-02T00:00:00.000Z', '', 'Diploma (OND or Others)', '06 Plato junction  Gombe', '6', 'Umar s fawa', 'Primary School', '', 'Pantami west Plato junction ', '08080850015', '', '10.2742545 11.169699', 'Gombe', 'Gombe', 'CONFIRMED']\n",
      "['IBRAHIM', 'MOHAMMED', 'SABO', 'Male', '08031553156', '08031553156', 'saboibrahim04@gmail.com', '3142096903', 'Ecobank', '22171830099', '1985-07-20T00:00:00.000Z', '', 'B.Sc.', 'Na77 Dangusau Street  Gombe', '4', 'Kabiru mohammed sabit', 'B.Sc.', '', 'Federal secteriat', '08038189339', '', '10.2822657 11.1675753', 'Gombe', 'Gombe', 'CONFIRMED']\n",
      "['NUUMAN', 'MUHAMMAD', 'BELLO', 'Male', '08139629337', '08139629337', 'nuumanmb@gmail.com', '2117046904', 'Zenith Bank', '22393550038', '1991-08-06T00:00:00.000Z', '', 'Diploma (OND or Others)', 'No 5 tudun wadan kalshingi Kalshingi main town road Akko', '4', 'Musa babayo', 'B.Sc.', '', 'Police head quarters gombe', '08066367311', '', '10.1756852 11.2475971', 'Gombe', 'Akko', 'CONFIRMED']\n",
      "['ABDULHAMID', '-', 'ADAMU', 'Male', '2348032771514', '08032771514', 'abduladamu2003@gmail.com', '0122434058', 'GTBank', '22211957933', '1989-05-27T00:00:00.000Z', '', 'B.Sc.', '12345 HAMMADU KAFI QUARTERS LAYIN BABBAN KUKA Gombe', '2', 'Mujahid Sale', 'B.Sc.', '', 'Kalshingi Village Akko LGA', '08027765834', '', '10.2568154 11.1650978', 'Gombe', 'Akko', 'CONFIRMED']\n",
      "['RABIAT', '-', 'AHMAD', 'Female', '07039328095', '07039328095', 'rabiata617@gmail.com', '2215013231', 'Zenith Bank', '22489726246', '1993-05-18T00:00:00.000Z', '', 'Diploma (OND or Others)', '1234 JEKA DA FARI QUARTERS Gombe', '1', 'Ahmad jibrin', 'Secondary School', '', 'HAMMADU KAFI QUARTERS', '08030912465', '', '10.257087 11.1672214', 'Gombe', 'Gombe', 'CONFIRMED']\n",
      "['HAUWA', 'MAINA', 'SABO', 'Female', '08064205949', '08064205949', 'Hauwasabomaina49@gmail.com', '1536618329', 'Access Bank', '22381827553', '1994-10-02T00:00:00.000Z', '', 'Diploma (OND or Others)', '21 Donkay hotel street Gombe', '2', 'Jamilu tata', 'HND', '', 'Old Market gombe', '08132587878', '', '10.306306306306306 11.152921434903304', 'Gombe', 'Gombe', 'CONFIRMED']\n",
      "['FIDELIYA', '-', 'JONATHAN', 'Female', '08160585366', '08160585366', 'fideliajonathan5566@gmail.com', '1500538200', 'Access Bank', '22648360449', '1988-05-02T00:00:00.000Z', '', 'Secondary School', 'B50 NEAR ECOWA 1 BILLIRI BILLIRI', '5', 'JERRY MUSA', 'B.Sc.', '', 'BILLIRI KUFAYE ', '08063500992', '', '9.060352 7.4481664', 'Gombe', 'Billiri', 'CONFIRMED']\n",
      "['MOHAMMED', 'Adamu', 'INUWA', 'Male', '2348036418593', '08036418593', 'mohammmedinuwa@gmail.com', '6013792910', 'Keystone Bank', '22232605628', '1986-11-15T00:00:00.000Z', '', 'B.Sc.', 'D45 dawaki  Yaya hammari Street  Gombe', '5', 'Babangida Adamu', 'Diploma (OND or Others)', '', 'Gombe local government', '08060008802', '', '10.2822657 11.1675753', 'Gombe', 'Gombe', 'CONFIRMED']\n",
      "['ADAMU', 'UMAR', 'MOHAMMED', 'Male', '2348032051712', '08032051712', 'adamumuhdumar@gmail.com', '3141024556', 'Ecobank', '22175141001', '1986-01-25T00:00:00.000Z', '', 'Diploma (OND or Others)', '030 MAIJUJU STREET GOMBE GOMBE', '5', 'SULAIMAN MUHAMMAD', 'B.Sc.', '', 'MINISTRY OF EDUACTION GOMBE', '07035996085', '', '9.060352 7.4678272', 'Gombe', 'Gombe', 'CONFIRMED']\n",
      "['AISHATU', 'SAMBO', 'ABUBAKAR', 'Female', '2347068746860', '07057032327', 'aishah.a.sambo@gmail.com', '0022317505', 'Stanbic IBTC', '22197756038', '1987-03-03T00:00:00.000Z', '', 'Diploma (OND or Others)', 'Number YAK/2A Opposite Lata primary health care behind bima lodge Nigeria', '8', \"Isma'ila Yusuf Haruna\", 'B.Sc.', '', 'Nigerian institute of animal science (NIAS) Gombe', '08069548345', '', '10.2971455 11.1764241', 'Gombe', 'Gombe', 'CONFIRMED']\n",
      "['BABAYO', 'BABAYO', 'NASIRU', 'Male', '07066283061', '07066283061', 'nasirubabayo112@gmail.com', '0790105538', 'Access Bank', '22500614879', '1994-06-22T00:00:00.000Z', '', 'Diploma (OND or Others)', '33 Hubbare street Gombe Abba', '3', 'Babayo umaru ', 'Diploma (OND or Others)', '', 'Water bord', '08064748034', '', '10.8365347 10.6099783', 'Gombe', 'Dukku', 'CONFIRMED']\n",
      "['KARIMATU', 'KARIMATU ', 'NAFIU', 'Male', '2348067044482', '08067044482', 'nafiukarima@gmail.com', '3141038238', 'Ecobank', '22333359996', '1993-11-11T00:00:00.000Z', '', 'Diploma (OND or Others)', '32 Shehun burema  Gombe ', '3', 'MUSTAPHA GARBA ', 'Masters or Higher', '', 'New GRA Gombe ', '08033553304', '', '10.2864197 11.1672214', 'Gombe', 'Gombe', 'CONFIRMED']\n",
      "['BAPPAH', ' ', 'MUHAMMAD', 'Male', '07032188436', '07032188436', 'bappahmuhammad172@gmail.com', '2150059073', 'Zenith Bank', '22212073001', '1988-05-18T00:00:00.000Z', '', 'B.Sc.', \"JB 59 ALH. SA'ADU MAI FATA STREET GOMBE\", '3', 'Ahmad Muhammad Alhajijo', 'Masters or Higher', '', 'No. 2 Sarkin Ruwa Street Jekadafari Quarters Gombe', '07032808616', '', '6.4520192 3.4504704', 'Gombe', 'Gombe', 'CONFIRMED']\n",
      "['AISHATU', ' ', 'ADAMU', 'Female', '07037615145', '07037615145', 'adamuaishatu45@gmail.com', '1007624811', 'Zenith Bank', '22412096279', '1991-06-15T00:00:00.000Z', '', 'Diploma (OND or Others)', '43 Chikaire Street  Chikaire Street Gombe', '5', 'Auwal Ishak', 'Secondary School', '', 'FTH Gombe', '08132727890', '', '10.2874516 11.1474032', 'Gombe', 'Gombe', 'CONFIRMED']\n",
      "['NAJIHA', '.', 'BAKO', 'Female', '2348100387055', '08100387055', 'najihabako@gmail.com', '3143000376', 'Ecobank', '22300263965', '1991-12-23T00:00:00.000Z', '', 'Diploma (OND or Others)', '. Dakum Dadinkowa(t0wn)', '30', 'Lubabatu Bako', 'B.Sc.', '', 'Jalo waziri jankai secondry school  G0mbe', '07060810140', '', '10.288288288288289 11.518533311308545', 'Gombe', 'Yamaltu/Delta', 'CONFIRMED']\n",
      "['ADAMA', ' ', 'MUHAMMAD', 'Female', '08105936267', '08105936267', 'adamamuhammad6267@gmail.com', '0236053305', 'GTBank', '22421023840', '1997-09-18T00:00:00.000Z', '', 'Diploma (OND or Others)', 'No 3 Main Market Road Gombe/Gombe', '4', 'Aishatu Aliyu', 'Secondary School', '', 'Herwagana Quarters Gombe Gombe State', '08055499697', '', '9.060352 7.4678272', 'Gombe', 'Gombe', 'CONFIRMED']\n",
      "['SARAH', 'DODO', 'SOLOMON', 'Female', '2348107836133', '08107836133', 'ssdodo01@gmail.com', '3047918091', 'First Bank', '22327275264', '1993-09-07T00:00:00.000Z', '', 'B.Sc.', '07 Lambu Kaltungo', '5', 'Ishaya Kelvin', 'HND', '', 'Living faith church ture pandi', '09055490910', '', '10.2860342 11.1484647', 'Gombe', 'Kaltungo', 'CONFIRMED']\n",
      "['FATIMA', 'MUSA', 'UMAR', 'Female', '08100932319', '08100932319', 'fatimamusaumar2319@gmail.com', '2116289771', 'UBA', '22494477359', '1991-09-20T00:00:00.000Z', '', 'Diploma (OND or Others)', 'No 3 Yarbawa Mosque Street Gombe/Gombe', '5', 'Samaila Abdullahi', 'B.Sc.', '', 'Gombe State Water Board ', '07067909534', '', '9.060352 7.4678272', 'Gombe', 'Gombe', 'CONFIRMED']\n",
      "['NATHANIEL', 'GALADIMA', 'FLORENCE', 'Female', '08022203150', '08133311171', 'flonathaniel@yahoo.com', '3029351755', 'First Bank', '22281246698', '1989-11-01T00:00:00.000Z', '', 'Masters or Higher', '05 Kalaring primary school Kaltungo', '4', 'Doma Dangwaram', 'B.Sc.', '', 'Govt Comprehensive Sec Sch', '07068824133', '', '9.8232617 11.3060609', 'Gombe', 'Shomgom', 'CONFIRMED']\n",
      "['MUHAMMAD', '-', 'ADAMU', 'Male', '2348030514897', '08030514897', 'danbomboy@gmail.com', '0787439703', 'Access Bank', '22205591372', '1988-11-15T00:00:00.000Z', '', 'B.Sc.', '24 Malam Idrissa street Gombe', '4', 'Kasimu Adamu', 'Secondary School', '', 'Jauro kuna quarters near model primary school', '07032509025', '', '10.2972685 11.1728845', 'Gombe', 'Gombe', 'CONFIRMED']\n",
      "['AUWAL', ' ', 'MOHAMMED', 'Male', '08069788940', '08069788940', 'dawainiya2020@gmail.com', '2014457775', 'UBA', '22301988872', '1980-11-23T00:00:00.000Z', '', 'Diploma (OND or Others)', '0040 Checheniya street Police Barracks Gombe  Gombe', '7', 'Sulaiman jibrin', 'B.Sc.', '', 'Police barracks ajiya ward gombe', '08134998664', '', '10.2917444 11.1629743', 'Gombe', 'Gombe', 'CONFIRMED']\n",
      "['BELLO', 'ADAMU', 'UMAR', 'Male', '07038473013', '07038473013', 'shakamindery@gmail.com', '3026824996', 'Polaris bank', '22340739891', '1986-01-09T00:00:00.000Z', '', 'Diploma (OND or Others)', 'No 7 Garbati street  Gombe ', '7', 'Garba sale', 'B.Sc.', '', 'Gombe Government House ', '08032503850', '', '10.2768051 11.1658057', 'Gombe', 'Gombe', 'CONFIRMED']\n",
      "['JAMILA', 'JAMILA', 'SALIHU', 'Female', '08031121990', '08031121990', 'jamilasalihu20188@gmail.com', '2591441018', 'FCMB', '22288673466', '1990-05-12T00:00:00.000Z', '', 'Diploma (OND or Others)', '87 Bolari layin waziri gombe', '1', 'ABDULLAHI salisu', 'B.Sc.', '', 'AMAC Area 10garki abuja', '08036437875', '', '10.2929655 11.1675753', 'Gombe', 'Akko', 'CONFIRMED']\n",
      "['SERAH', 'KOBBI', 'SAMUEL', 'Female', '08100665451', '08109072971', 'serahsamuel35@gmail.com', '3113446846', 'First Bank', '22424409320', '1992-07-07T00:00:00.000Z', '', 'Diploma (OND or Others)', '51 LAPAN KWALGWARI LAPAN SHONGOM LGA GOMBE STATE. LAPAN', '50', 'KOBBI SANI', 'Diploma (OND or Others)', '', ' ', '07062877922', '', '6.4474 3.3903', 'Gombe', 'Shomgom', 'CONFIRMED']\n",
      "['AISHATU', 'HASSAN', 'MOHAMMED', 'Female', '2347032444447', '09032444447', 'ashantyhassan25@gmail.com', '3141101901', 'Ecobank', '22277547871', '1995-07-26T00:00:00.000Z', '', 'Diploma (OND or Others)', '02 Shabatta Shabatta  Difa', '8', 'Halima B Mohammed ', 'Diploma (OND or Others)', '', 'New Liji', '08039656999', '', '10.3037034 11.1665135', 'Gombe', 'Yamaltu/Delta', 'CONFIRMED']\n",
      "['HALADU', 'SALEH', 'BELLO', 'Male', '07038066360', '07038066360', 'haladubello3806@gmail.com', '0763524434', 'Access Bank', '22318037640', '1990-08-31T00:00:00.000Z', '', 'B.Sc.', 'No 1house Near bormi filling station ashaka  Ashaka gombe state', '5', 'Ibrahim abdulhamid', 'B.Sc.', '', 'Jalingo ashaka gombe state', '07060797379', '', '10.9153543 11.4766872', 'Gombe', 'Funakaye', 'CONFIRMED']\n",
      "['JETHRO', 'MAISHANU', 'BUBA', 'Male', '08065372140', '07034667547', 'bubajethro360@gmail.com', '3066627068', 'First Bank', '22387669614', '1989-04-04T00:00:00.000Z', '', 'Diploma (OND or Others)', '47 MANGO LAPAN LAPAN', '50', 'BINTA JETHRO', 'Secondary School', '', 'LAPAN SHONGOM LGA GOMBE STATE', '09165067211', '', '6.4474 3.3903', 'Gombe', 'Shomgom', 'CONFIRMED']\n",
      "['ABDULRASHEED', '..', 'IBRAHIM', 'Male', '23407065638376', '07065638376', 'ibrahimabdulrasheed900@gmail.com', '3079250695', 'First Bank', '22311908800', '1990-12-12T00:00:00.000Z', '', 'B.Sc.', '21 Kangari street  Gombe ', '8', 'Salim ibrahim ', 'Secondary School', '', ' ', '09017072932', '', '10.2858399 11.1640361', 'Gombe', 'Kaltungo', 'CONFIRMED']\n",
      "['UMAR', '-', 'MUSA', 'Male', '08037539666', '08037539666', 'san2rakea@gmail.com', '3142096769', 'Ecobank', '22283014213', '1991-11-11T00:00:00.000Z', '', 'B.Sc.', 'Jb12 Doma street Gombe', '5', 'Ibrahim usman sulaiman', 'B.Sc.', '', 'NSCDC headquarters gombe', '08036247499', '', '10.2876638 11.1612047', 'Gombe', 'Gombe', 'CONFIRMED']\n",
      "['ABUBAKAR', 'BARDE', 'YAU', 'Male', '2347069138036', '07069138036', 'ayaubarde@gmail.com', '0026226672', 'Stanbic IBTC', '22260900265', '1989-02-20T00:00:00.000Z', '', 'Diploma (OND or Others)', '06 Biu Road Kwanan Alheri. Jakada quarters Gombe state  Gombe', '6', 'Habiba yakubu Gambo', 'Diploma (OND or Others)', '', 'Akko LGA Authority ', '07061106821', '', '10.3286757 9.8409191', 'Gombe', 'Gombe', 'CONFIRMED']\n",
      "['FATIMA', 'SADIQ', 'ABUBAKAR', 'Female', '23408142389917', '08142389917', 'fatimaabubakarsadiq423@gmail.com', '0022118788', 'Stanbic IBTC', '22437844622', '1999-05-17T00:00:00.000Z', '', 'Diploma (OND or Others)', 'Number 2 Madaki quarters hashidu Gombe', '2', 'Engr Muhammad sadiq', 'B.Sc.', '', 'Buba Shango along deputy governor office', '08037702584', '', '10.308808 11.1686372', 'Gombe', 'Dukku', 'CONFIRMED']\n",
      "['AMINU', 'HALILU', 'SABO', 'Male', '08167644402', '08167644402', 'aminuhalilu64@gmail.com', '0008704108', 'Access Bank', '22238927995', '1990-01-11T00:00:00.000Z', '', 'HND', '02 Dakum DADINKOWA  GOMBE STATE', '5', 'Ibrahim Sarki Sabo', 'Secondary School', '', 'Dadinkowa main market ', '08065332233', '', '10.2883986 11.5017372', 'Gombe', 'Yamaltu/Delta', 'CONFIRMED']\n",
      "['ZANEERA', 'MUHAMMAD', 'ABUBAKAR', 'Female', '07033408240', '08061153338', 'zaneeraabubakarmuhammad@gmail.com', '0719981795', 'Access Bank', '22413569826', '1989-01-22T00:00:00.000Z', '', 'Diploma (OND or Others)', '6 Along adamawa road Kaltungo', '4', 'Abubakar Muhammad maina', 'B.Sc.', '', 'Min. Of work', '08023768409', '', '10.289202 11.1466954', 'Gombe', 'Kaltungo', 'CONFIRMED']\n",
      "['ABDULRAHMAN', 'Nil', 'SHUAIBU', 'Male', '23408184806432', '08062863114', 'abdoulsmaigogul@gmail.com', '0063137852', 'Sterling Bank', '22334641861', '1992-10-04T00:00:00.000Z', '', 'B.Sc.', '24 Behind gidan sarkin Gabukka  Gombe', '0', 'Abubakar Shuaibu ', 'Masters or Higher', '', 'Glo OfficePlateau', '08068999918', '', '10.3133065 11.1484647', 'Gombe', 'Gombe', 'CONFIRMED']\n",
      "['adama', 'BORKONO', 'USMAN', 'Female', '2347037396071', '07037396071', 'sakybells@gmail.com', '4601084992', 'Ecobank', '22235446662', '1988-10-17T00:00:00.000Z', '', 'B.Sc.', '6 Okezie ikpazu street  Gombe', '0', 'Hadiza usman', 'B.Sc.', '', 'Normadic commission ', '08033978134', '', '9.2467002 12.4489847', 'Gombe', 'Akko', 'CONFIRMED']\n",
      "['ALIYU', '-', 'HARUNA', 'Male', '2348102597630', '08102597630', 'harunaaliyuu1@gmail.com', '0019040270', 'Stanbic IBTC', '22402135041', '1997-12-31T00:00:00.000Z', '', 'Diploma (OND or Others)', '019 Honda villah street Gombe', '9', 'Abba Yusuf ', 'Diploma (OND or Others)', '', 'Jekadafari', '08033568056', '', '10.2820678 11.1633282', 'Gombe', 'Gombe', 'CONFIRMED']\n",
      "['YELWA', 'BELLO', 'MUHAMMAD', 'Female', '08035295344', '08035295344', 'yelwamb69@gmail.com', '0006321426', 'Jaiz', '22572733722', '1997-02-16T00:00:00.000Z', '', 'Diploma (OND or Others)', 'D39 Along emirs drive  Gomne', '6', 'Saidu Modibbo Ahmed ', 'B.Sc.', '', 'School of business FCE (T) Gombe', '07037804554', '', '10.3162552 11.1629743', 'Gombe', 'Gombe', 'CONFIRMED']\n",
      "['ALIYU', 'GALADIMA', 'ISAH', 'Male', '08138982730', '08138982730', 'Aliyuisahgaladima97@gmail.com', '0694055872', 'Access Bank', '22238165818', '1996-02-29T00:00:00.000Z', '', 'B.Sc.', '032 Fage Deba', '0', 'Isah umar', 'Diploma (OND or Others)', '', 'Deba ', '08108812323', '', '10.2336061 11.3560481', 'Gombe', 'Yamaltu/Delta', 'CONFIRMED']\n",
      "['ABBAS', 'JIBIR', 'ADAMU', 'Male', '08061153284', '08061153284', 'adamujibir2015@gmail.com', '3094470783', 'Polaris bank', '22187693985', '1988-11-20T00:00:00.000Z', '', 'B.Sc.', '06 Assad primary school Deba', '7', 'Hashimu Adamu Jibir', 'HND', '', 'Yamaltu Deba Local Government secretariats', '08068164249', '', '10.2178243 11.3833567', 'Gombe', 'Yamaltu/Delta', 'CONFIRMED']\n",
      "['AMINA', 'NIL', 'MUSA', 'Female', '07061832161', '07061832161', 'aminamusa330@gmail.com', '0692688490', 'Access Bank', '22359735682', '1986-04-10T00:00:00.000Z', '', 'Diploma (OND or Others)', 'NO 23 Honda villa street gombe GOMBE', '5', 'lawan musa', 'B.Sc.', '', 'NO 2 GRA GOMBE', '07035933825', '', '10.28605 11.1679293', 'Gombe', 'Gombe', 'CONFIRMED']\n",
      "['MUSTAPHA', 'SANI', 'DAHIRU ', 'Male', '08032535669', '08032535669', 'mustaphadahirusani@gmail.com', '0168593702', 'GTBank', '22246849955', '1991-12-12T00:00:00.000Z', '', 'Diploma (OND or Others)', '08032535669 JEKADAFARI HONDA VILLA STREET GOMBE GOMBE', '50', 'SAIDU MUHAMMAD TUKUR', 'Diploma (OND or Others)', '', 'FCETGOMBE', '07032618110', '', '10.2820801 11.1629743', 'Gombe', 'Gombe', 'CONFIRMED']\n",
      "['HARUNA', 'Nill', 'MUHAMMADU', 'Male', '08139763633', '08139763633', 'muhammadharuna239@gmail.com', '0765329932', 'Access Bank', '22458395170', '1991-01-01T00:00:00.000Z', '', 'Diploma (OND or Others)', '5787 Danfodiyo quaters gombe Gombe', '7', 'Murtala isah', 'Secondary School', '', 'Communication office ', '07060525221', '', '10.2883278 11.1520035', 'Gombe', 'Yamaltu/Delta', 'CONFIRMED']\n",
      "['AISHATU', ' ', 'MUHAMMAD', 'Female', '07035886101', '07035886101', 'aishatutiya@gmail.com', '0003314342', 'Access Bank', '22306672136', '1992-01-01T00:00:00.000Z', '', 'HND', 'House No 14 Masallacjn daurawa jekadafari quarters gombe gombe state  Gombe gombe ', '3', 'Usman muhammad ', 'Secondary School', '', 'Jekadafari quarters gombe gombe state ', '09037375547', '', '10.2929395 11.1583735', 'Gombe', 'Gombe', 'CONFIRMED']\n",
      "['USMAN', 'Nill', 'MUNKAILA', 'Male', '08030695020', '08030695020', 'munkailausman99@gmail.com', '2540000881', 'Zenith Bank', '22301034566', '1983-01-01T00:00:00.000Z', '', 'Diploma (OND or Others)', '0012 DWAJA ROAD DWAJA GUNDALE', '5', \"Adam Yusha'u Haladu\", 'Diploma (OND or Others)', '', 'Dwaja unguwar Hausawa', '08022032159', '', '9.5962083 11.008345', 'Gombe', 'Shomgom', 'CONFIRMED']\n",
      "['MARYAM', '', '', 'NASIR', 'Female', '07069543372', '07069543372', 'maryamnasir0003@gmail.com', '2090137653', 'UBA', '22396937166', '1991-05-21T00:00:00.000Z', '', 'Diploma (OND or Others)', '13 Federal low-cost  Gombe ', '4', 'Abdullahi Umar ', 'Diploma (OND or Others)', '', 'Gombe main market ', '08036867909', '', '10.2865179 11.16439', 'Gombe', 'Gombe', 'CONFIRMED']\n",
      "['ISHAQA', '.', 'ABUBAKAR', 'Male', '08160490577', '07030964202', 'ishaqaabubakar2016@gmail.com', '0764813883', 'Access Bank', '22457608422', '1995-08-17T00:00:00.000Z', '', 'Diploma (OND or Others)', '26 Lnasarwo laying church Bojude nasarawo', '4', 'Musa idris', 'Diploma (OND or Others)', '', ' ', '09064002265', '', '10.5430971 11.0239836', 'Gombe', 'Kwami', 'CONFIRMED']\n",
      "['PAMBI', 'WAMBAI', 'SAMUEL', 'Female', '07085317225', '08062089835', 'samuelpambi0@gmail.com', '2066795746', 'UBA', '22170693956', '1992-09-22T00:00:00.000Z', '', 'Diploma (OND or Others)', '2 Emir palace filiya  Filiya ', '18', 'Timna Samuel Wambai ', 'B.Sc.', '', 'Tunfure Labor Quarters GOMBE STATE ', '07062253882', '', '8.9281919 11.3365466', 'Gombe', 'Shomgom', 'CONFIRMED']\n",
      "['AMINA', 'AMINA', 'SHUAIBU', 'Female', '07066778614', '07066778614', 'shuaibuamina9930@gmail.com', '6033899253', 'Keystone Bank', '22441780002', '1987-11-21T00:00:00.000Z', '', 'Diploma (OND or Others)', '34 adjacent al ansar primary school gombe', '7', 'salisu saidu', 'Diploma (OND or Others)', '', 'anguwa uku', '07065983336', '', '10.2906195 11.1456339', 'Gombe', 'Gombe', 'CONFIRMED']\n",
      "['FATIMA', '-', 'MOHAMMED', 'Female', '08141189902', '08141189902', 'fatimamloddo@gmail.com', '2058526855', 'UBA', '22438055430', '1989-10-01T00:00:00.000Z', '', 'Diploma (OND or Others)', '25 bajoga ward Pdp Street bajoga ward Gombe', '5', 'Suleiman Muhammad Loddo', 'B.Sc.', '', 'FRSC Bajoga unit command behind Union bank Bajoga funakaye LGA', '08035336279', '', '10.295012 11.1682832', 'Gombe', 'Gombe', 'CONFIRMED']\n",
      "['AUWAL', 'KUMO', 'MUHAMMAD', 'Male', '08162800154', '08162800154', 'auwalmuhammed035@gmail.com', '2217824226', 'Zenith Bank', '22510585440', '1997-03-23T00:00:00.000Z', '', 'Diploma (OND or Others)', '05 Barambu street tunfure Gombe ', '5', 'Alh Muhammad ahmed kumo ', 'B.Sc.', '', 'Tumfure Gombe  Gombe state ', '08067734977', '', '10.0523647 11.1980184', 'Gombe', 'Akko', 'CONFIRMED']\n",
      "['ISHIYAKU', 'Nil', 'SABIU', 'Male', '07033643129', '07033643129', 'salbis2020@gmail.com', '0707208215', 'Access Bank', '22385639396', '1991-01-01T00:00:00.000Z', '', 'Diploma (OND or Others)', '05 Daurawa street 1 behind katafila Dam Dukku ', '8', 'Bilyaminu ishiyaku', 'B.Sc.', '', 'Nafada primary school ', '08080614474', '', '10.8220859 10.7652819', 'Gombe', 'Dukku', 'CONFIRMED']\n",
      "['HARUNA', 'SALLAU', 'MUSA', 'Male', '08137353887', '08137353887', 'harunamusakwadon88@gmail.com', '0000813835', 'Jaiz', '22338853288', '1983-03-02T00:00:00.000Z', '', 'Diploma (OND or Others)', 'nill tukulma kwadon kwadon', '4', 'BARR YUSUF ABDULLAHI WAZIRI', 'Masters or Higher', '', 'KWADON BESIDE MATERNITY CLINIC', '08039555519', '', '6.4520192 3.4308096', 'Gombe', 'Yamaltu/Delta', 'CONFIRMED']\n",
      "['IDRIS', 'IDRIS', 'AMINU', 'Male', '07067803830', '07067803830', 'masudinki2016@gmail.com', '0001167559', 'Jaiz', '22207683079', '1982-05-08T00:00:00.000Z', '', 'B.Sc.', '011 Near Nassarawo central masjid Gombe', '6', 'Yahaya sunusi', 'No School', '', 'Gombe main market', '08036286670', '', '10.286863 11.16439', 'Gombe', 'Gombe', 'CONFIRMED']\n",
      "['MERCY', 'SANUSI', 'GURATI', 'Female', '08139014586', '08139014586', 'mercysanusigurati@gmail.com', '0061948326', 'Union Bank', '22434776018', '1995-04-05T00:00:00.000Z', '', 'Diploma (OND or Others)', '02 Kulani Balanga', '8', 'Sanusi gurati ', 'HND', '', 'Gombe abba ', '08139014586', '', '10.8186734 10.7733887', 'Gombe', 'Balanga', 'CONFIRMED']\n",
      "['FARIDA', 'FARIDA', 'MUHAMMAD', 'Male', '07033207462', '07032207462', 'faridamuhammad2021@gmail.com', '0004445685', 'Jaiz', '22330582229', '1986-08-09T00:00:00.000Z', '', 'Diploma (OND or Others)', '50 emir palace street gombe', '8', 'ahmed ', 'B.Sc.', '', ' ', '09123770759', '', '10.2878703 11.14528', 'Gombe', 'Kwami', 'CONFIRMED']\n",
      "['MURJANATU', 'MUSA', 'ABUBAKAR', 'Female', '09033729845', '09033729845', 'mabubakarmurjanatu@gmail.com', '0053434080', 'Sterling Bank', '22388657568', '1992-01-01T00:00:00.000Z', '', 'Diploma (OND or Others)', '10 New gra maimala buni street Gombe', '0', 'Buhari Muhammad dankwambo', 'B.Sc.', '', 'Behind government house gombe bmd links', '08143694839', '', '10.2788124 11.1488544', 'Gombe', 'Gombe', 'CONFIRMED']\n",
      "['ABUBAKAR', 'NILL', 'ADAMU', 'Male', '08026887671', '08039505203', 'galkali.aa@gmail.com', '1605276019', 'FCMB', '22241468151', '1989-03-13T00:00:00.000Z', '', 'Diploma (OND or Others)', '0086 Unguwar lasan bajoga  Bajoga ', '8', 'Bello adamu isa ', 'B.Sc.', '', 'MOE gombe ', '08020525824', '', '10.9180787 11.4781073', 'Gombe', 'Funakaye', 'CONFIRMED']\n",
      "['FARIDA', '.', 'ABDULFATAH', 'Female', '08160219465', '07066361683', 'abdulfatahfarida2@gmail.com', '4398263017', 'FCMB', '22428316602', '1998-10-27T00:00:00.000Z', '', 'Diploma (OND or Others)', '002 Bagadaza Gombe', '0', 'Adamu abdullahi madugu', 'Masters or Higher', '', 'Federal teaching hospital', '08038340417', '', '10.2630933 11.1648083', 'Gombe', 'Akko', 'CONFIRMED']\n",
      "['JAAFAR', 'NAFADA', 'USMAN', 'Male', '08106143318', '08106143318', 'jaafarusman83@gmail.com', '5452919015', 'FCMB', '22482261157', '1992-08-03T00:00:00.000Z', '', 'Diploma (OND or Others)', '272 Unguwar dallati nafada Nafada', '7', 'Abdullahi musa', 'Diploma (OND or Others)', '', 'Nafada Local government secretariat', '08028787874', '', '11.0824014 11.3429285', 'Gombe', 'Nafada/BajogaÂ\\xa0', 'CONFIRMED']\n",
      "['HUSSAINA', 'HASSAN', 'USMAN', 'Female', '08141389578', '08141389578', 'usmanhussaina5@gmail.com', '0006079703', 'Jaiz', '22499337148', '1996-04-12T00:00:00.000Z', '', 'Diploma (OND or Others)', 'No.3 Bolari West Wazirin Bolari Street Gombe', '0', 'Haruna Usman Hassan', 'Secondary School', '', 'Gombe Main Market ', '08032836810', '', '10.2782978 11.1719712', 'Gombe', 'Gombe', 'CONFIRMED']\n",
      "['HASSANA', 'USMAN', 'HASSAN', 'Female', '07035578092', '07035577092', 'hassanausmanhassan@gmail.com', '0434740070', 'GTBank', '22499336930', '1997-08-01T00:00:00.000Z', '', 'Diploma (OND or Others)', 'No.3 Bolari West Wazirin Bolari Street Gombe', '0', 'Haruna Usman Hassan', 'Secondary School', '', 'Gombe Main Market ', '08032836810', '', '10.2789878 11.1725305', 'Gombe', 'Gombe', 'CONFIRMED']\n",
      "['ISMAIL', 'HALADU', 'YAKUBU', 'Male', '08064113734', '08064113734', 'ismailyakubuhaladu@gmail.com', '0778123169', 'Access Bank', '22393027332', '1995-03-27T00:00:00.000Z', '', 'B.Sc.', 'No.12 Misau Street misau street gombe gombe', '4', 'YAKUBU HALADU', 'B.Sc.', '', 'ministry of education gombe', '08063257074', '', '9.0570752 7.471104', 'Gombe', 'Gombe', 'CONFIRMED']\n",
      "['BASHIR', 'BUNU', 'MUHAMMAD', 'Male', '08163373750', '08163373750', 'bashirbunu6337@gmail.com', '3107094365', 'First Bank', '22396661618', '1990-01-22T00:00:00.000Z', '', 'Diploma (OND or Others)', '50 Alheri junction Gombe', '5', 'Muhammad Nasir', 'B.Sc.', '', 'Alheri junction Bolari east', '09122303320', '', '10.2749977 11.2079322', 'Gombe', 'Gombe', 'CONFIRMED']\n",
      "['ISAH', 'None', 'BABAYO', 'Male', '07038384414', '07038384414', 'isahbabayo2013@gmail.com', '3132542374', 'First Bank', '22222016805', '1988-10-10T00:00:00.000Z', '', 'B.Sc.', 'Darazawa Darazawa Gombe', '15', 'Abdullahi Ibrahim', 'B.Sc.', '', 'Jekadafari', '09040995611', '', '10.3046015 11.150588', 'Gombe', 'Gombe', 'CONFIRMED']\n",
      "['comfort', ' ', 'felix', 'Female', '08147501663', '09131929792', 'comfortfelix437@gmail.com', '3171652162', 'First Bank', '22607424254', '1993-10-19T00:00:00.000Z', '', 'Diploma (OND or Others)', '  KAREL KALBULAK ECWA CHURCH  SHONGOM', '50', 'MRS. CICELIA FELIX', 'Diploma (OND or Others)', '', 'Chief Majustry Court Boh SONGOGOM LOCAL GOVERNMENTGombe State', '07068258132', '', '9.0567 7.4969', 'Gombe', 'Shomgom', 'CONFIRMED']\n",
      "['HARUNA', '-', 'ABDULKARIM', 'Male', '08189252525', '08068834881', 'harunaegwe@gmail.com', '0787757393', 'Access Bank', '22437419840', '1994-01-01T00:00:00.000Z', '', 'Diploma (OND or Others)', '029 HONDA VILLA STREET GOMBE', '15', 'HASSAN YAHAYA', 'Diploma (OND or Others)', '', 'GOMBE OLD MARKET GOMBE', '07038346065', '', '9.0570752 7.4645504', 'Gombe', 'Gombe', 'CONFIRMED']\n",
      "['SULAIMAN', 'ISMAIL', 'MUSA', 'Male', '08069081481', '08069081481', 'sulaimanmusaismail999@gmail.com', '0226424715', 'GTBank', '22401939176', '1993-05-10T00:00:00.000Z', '', 'Diploma (OND or Others)', 'NO 23 Honda villa street  GOMBE', '5', 'yakubu abdullahi', 'B.Sc.', '', 'NO 2 GRA GOMBE', '07080460180', '', '10.2941205 11.1442185', 'Gombe', 'Gombe', 'CONFIRMED']\n",
      "['ABUBAKAR', 'FATSUMA', 'BAITU', 'Female', '08062182828', '08137123069', 'fatsumaabubakar95@gmail.com', '0058123381', 'Sterling Bank', '22393963663', '1990-04-05T00:00:00.000Z', '', 'Diploma (OND or Others)', '15 Yarima Abdullahi street  Gombe', '20', 'Umar Abdullahi ', 'B.Sc.', '', 'State High court of justice ', '08034230264', '', '10.2574603 11.1863357', 'Gombe', 'Gombe', 'CONFIRMED']\n",
      "['JIBIR', ' ', 'MUHAMMAD', 'Male', '07081236368', '09033437547', 'muhammadjibir775@gmail.com', '2744785015', 'FCMB', '22227549739', '1982-05-07T00:00:00.000Z', '', 'Diploma (OND or Others)', '277 Unguwar chiroma birin bolewa Nafada', '14', 'Muhammad kwairaga', 'Diploma (OND or Others)', '', 'Gombe state ministry of agriculture', '08030428426', '', '11.0944093 11.3291016', 'Gombe', 'Nafada/BajogaÂ\\xa0', 'CONFIRMED']\n",
      "['YAHAYA', 'Yahaya ', 'YAU', 'Male', '07039648840', '07039648840', 'yahayayau192@gmail.com', '2837788013', 'FCMB', '22336837271', '1988-02-05T00:00:00.000Z', '', 'Diploma (OND or Others)', '05 Sarkin hausawa street  Malam sidi', '8', 'Ibrahim buba', 'B.Sc.', '', 'Chairman of kwami LGA', '07069204889', '', '10.4796799 11.3003902', 'Gombe', 'Kwami', 'CONFIRMED']\n",
      "['UMAR', 'AHMAD', 'SULAIMAN', 'Male', '09036786879', '09036786879', 'umarsahmad1016@gmail.com', '1380477569', 'Access Bank', '22449632712', '1998-09-09T00:00:00.000Z', '', 'B.Sc.', 'Opposite Third Transformer Opposite Third Transformer Nasarawo Quarters Gombe LGA Gombe State Gombe', '9', 'Sulaiman Ahmad', 'Diploma (OND or Others)', '', 'Dadaleso Motor Park Jekadafari Gombe ', '08067542902', '', '10.3289744 9.8311521', 'Gombe', 'Gombe', 'CONFIRMED']\n",
      "['ABDULLAHI', 'HAMZA', 'SULAIMAN', 'Male', '09035688599', '09035688599', 'abdoulshamza@gmail.com', '2195870974', 'UBA', '22459036270', '1999-05-23T00:00:00.000Z', '', 'Diploma (OND or Others)', 'House NO:0254 Emir palace street  Nafada ', '3', 'Umar S Hamza', 'B.Sc.', '', 'Gombe state Local Government ', '08032701827', '', '10.3115556 11.1491725', 'Gombe', 'Nafada/BajogaÂ\\xa0', 'CONFIRMED']\n",
      "['USMAN', 'Usman', 'UMAR', 'Male', '07061671712', '07061671712', 'usmanumar008@gmail.com', '0002291864', 'Jaiz', '22400535801', '1987-02-09T00:00:00.000Z', '', 'Diploma (OND or Others)', '12 Yerima Dukul', '8', 'Ibrahim buba', 'B.Sc.', '', 'Chairman of kwami LGA', '07069204889', '', '10.4687803 11.2957829', 'Gombe', 'Kwami', 'CONFIRMED']\n",
      "['MOHAMMED', 'SADIQ', 'ABUBAKAR', 'Male', '08034252703', '08064257878', 'Habugoje547@gmail.com', '0140339782', 'GTBank', '22394750994', '1989-06-25T00:00:00.000Z', '', 'B.Sc.', 'No 32 kwol post Kwol post kasuwa Billiri', '5', 'Maikudi Muhammad ', 'Diploma (OND or Others)', '', 'Gombe state ministry of health ', '08126825948', '', '10.2987107 11.1711148', 'Gombe', 'Billiri', 'CONFIRMED']\n",
      "['ALIYU', '-', 'LAWAN', 'Male', '08060558010', '08060558010', 'aliyulawan4u@gmail.com', '0110697850', 'GTBank', '22297344605', '1990-11-01T00:00:00.000Z', '', 'Diploma (OND or Others)', 'Nil Jekadafari Quarters Adamu soye street opposite mai lantarki boreliho  Gombe ', '5', 'Yakubu Bappah ', 'Masters or Higher', '', 'Federal College of Education (t) Gombe ', '08024691404', '', '10.3093877 11.1718226', 'Gombe', 'Gombe', 'CONFIRMED']\n",
      "['ASMAU', 'IBRAHIM', 'MUSA', 'Female', '08138359075', '08138359075', 'asmaumusaibrahim@gmail.com', '0221300643', 'GTBank', '22245435768', '1995-07-26T00:00:00.000Z', '', 'B.Sc.', '002 Near dagachis house Gombe', '2', 'Musa Ibrahim Shehu', 'Masters or Higher', '', 'Fce(T)Gombe', '07069442461', '', '9.2428108 12.4663705', 'Gombe', 'Gombe', 'CONFIRMED']\n",
      "['ANITA', 'SMART', 'ATUMAN', 'Female', '08069059043', '08069059043', 'sarakianita@gmail.com', '2059101325', 'UBA', '22339952010', '1986-08-16T00:00:00.000Z', '', 'HND', '111  Shogon housing estate Gombe', '3', 'Gambo lawana saraki', 'HND', '', 'Gl saraki@frsc.gov.ng', '08138782240', '', '10.2903061 11.1247586', 'Gombe', 'Shomgom', 'CONFIRMED']\n",
      "['MUSA', 'Null', 'BUHARI', 'Male', '08062847555', '08062847555', 'buharimusa30@gmail.com', '3108610926', 'First Bank', '22394867564', '1986-08-16T00:00:00.000Z', '', 'Diploma (OND or Others)', '55 Hussain Tokas street Gombe', '11', 'Alh. Umaru Bappari', 'Secondary School', '', 'Idi quarters GOMBE STATE', '07038769694', '', '10.2871604 11.1757162', 'Gombe', 'Gombe', 'CONFIRMED']\n",
      "['HAUWA', 'HAUWA', 'SAIDU', 'Female', '08103084149', '08103084149', 'hauwasaidu890@gmail.com', '0002977564', 'Jaiz', '22435374242', '1988-04-15T00:00:00.000Z', '', 'Diploma (OND or Others)', 'Jd63 Jekadafari old market Gombe', '3', 'Aishatu Nasir Bello', 'Diploma (OND or Others)', '', 'Jekadafari', '08145063786', '', '10.2885204 11.1656005', 'Gombe', 'Gombe', 'CONFIRMED']\n",
      "['YUNUSA', 'Mashafi', 'ABDULLAHI', 'Male', '08160986665', '08160986665', 'abdullahiyunusag918@gmail.com', '2048582072', 'UBA', '22280604060', '1983-02-15T00:00:00.000Z', '', 'Diploma (OND or Others)', '194 Unguwan yerima DOHO', '6', 'Adamu Abdullahi Mashafi', 'Masters or Higher', '', 'North East Development CommissionGombe State', '07061619922', '', '10.4346275 11.2256377', 'Gombe', 'Kwami', 'CONFIRMED']\n",
      "['SAIDU', 'MUHAMMAD', 'TUKUR', 'Male', '07032618110', '07032618110', 'saidumuhammadtukur@gmail.com', '3050325028', 'First Bank', '22360808904', '1988-02-19T00:00:00.000Z', '', 'Diploma (OND or Others)', '07032618110 OPPOSITE GOVERNMENT HOUSE CHIKAIRE LINE JEKADAFARI WARD GOMBE GOMBE STATE GOMBE', '7', 'ABDULAZIZ MUHAMMAD TUKUR', 'Masters or Higher', '', 'MATRIX INTERNATIONAL ACADEMY GOMBE NEAR FCET GOMBECROSS', '08033532969', '', '10.3128507 11.1516496', 'Gombe', 'Gombe', 'CONFIRMED']\n",
      "['ZAHRAU', 'ABDULLAHI', 'ABBAS', 'Female', '09065650540', '09065650540', 'zahraf901@gmail.com', '2059976574', 'UBA', '22269033564', '1991-02-05T00:00:00.000Z', '', 'Diploma (OND or Others)', 'number 10 layin masallacin jumaa kwadom', '8', 'Nura Ahmad', 'Diploma (OND or Others)', '', 'GSM village pantami gombe', '08028380664', '', '10.2598572 11.1569579', 'Gombe', 'Yamaltu/Delta', 'CONFIRMED']\n",
      "['YAHAYA IBRAHIM', 'IBRAHIM', 'ABUBAKAR', 'Male', '07039049718', '07039049718', 'yahayaabubakaribrahim@gmail.com', '0150616611', 'GTBank', '22315764765', '1990-04-07T00:00:00.000Z', '', 'Diploma (OND or Others)', '26 Kasuwan Mata Gombe Gombe', '2', 'Jibrin Abubakar ', 'Diploma (OND or Others)', '', 'Kasuwan Mata Gombe ', '08061291088', '', '10.3036296 11.1686372', 'Gombe', 'Kwami', 'CONFIRMED']\n",
      "['ABDULLAHI', 'ABUBAKAR', 'GARBA', 'Male', '07038210155', '07038210155', 'sabothe802022@gmail.com', '2083843925', 'UBA', '22333638204', '1990-01-01T00:00:00.000Z', '', 'Diploma (OND or Others)', 'JB80 Jigawa nafada local government  Gombe', '5', 'Adamu Garba', 'Diploma (OND or Others)', '', 'JEKADAFARI QUARTERS ', '08065003898', '', '10.2854088 11.1665135', 'Gombe', 'Nafada/BajogaÂ\\xa0', 'CONFIRMED']\n",
      "['MARYAM', 'No ', 'SUNDAY', 'Female', '08170257900', '08101011955', 'maryamsunday09@gmail.com', '0221145004', 'GTBank', '22400014689', '1993-11-11T00:00:00.000Z', '', 'Diploma (OND or Others)', 'others others Gombe', '2', 'YUSUFISHAKU', 'B.Sc.', '', 'others', '08036234342', '', '9.816125 11.3142131', 'Gombe', 'Kaltungo', 'CONFIRMED']\n",
      "['hadiza', 'yakubu', 'haruna', 'Male', '08165181003', '08165181003', 'hadizaharuna331@gmail.com', '3072970000', 'First Bank', '22333159060', '1993-02-24T00:00:00.000Z', '', 'Diploma (OND or Others)', '  EMIRS PALACE KALTUNGO LGA KALTUNGO', '50', 'HARUNA YAKUBU', 'B.Sc.', '', 'BANGANJE KALTUNGO LGA', '09069293001', '', '9.0567 7.4969', 'Gombe', 'Kaltungo', 'CONFIRMED']\n",
      "['AMINU', ' ', 'USMAN', 'Male', '08065003898', '08065003898', 'aminuusman6500@gmail.com', '0732149873', 'Access Bank', '22461227879', '1996-10-03T00:00:00.000Z', '', 'Diploma (OND or Others)', 'JB98 Dadaleso street  Gombe', '5', 'Usman Najib ', 'B.Sc.', '', 'Federal polytechnic kaltungo', '08140734333', '', '10.2837427 11.1548345', 'Gombe', 'Gombe', 'CONFIRMED']\n",
      "['ALIYU', ' ', 'MUSA', 'Male', '08101165349', '08137867301', 'aleekane223@gmail.com', '0611425633', 'GTBank', '22354357072', '1994-10-29T00:00:00.000Z', '', 'B.Sc.', '86 Layin Sarki Liji/Yamaltu Deba', '0', 'Abdulkarim Sani', 'Diploma (OND or Others)', '', 'C.G.C', '08068903786', '', '10.2733956 11.2242212', 'Gombe', 'Yamaltu/Delta', 'CONFIRMED']\n",
      "['HAUWA', 'HARUNA', 'MUHAMMAD', 'Female', '07068057581', '07068057581', 'hauwamuhammadharuna99@gmail.com', '2065195473', 'UBA', '22316405357', '1995-09-12T00:00:00.000Z', '', 'Diploma (OND or Others)', '5 Layin gwannan Yobe streetTudun Wada Gombe', '3', 'Mutakka M. Sharubutu', 'Masters or Higher', '', 'Layin Yangoromain market Gombe', '08066010321', '', '10.2813381 11.1765159', 'Gombe', 'Gombe', 'CONFIRMED']\n",
      "['ABDULLAHI', 'Lamido ', 'LAMIDO', 'Male', '08135976521', '08135976521', 'lamidoabdullahi@gmail.com', '3299882019', 'FCMB', '22313232039', '1991-06-14T00:00:00.000Z', '', 'B.Sc.', 'Gabukka Gabukka near primary school  Gombe', '8', 'Lamido Muhammad ', 'B.Sc.', '', 'Police headquarter Gombe Gombe State.', '08027245793', '', '10.3048506 11.1732385', 'Gombe', 'Akko', 'CONFIRMED']\n",
      "['MUHAMMED', 'SHUAIBU', 'MUSA', 'Male', '07031967668', '07031967668', 'muhammedmusahuaibu@gmail.com', '2046812748', 'UBA', '22153597853', '1990-10-19T00:00:00.000Z', '', 'Diploma (OND or Others)', '13 Manawavhi street Gombe/pantami', '10', 'Dahiru musa', 'Secondary School', '', 'Liji', '08066043311', '', '10.2910439 11.1831497', 'Gombe', 'Yamaltu/Delta', 'CONFIRMED']\n",
      "['UMAR', 'MUHAMMAD', 'IBRAHIM', 'Male', '07036591933', '07036591933', 'uim0824@gmail.com', '0001059591', 'Jaiz', '22212983968', '1993-02-06T00:00:00.000Z', '', 'Diploma (OND or Others)', '0257 Gandu Street Gombe', '4', 'Muhammad Ibrahim Abubakar ', 'B.Sc.', '', 'Gombe main market', '07087471703', '', '10.295518 11.1735924', 'Gombe', 'Gombe', 'CONFIRMED']\n",
      "['ABRAHAM', 'Abraham', 'THOMPSON', 'Male', '08038846878', '08038846878', 'thompsonabraham87@gmail.com', '0082871595', 'Sterling Bank', '22221832255', '1987-06-27T00:00:00.000Z', '', 'B.Sc.', 'N/A New GRA Gombe Gombe', '4', 'Victor Thompson', 'B.Sc.', '', 'N/A', '07036168397', '', '10.2854456 11.1654518', 'Gombe', 'Shomgom', 'CONFIRMED']\n",
      "['AISHATU', 'AISHATU ', 'AHMAD', 'Female', '08142995128', '08142995128', 'aishatuahmad5128@gmail.com', '2198686631', 'UBA', '22623667598', '1998-07-08T00:00:00.000Z', '', 'Diploma (OND or Others)', '1 Opp modidbo Bubayaro Islamic Center  Gombe', '5', 'Maryam Adamu ', 'Diploma (OND or Others)', '', 'Social welfare ', '08097059006', '', '10.2817762 11.1763189', 'Gombe', 'Gombe', 'CONFIRMED']\n",
      "['ALIYU', ' ', 'IBRAHIM', 'Male', '08146282925', '08146282925', 'imraliyu1@gmail.com', '3132787500', 'First Bank', '22504696002', '1989-08-01T00:00:00.000Z', '', 'Diploma (OND or Others)', '  TERMANA  KALTUNGO', '50', 'UMAR IBRAHIM', 'Secondary School', '', ' ', '08168764010', '', '9.0567 7.4969', 'Gombe', 'Kaltungo', 'CONFIRMED']\n",
      "['SHEHU', ' ', 'ALI', 'Male', '07031669455', '07031669455', 'shehuali014@gmail.com', '2015309455', 'First Bank', '22357624744', '1981-08-02T00:00:00.000Z', '', 'B.Sc.', 'No 3 Pantami Malam Kuro Gombe', '10', 'Ibrahim Ali', 'Secondary School', '', 'Pantami Malam kuri', '08026313454', '', '10.2598691 11.1686671', 'Gombe', 'Gombe', 'CONFIRMED']\n",
      "['ABDULLAHI', '-', 'MOHAMMED', 'Male', '07053934232', '07053934232', 'abdullahimohammed317@gmail.com', '2065567526', 'UBA', '22178205621', '1985-09-06T00:00:00.000Z', '', 'Diploma (OND or Others)', '053 EMIRE PALACE KWAMI GOMBE', '5', 'MUHAMMAD SURAJ TAHIR', 'Diploma (OND or Others)', '', 'GOMBE MICROFINANCE BANK KUMO', '07060938343', '', '9.0570752 7.471104', 'Gombe', 'Kwami', 'CONFIRMED']\n",
      "['SAFIYANU', 'DUKKU', 'SULAIMAN', 'Male', '07038103581', '07038103581', 'ssdukku2021@gmail.com', '2085103463', 'UBA', '22356022804', '1992-11-21T00:00:00.000Z', '', 'B.Sc.', '200 Balu Quarters Dukku Dukku', '15', 'Muniru Aliyu', 'B.Sc.', '', 'Dukku local Government Education Authority', '07063858799', '', '10.8195553 10.7779711', 'Gombe', 'Dukku', 'CONFIRMED']\n",
      "['HASSAN', 'RAMATU', 'CHADI', 'Female', '08035004641', '08035004641', 'ramatuchadi@gmail.com', '3067269015', 'FCMB', '22369185824', '1991-01-01T00:00:00.000Z', '', 'Diploma (OND or Others)', '2 Behind General Hospital  Bajoga ', '15', 'Sani Garba (sani PA)', 'Masters or Higher', '', 'Government house gombe state', '08037956982', '', '10.8540006 11.4372862', 'Gombe', 'Funakaye', 'CONFIRMED']\n",
      "['ELKANA', '-', 'ELISHA', 'Male', '08107019169', '08107019169', 'elkanaelisha1@gmail.com', '0784569555', 'Access Bank', '22411958475', '1994-04-02T00:00:00.000Z', '', 'Diploma (OND or Others)', 'No. 5 yiri Yiri primary school  Kaltungo ', '2', 'Eli Elisha', 'Diploma (OND or Others)', '', 'Adamawa State jimeta division ', '09027373616', '', '10.2870649 11.1286503', 'Gombe', 'Kaltungo', 'CONFIRMED']\n",
      "['YAKUBU', '', '', 'SANI', 'Male', '08031123633', '08031123633', 'saniyakubu3633@gmail.com', '0246636723', 'GTBank', '22348233979', '1985-01-01T00:00:00.000Z', '', 'Diploma (OND or Others)', '10 Mele street  Gombe ', '6', \"Asma'u Inuwa Yahaya\", 'Masters or Higher', '', 'New GRA', '08027082986', '', '10.2898329 11.1583735', 'Gombe', 'Gombe', 'CONFIRMED']\n",
      "['ALKASSIM', '-', 'ABUBAKAR', 'Male', '08066116449', '08066116449', 'alkasimabubakar111@gmail.com', '0001711529', 'Jaiz', '22314814232', '1988-10-10T00:00:00.000Z', '', 'B.Sc.', '046 EMIRE PALACE BOJUDE GOMBE', '5', 'ALIYU ABUBAKAR', 'Diploma (OND or Others)', '', 'GOMBE WOOD MARKET GOMBE', '08038287523', '', '9.0570752 7.471104', 'Gombe', 'Kwami', 'CONFIRMED']\n",
      "['HALIMA', 'UMAR', 'SALISU', 'Female', '08064798166', '08138387755', 'halimasalisuumar0202@gmail.com', '2070502014', 'FCMB', '22288680437', '1994-06-04T00:00:00.000Z', '', 'Diploma (OND or Others)', 'House no 25 aliyu modibbo street Aliyu modibbo street  Gombe ', '0', 'Abdullahi salisu', 'B.Sc.', '', 'House no 25 aliyu modibbo street ', '08036437875', '', '10.2805117 11.1484647', 'Gombe', 'Gombe', 'CONFIRMED']\n",
      "['LADIFAT', 'MAHMOUD ', 'BABA', 'Female', '07065721016', '07065721016', 'mahmoudladifatbaba@gmail.com', '1381390001', 'Access Bank', '22215010074', '1993-04-27T00:00:00.000Z', '', 'B.Sc.', '12 Unguwa uku Gombe', '50', 'Haruna Abubakar', 'HND', '', 'Unguwa uku', '07061371766', '', '10.288288288288289 11.188909146597013', 'Gombe', 'Kwami', 'CONFIRMED']\n",
      "['HADIZA', 'IDAYA', 'BAPPAH ', 'Female', '07068794141', '07068794141', 'idayahadiza1@gmail.com', '0020750014', 'Stanbic IBTC', '22401936225', '1996-06-26T00:00:00.000Z', '', 'Diploma (OND or Others)', 'DC34  Idayan gombe Behind gombe emirs palace Gombe ', '0', 'Muhammad bappah idaya ', 'Diploma (OND or Others)', '', 'Federal university kashere gombe ', '07031964444', '', '10.2898221 11.1686372', 'Gombe', 'Gombe', 'CONFIRMED']\n",
      "['HAUWA', 'NUHU', 'DOMA', 'Female', '07084444289', '07065605872', 'hauwanuhu860@gmail.com', '2063141531', 'UBA', '22445779824', '1988-07-17T00:00:00.000Z', '', 'Secondary School', 'No.3 Doma Street  Gombe', '10', 'Yusuf Muhammad Doma ', 'Masters or Higher', '', 'Area 3 Garki Abuja', '08033375468', '', '10.2860342 11.1484647', 'Gombe', 'Gombe', 'CONFIRMED']\n",
      "['MAIMUNATU', 'BORKONO', 'USMAN', 'Female', '08038224174', '08038224174', 'munariborkono@gmail.com', '0027216762', 'GTBank', '22245264856', '1982-11-01T00:00:00.000Z', '', 'B.Sc.', '10 BARRACKS ROAD GOMBE', '4', 'MOHAMMED IBRAHIM', 'Masters or Higher', '', 'LAFARGE/ASHAKACEM', '08023622252', '', '9.0570752 7.471104', 'Gombe', 'Akko', 'CONFIRMED']\n",
      "['YUSUF', 'BADAMASI', 'ALIYU', 'Male', '08037600008', '08037600008', 'yusufaliyub@gmail.com', '0151798934', 'GTBank', '22224059543', '1998-10-01T00:00:00.000Z', '', 'Diploma (OND or Others)', '015 Bolari fillin kwallo Gombe Gombe', '3', 'Ali Badamasi ', 'Diploma (OND or Others)', '', 'FCMB Bank Ashaka', '08027991461', '', '10.279517 11.1672214', 'Gombe', 'Gombe', 'CONFIRMED']\n",
      "['MUSA', 'ABDULLAHI', 'MOHAMMED', 'Male', '08063669056', '08063669056', 'musaguruza08063669056@gmail.com', '0109592755', 'GTBank', '22197852552', '1983-11-10T00:00:00.000Z', '', 'Diploma (OND or Others)', '13 Abuja state low-cost Gombe  Gombe ', '7', 'Sani sabo', 'Masters or Higher', '', 'Subeb Gombe ', '08036247468', '', '10.252252252252251 11.169323741587181', 'Gombe', 'Yamaltu/Delta', 'CONFIRMED']\n",
      "['USMAN', '-', 'SALEH', 'Male', '08136699189', '08136699189', 'salehuthman5@gmail.com', '0016652807', 'Stanbic IBTC', '22172978385', '1990-02-02T00:00:00.000Z', '', 'Diploma (OND or Others)', 'No.12 Honda villa streets  Gombe ', '9', 'Yasir Adamu', 'Secondary School', '', 'Opposite tumfure police stations', '08035878954', '', '10.2906195 11.1456339', 'Gombe', 'Gombe', 'CONFIRMED']\n",
      "['MUSTAPHA', '.', 'HARUNA', 'Male', '08134795490', '08134795490', 'mustaphaharuna90@gmail.com', '2061865860', 'UBA', '22176241038', '1990-10-17T00:00:00.000Z', '', 'Diploma (OND or Others)', '34 Biu road Kwadon ', '4', 'Sani sabo', 'Masters or Higher', '', 'Subeb Gombe', '08036247468', '', '10.252252252252251 11.169323741587181', 'Gombe', 'Yamaltu/Delta', 'CONFIRMED']\n",
      "['HADIZA', 'SANI', 'NUHU', 'Female', '08031166757', '08031166757', 'hadizamohammed757@gmail.com', '0005652521', 'Access Bank', '22274432255', '1982-05-17T00:00:00.000Z', '', 'Diploma (OND or Others)', 'No.16 Doma streets Gombe ', '5', 'Mohammed  ismeel Abdulhamid ', 'Masters or Higher', '', 'Dan gote cement company ', '08082742522', '', '10.2874394 11.147757', 'Gombe', 'Gombe', 'CONFIRMED']\n",
      "['UMAR', 'JAAFAR', 'USMAN', 'Male', '08031176920', '08031176920', 'umarusmanjaafar6920@gmail.com', '0696407029', 'GTBank', '22244731104', '1992-02-02T00:00:00.000Z', '', 'Diploma (OND or Others)', '3 Arfat hospital street Gombe', '5', 'Usman jaafar', 'Diploma (OND or Others)', '', 'Gombe State Government House', '07033783607', '', '10.2761683 11.2040374', 'Gombe', 'Akko', 'CONFIRMED']\n",
      "['hassan', 'abdulazeez', 'garba', 'Male', '07060725789', '09029590323', 'hassangarba6875@gmail.com', '1472589123', 'Access Bank', '22389420721', '1996-08-28T00:00:00.000Z', '', 'B.Sc.', '10 Kwanar Alheri bread Savannah group of school street Gombe', '6', 'Zaharaddeen Abdullahi', 'Masters or Higher', '', 'Department of Chemical Sciences Federal University of kashere Gombe State', '08067205774', '', '11.7835704 9.9442374', 'Gombe', 'Gombe', 'CONFIRMED']\n",
      "['HAFSAT', 'GIMBA', 'MOHAMMED', 'Female', '09061761954', '09061761954', 'hafsatmuhammadgimba2023@gmail.com', '6030664920', 'Keystone Bank', '22564668540', '1992-05-23T00:00:00.000Z', '', 'Diploma (OND or Others)', '15 BOLARI WEST IDAYAN BOLARI GOMBE', '3', 'IDIRS MUHAMMAD GIMBA', 'B.Sc.', '', 'NIMC OFFICE GOMBE', '08061215361', '', '10.2850821 11.1559463', 'Gombe', 'Gombe', 'CONFIRMED']\n",
      "['MABARUKATU', 'F', 'UMAR', 'Female', '08108710573', '08108710573', 'umarfetumabaruka@gmail.com', '0060110215', 'Access Bank', '22209377275', '1993-02-17T00:00:00.000Z', '', 'Diploma (OND or Others)', '109 Dakum  Gombe', '5', 'Ibrahim haruna Ibrahim ', 'B.Sc.', '', 'Dadinkowa hinna', '07066464245', '', '11.9156414 8.5358833', 'Gombe', 'Yamaltu/Delta', 'CONFIRMED']\n",
      "['ZAKARIA', 'GARBA', 'BABALE', 'Male', '08036720789', '08036720789', 'zakarigbabale@yahoo.com', '0812650534', 'Access Bank', '22331493696', '1991-08-09T00:00:00.000Z', '', 'B.Sc.', 'No. 19 Latin Fada Nafada', '2', 'Aliyu Babale', 'Masters or Higher', '', 'Gombe State University ', '07035695931', '', '11.725795757967465 11.953809801500247', 'Gombe', 'Nafada/BajogaÂ\\xa0', 'CONFIRMED']\n",
      "['ALI ', 'Daru', 'IBRAHIM', 'Male', '07067677826', '07067677826', 'ibrahimaliyubajoga@gmail.com', '2079709440', 'UBA', '22227557073', '1993-02-28T00:00:00.000Z', '', 'B.Sc.', '0502 Sabon layi Bajoga  Bajoga ', '6', 'Indo Ali ', 'B.Sc.', '', 'Ashaka Medical center ', '08064714521', '', '10.9291078 11.4778365', 'Gombe', 'Funakaye', 'CONFIRMED']\n",
      "['IDRISA', 'ATIKU', 'DALHA', 'Male', '07060983015', '07060983015', 'idrisadalhaatiku@gmail.com', '3046698829', 'Polaris bank', '22385701150', '1985-02-08T00:00:00.000Z', '', 'Diploma (OND or Others)', '60 Chikaire motors  Gombe', '6', 'Nasiru dalha', 'B.Sc.', '', 'Opposite government house', '08033673119', '', '10.2629527 11.1672214', 'Gombe', 'Gombe', 'CONFIRMED']\n",
      "['SHUAIBU', 'Nil', 'ABUBAKAR', 'Male', '07036489541', '07036489541', 'shuaibu070abubakar@gmail.com', '0692214587', 'Access Bank', '22315152784', '1987-01-01T00:00:00.000Z', '', 'Diploma (OND or Others)', '15 Shengete Street Deba  Deba ', '12', 'Yunusa Bukar Muhammad ', 'B.Sc.', '', 'Federal Teaching hospital Gombe ', '08032507998', '', '10.2097104 11.3886774', 'Gombe', 'Yamaltu/Delta', 'CONFIRMED']\n",
      "['ZAINAB ', 'ZAINAB', 'IBRAHIM', 'Female', '08062076058', '08062076058', 'zainabibrahimgombe58@gmail.com', '0464027927', 'GTBank', '22402265652', '1991-02-01T00:00:00.000Z', '', 'Diploma (OND or Others)', '488 PANTAMI Bus Stop Gombe Gombe', '3', 'MOHAMMED MUSA', 'Diploma (OND or Others)', '', 'PANTAMI BUS STOP', '08032498015', '', '10.2694723 11.1682832', 'Gombe', 'Gombe', 'CONFIRMED']\n",
      "['usman', ' ', 'ibrahim', 'Male', '07089107443', '09049485737', 'usmanibrahimnafada32@gmail.com', '3119242947', 'First Bank', '22450484670', '1993-03-02T00:00:00.000Z', '', 'Diploma (OND or Others)', '255 Gamuya junction Nafada', '5', 'Ishaka malam yahya', 'B.Sc.', '', 'Css nafada', '07088164722', '', '11.09544 11.3294561', 'Gombe', 'Nafada/BajogaÂ\\xa0', 'CONFIRMED']\n",
      "['KHALID', ' ', 'ABDULHAMID', 'Male', '07081320861', '07081320861', 'khalidabdulhamid38@gmail.com', '0761083131', 'Access Bank', '22453411446', '1994-04-15T00:00:00.000Z', '', 'Diploma (OND or Others)', '007 Ubandoma quaters Nafada', '14', 'Musa Auwal Abdulhamid', 'B.Sc.', '', 'Primary health care nafada', '08029922471', '', '11.0944093 11.3291016', 'Gombe', 'Nafada/BajogaÂ\\xa0', 'CONFIRMED']\n",
      "['ABUBAKAR', 'Muhammad', 'ABDULKADIR', 'Male', '08107304245', '08107304245', 'abdulkadirabubakar4245@gmail.com', '6032616741', 'Keystone Bank', '22564157800', '2000-07-20T00:00:00.000Z', '', 'Secondary School', 'Pdp street 038  Pdp street behind prison yard gombe Gombe', '0', 'Muslihu abubakar', 'Diploma (OND or Others)', '', 'Inex cleaners limited new GRA gombe', '07033933167', '', '10.2973668 11.1700529', 'Gombe', 'Gombe', 'CONFIRMED']\n",
      "['ADAMU ', 'BABAYO', 'MUHAMMAD', 'Male', '08147908094', '08147908094', 'muhammadadamu303@gmail.com', '0004634742', 'Jaiz', '22234257810', '1995-01-01T00:00:00.000Z', '', 'HND', '12 Behind zainab bulkacuwa hospital gombe opposite alh Abdullahi maimanja residence  Gombe', '6', 'Adamu Babayo Usman ', 'Masters or Higher', '', 'Behind zainab bulkacuwa hospital gombe ', '07034949185', '', '10.2928195 11.1916458', 'Gombe', 'Gombe', 'CONFIRMED']\n",
      "['YAHAYA', 'Nill', 'ABDULKADIR', 'Male', '08134152684', '08134152684', 'abdulkadiryahaya5510@gmail.com', '2242858540', 'UBA', '22313252598', '1988-01-01T00:00:00.000Z', '', 'Diploma (OND or Others)', '001 Gamawa Tukulma Tukulma', '10', 'Alh Musa Habibu Bushasha', 'B.Sc.', '', 'SA Protocol GovernorGovernment House Gombe', '08039283300', '', '10.2773096 11.1612047', 'Gombe', 'Akko', 'CONFIRMED']\n",
      "['ASIYA', 'YARIMA', 'MOHAMMAD', 'Female', '08067205157', '08067205157', 'asiyamuhammadyarima@gmail.com', '1423361277', 'Access Bank', '22397478291', '1996-09-11T00:00:00.000Z', '', 'Diploma (OND or Others)', 'Nill Yusuf metama Sule street  Gombe/gombe ', '4', 'Danladi Abdulkadir', 'B.Sc.', '', 'Adjacent to Federal Secretariat Along Gashua Road Damaturu.', '08032731392', '', '10.2725305 11.1796099', 'Gombe', 'Gombe', 'CONFIRMED']\n",
      "['ASHIRU', 'HAMZA', 'AUWAL', 'Male', '07039040133', '07039040133', 'Ashir76.aah@gmail.com', '0231005907', 'GTBank', '22353203415', '1988-01-01T00:00:00.000Z', '', 'HND', 'Nil A A Haruna street  Gombe', '4', 'Salisu Auwal ', 'B.Sc.', '', 'General Hospital Gombe ', '08034456206', '', '10.2801213 11.169699', 'Gombe', 'Gombe', 'CONFIRMED']\n",
      "['Bilyaminu', '-', 'AHMADU', 'Male', '07036160544', '07036160544', 'bilyaminuahmadu02@gmail.com', '3061510882', 'First Bank', '22323963138', '1988-12-10T00:00:00.000Z', '', 'Diploma (OND or Others)', 'NON WAZIRI STREET KALARING KALTUNGO', '50', 'NASIRU AHMADU', 'B.Sc.', '', 'LEA', '08065856627', '', '9.0567 7.4969', 'Gombe', 'Kaltungo', 'CONFIRMED']\n",
      "['MOHAMMED', 'ABUBAKAR', 'YAHAYA', 'Male', '07068178858', '07068178858', 'yahayacs4u@gmail.com', '1476348096', 'Access Bank', '22370750648', '1990-01-01T00:00:00.000Z', '', 'B.Sc.', '1 Kubalu street.   Gombe', '5', 'Muhammad Kabeer', 'B.Sc.', '', 'FGC Billiri Gombe', '07062519077', '', '10.2599428 11.1544806', 'Gombe', 'Gombe', 'CONFIRMED']\n",
      "['NURA', ' ', 'AHMAD', 'Male', '08039320734', '08039320734', 'ahmadnura3030@gmail.com', '3125833566', 'First Bank', '22499572783', '1997-02-16T00:00:00.000Z', '', 'Diploma (OND or Others)', '025 Bala Mai kwalta street  Gombe', '3', 'Salisu Muhammad ', 'Diploma (OND or Others)', '', 'Kasuwan Mata quarters', '08169273147', '', '10.3035434 11.1644511', 'Gombe', 'Gombe', 'CONFIRMED']\n",
      "['ABUBAKAR', 'ALIYU', 'IBRAHIM', 'Male', '07039169857', '07039169857', 'abibrahim3916@gmail.com', '0160594789', 'GTBank', '22288984720', '1991-04-02T00:00:00.000Z', '', 'Diploma (OND or Others)', 'jjenjel kwadon  Gombe state Gombe ', '8', 'umar Ibrahim ', 'HND', '', 'comprehensive day secondary school kwadon ', '08063539985', '', '10.2757129 11.2961373', 'Gombe', 'Yamaltu/Delta', 'CONFIRMED']\n",
      "['ROBINSON', 'MAI', 'REUBEN', 'Male', '08187511930', '09067110214', 'robinsonreubenmai1@gmail.com', '3100927554', 'First Bank', '22369000750', '1996-09-09T00:00:00.000Z', '', 'Diploma (OND or Others)', 'NON BANGANJE KALTUNGO KALTUNGO', '50', 'REUBEN MAI ', 'Diploma (OND or Others)', '', 'NIGERIAN POLICE ', '08036899015', '', '9.0567 7.4969', 'Gombe', 'Kaltungo', 'CONFIRMED']\n",
      "['ANAS', 'ADAMU', 'HASSAN', 'Male', '07068980584', '08169273147', 'salisumuhammadaliyu00@gmail.com', '0429915511', 'GTBank', '22494321814', '1992-08-14T00:00:00.000Z', '', 'Diploma (OND or Others)', '023 Opposite Bala Mai kwalta street  Gombe', '3', 'NURA AHMED ', 'Diploma (OND or Others)', '', 'JEKADAFARI QUARTERs GOMBE STATE ', '08084434425', '', '10.2884768 11.1576657', 'Gombe', 'Gombe', 'CONFIRMED']\n",
      "['JAMILA', 'JAMILA', 'BALA', 'Female', '08025711114', '08025711114', 'jamilabala1114@gmail.com', '0735470747', 'Access Bank', '22440196163', '1985-05-16T00:00:00.000Z', '', 'Diploma (OND or Others)', 'House no 17 abacha road jekadafari Abacha road Gombe', '2', 'Shamwil bala maina', 'B.Sc.', '', 'New commercial Area Gombe', '08025711113', '', '10.2891058 11.1594352', 'Gombe', 'Gombe', 'CONFIRMED']\n",
      "['AISHA', 'BABANGIDA', 'ABUBAKAR', 'Female', '08065403424', '08065403424', 'aishatuabubakarbabangida515@gmail.com', '0030238771', 'Stanbic IBTC', '22410140613', '1990-11-19T00:00:00.000Z', '', 'Diploma (OND or Others)', 'NIL  A.A Haruna street near Government house Gombe.  Gombe ', '4', \"Adamu Shu'aibu\", 'B.Sc.', '', 'Bolari west near A.A Haruna street. ', '08067027173', '', '10.2823271 11.1658057', 'Gombe', 'Gombe', 'CONFIRMED']\n",
      "['HARIS', '.', 'MUSA', 'Male', '08031151546', '08031151546', 'harismusa297@gmail.com', '0002330208', 'Jaiz', '22260497808', '1990-06-17T00:00:00.000Z', '', 'Diploma (OND or Others)', '23 Kalchingi road Yamaltu/Deba', '0', 'Sani sabo', 'Masters or Higher', '', 'Gombe subeb ', '08036247468', '', '10.254684 11.1668675', 'Gombe', 'Yamaltu/Delta', 'CONFIRMED']\n",
      "['UMAR', 'UMAR', 'MUHAMMAD', 'Male', '08162317668', '08162317668', 'umarmbumar@gmail.com', '0234365727', 'GTBank', '22328542248', '1993-09-14T00:00:00.000Z', '', 'Diploma (OND or Others)', 'No. 5 GRA Rd. Opp Govt. House Gombe Chikare Street Jekadafari Gombe Gombe', '4', 'Muhammad Umar', 'B.Sc.', '', 'Gombe State Ministry of Education Gombe', '08107675219', '', '6.5765376 3.3521664', 'Gombe', 'Gombe', 'CONFIRMED']\n",
      "['FAIZA', 'Nil', 'HARUNA', 'Female', '08062073909', '08062073909', 'faizaharuna61@gmail.com', '0811874920', 'Access Bank', '22247135743', '1994-03-02T00:00:00.000Z', '', 'B.Sc.', 'Barunde Quarters Gombe 43 Layin Mai anguwa kancha kancha Barunde Quarters Gombe Gombe ', '5', 'Alh Haruna Jatau', 'HND', '', 'Kudu kwaya ', '08033874636', '', '10.2665171 11.1838577', 'Gombe', 'Billiri', 'CONFIRMED']\n",
      "['ADAMU', 'TURAKI', 'AHMED', 'Male', '08038171641', '08038171641', 'adamut16@gmail.com', '0173754819', 'GTBank', '22309683340', '1986-02-18T00:00:00.000Z', '', 'Diploma (OND or Others)', '101 Namadi Sambo street Jekadafari Gombe ', '5', 'Abdulrasheed Umar Kurba ', 'Diploma (OND or Others)', '', 'Gombe State water Board', '08026212311', '', '10.2836323 11.1580196', 'Gombe', 'Nafada/BajogaÂ\\xa0', 'CONFIRMED']\n",
      "['TANKO', '-', 'LADIDI', 'Female', '08064703661', '08064703661', 'Ladiditanko21@gmail.com', '3041757434', 'First Bank', '22310672340', '1987-06-06T00:00:00.000Z', '', 'Diploma (OND or Others)', 'Nil Near old palace.  Gombe ', '4', 'Mr. Tanko', 'Secondary School', '', 'Kalorgu area of kaltungo. ', '08139614725', '', '10.2882314 11.1647439', 'Gombe', 'Kaltungo', 'CONFIRMED']\n",
      "['ABDULHAMMID', '-', 'MOHAMMED', 'Male', '07066721916', '07066721916', 'abdulhammid2020@gmail.com', '2248901967', 'UBA', '22398361664', '1996-03-13T00:00:00.000Z', '', 'B.Sc.', '023 opp Market  Deba', '2', 'Abdullahi yunusa Adamu', 'B.Sc.', '', 'Gombe Near Alheri Bread ', '08031121823', '', '9.0570752 7.471104', 'Gombe', 'Yamaltu/Delta', 'CONFIRMED']\n",
      "['NAZIRU', 'BAPPI', 'BELLO', 'Male', '08061159143', '08061159143', 'nazeerbb@gmail.com', '0153182230', 'GTBank', '22332959308', '1994-03-01T00:00:00.000Z', '', 'B.Sc.', '27 Danjuma goje street Gombe', '4', 'Mohammed Mustapha bello', 'B.Sc.', '', 'ABA bappi interprises biu road', '08037085868', '', '10.3081669 11.1447261', 'Gombe', 'Gombe', 'CONFIRMED']\n",
      "['ALIYU', 'ALIYU', 'UMAR', 'Male', '08160196018', '08160196018', 'aliyuumar6019@gmail.com', '3079806188', 'First Bank', '22331157189', '1985-05-12T00:00:00.000Z', '', 'Diploma (OND or Others)', '060 SHEHUN BUREMA STREET GOMBE GOMBE', '5', 'MUHAMMAD UMAR MANI', 'Diploma (OND or Others)', '', 'FEDERAL TEACHING HOSPITAL GOMBE', '08038951607', '', '9.060352 7.45472', 'Gombe', 'Gombe', 'CONFIRMED']\n",
      "['ALIYU', 'GIDADO', 'MOHAMMAD', 'Male', '07032040820', '07032040820', 'mgidado443@gmail.com', '0169670642', 'GTBank', '22293399889', '1998-04-01T00:00:00.000Z', '', 'HND', 'No. 31 BCGA QUARTER ALONG BASHAR STREET GOMBE  GOMBE ', '5', 'Mohammed Gidado ', 'Masters or Higher', '', 'No.3 GOMBE STATE BUREAU OF STATISTICS FEDERAL LOWCOST GOMBE ', '08026501140', '', '10.2761683 11.2040374', 'Gombe', 'Akko', 'CONFIRMED']\n",
      "['NURA', 'MUHAMMAD', 'SANI', 'Male', '07061992697', '07061992697', 'nuramuhammad07061@gmail.com', '3066563560', 'First Bank', '22344480544', '1993-09-11T00:00:00.000Z', '', 'B.Sc.', '11 Alh baushe street Lambam', '7', 'HADIZA adamu', 'B.Sc.', '', 'Kasuwan mata street ', '09060062834', '', '10.2933862 11.1852737', 'Gombe', 'Yamaltu/Delta', 'CONFIRMED']\n",
      "['IDRIS', 'ABUBAKAR', 'ABUBAKAR', 'Male', '08081122657', '08081122657', 'idrisabubakar1054@gmail.com', '3043368258', 'First Bank', '22334383372', '1988-07-30T00:00:00.000Z', '', 'B.Sc.', '0216 Gandu Street Gombe', '6', 'Umar Abubakar', 'Secondary School', '', 'Gombe main market', '08034139864', '', '10.2987107 11.1711148', 'Gombe', 'Gombe', 'CONFIRMED']\n",
      "['IBRAHIM', '.', 'ABDULLAHI', 'Male', '07035954872', '07035954872', 'Aigcs1001@gmail.com', '2260576356', 'Zenith Bank', '22324511231', '1992-06-20T00:00:00.000Z', '', 'B.Sc.', 'Jauro kuna 01 Jalo waziri street  Gombe', '3', 'Abdu Danjuma Ahmed ', 'B.Sc.', '', 'NTA', '08035827043', '', '10.3122112 11.1700529', 'Gombe', 'Gombe', 'CONFIRMED']\n",
      "['YUSUF', 'ALI', 'SULAIMAN', 'Male', '09024562022', '09024562022', 'yusufsulaiman766@gmail.com', '2216595356', 'UBA', '22367665782', '1996-06-16T00:00:00.000Z', '', 'B.Sc.', 'Block no 2 behind gdss gandu Abba sarkin dabe street  Gombe town ', '4', 'Aminu Sulaiman ', 'B.Sc.', '', 'Along shehu abubakar Way ', '08060807055', '', '10.2882665 11.1537729', 'Gombe', 'Gombe', 'CONFIRMED']\n",
      "['ABBA', 'MUSA', 'MOHAMMED', 'Male', '07031899358', '07031899358', 'abbamuhammadmiyabe@gmail.com', '3050765705', 'First Bank', '22315822632', '1992-04-14T00:00:00.000Z', '', 'B.Sc.', '5 Bajoga west adjacent chatolic church  Bajoga Gombe State', '5', 'Bajoga Aisha Mohammed ', 'Diploma (OND or Others)', '', ' ', '08080084835', '', '10.2621769 11.169699', 'Gombe', 'Funakaye', 'CONFIRMED']\n",
      "['AHMED', '-----', 'GARBA', 'Male', '08038884547', '08038884547', 'agknafsite@gmail.com', '3051574452', 'First Bank', '22259261452', '1991-04-11T00:00:00.000Z', '', 'B.Sc.', 'Adjacent to GDSSS Bajoga GDSSS Street Bajoga', '8', 'Garba Kawuwa Nafada', 'No School', '', 'Ashaka Medical Centre', '08086733834', '', '6.6624785 3.3828293', 'Gombe', 'Funakaye', 'CONFIRMED']\n",
      "['NASIRU', '*', 'MUHAMMAD', 'Male', '08163927867', '08163927867', 'mohammednasiru998@gmail.com', '6019963127', 'Keystone Bank', '22399965153', '1996-04-07T00:00:00.000Z', '', 'Diploma (OND or Others)', 'O9 Neares digaci house Gombe', '5', 'Sulaiman muhammad', 'Diploma (OND or Others)', '', 'Arawa (A) quarters gombe', '08163381711', '', '10.3120881 11.1735924', 'Gombe', 'Funakaye', 'CONFIRMED']\n",
      "['ALIYU', 'ALIYU', 'ISAH', 'Male', '09097171217', '08145291422', 'aliyuisahaliyu01@gmail.com', '0017682142', 'Stanbic IBTC', '22383935265', '1990-03-14T00:00:00.000Z', '', 'Diploma (OND or Others)', 'KB 26 Layin Dogon Dabino K/K Gombe  Gombe', '6', 'Adamu Isah Aliyu', 'Diploma (OND or Others)', '', 'Kumbiya Kumbiya Gombe State', '08135817443', '', '10.2860745 11.1672214', 'Gombe', 'Gombe', 'CONFIRMED']\n",
      "['AHMAD', 'USMAN', 'MUHAMMAD', 'Male', '08161144525', '09066534438', 'ahmadmuhammadusman303@gmail.com', '2070549669', 'UBA', '22286400631', '1992-12-26T00:00:00.000Z', '', 'B.Sc.', 'OPPOSITE KAMARA PRIMARY SCHOOL GOMBE STATE  MAITAMA SULE STREET  GOMBE ', '6', 'BALA SALE', 'B.Sc.', '', 'PENSION BORD GOMBE STATE ', '07035227997', '', '10.2785813 11.1743003', 'Gombe', 'Gombe', 'CONFIRMED']\n",
      "['GIDEON', 'LAUKILANG', 'ADAMS', 'Male', '07031069393', '08102997907', 'gideonadams9393@gmail.com', '3049854655', 'Polaris bank', '22441646591', '1993-08-13T00:00:00.000Z', '', 'Diploma (OND or Others)', '115 Good Luck Ebele Jonathan Street Gombe', '6', 'Kande .A. Laukilang ', 'Diploma (OND or Others)', '', 'Farmer', '08165095447', '', '9.0252442 7.4853061', 'Gombe', 'Kaltungo', 'CONFIRMED']\n",
      "[' ZAINAB', 'MAJIDADI', 'YERIMA', 'Female', '07031123841', '08080691306', 'zainabyarima@gmail.com', '0118892077', 'GTBank', '22232452451', '1992-07-16T00:00:00.000Z', '', 'B.Sc.', 'Number 4 Behind tudun hatsi gombe', '5', 'Mubaraq nuhu', 'Masters or Higher', '', 'West African union university cotonou republic of benin', '08131912244', '', '6.3677435 2.4815633', 'Gombe', 'Gombe', 'CONFIRMED']\n",
      "['USMAN', 'ABUBAKAR', 'AHMAD', 'Male', '08032108565', '08032108565', 'mahaneef35@gmail.com', '0115567600', 'GTBank', '22196705439', '1992-12-04T00:00:00.000Z', '', 'B.Sc.', ' 36 Danaje Tdudn Wada Quarters Shamaki Ward Gombe', '4', 'Muhammad Bashir Ahmad', 'Masters or Higher', '', 'Feredel University Kashere', '08059271267', '', '10.2968003 11.1764241', 'Gombe', 'Gombe', 'CONFIRMED']\n",
      "['MOHAMMED', 'KABIR', 'SAIDU', 'Male', '07063177413', '07063177413', 'mksaidu0@gmail.com', '3106577322', 'First Bank', '22394309974', '1992-06-11T00:00:00.000Z', '', 'Diploma (OND or Others)', '05 Jalo waziri street  Gombe ', '6', 'Alhaji inusa inuwa ', 'Diploma (OND or Others)', '', 'Behind progress radio along bauchi road Gombe ', '07068217846', '', '10.3060714 11.17784', 'Gombe', 'Gombe', 'CONFIRMED']\n",
      "['ABDULWAHAB', '.', 'HARUNA', 'Male', '08067879733', '08067879733', 'abdulwahabharuna733@gmail.com', '5744582019', 'FCMB', '22499095538', '1998-10-02T00:00:00.000Z', '', 'Diploma (OND or Others)', '733 Kanti hinna Hinna', '3', 'Ismail madu ', 'B.Sc.', '', 'Federal college of horticulture dadinkowa', '08132448011', '', '10.3046083 11.517155', 'Gombe', 'Yamaltu/Delta', 'CONFIRMED']\n",
      "['ABUBAKAR', 'MUHAMMED', 'IBRAHIM', 'Male', '08064024383', '08064024383', 'malahabu1003@gmail.com', '0788135552', 'Access Bank', '22209208935', '1994-07-07T00:00:00.000Z', '', 'B.Sc.', '021 Tudun wada shamaki Ward along Governor yobe street Gombe/Gombe', '18', 'Ibrahim Muhammad Ibrahim', 'Masters or Higher', '', 'College of Education Billiri', '08035337301', '', '10.3001161 11.1704069', 'Gombe', 'Gombe', 'CONFIRMED']\n",
      "['ABDULRAUF', 'USMAN', 'MUHAMMAD', 'Male', '8099856412', '07035047010', 'muhammadabdulrauf05@gmail.com', '0226007174', 'GTBank', '22419960478', '1995-03-05T00:00:00.000Z', '', 'B.Sc.', '010 Nafada west Nafada', '2', 'Musa Muhammad ', 'B.Sc.', '', 'Pantami quarters near gabukka primary school Gombe ', '07063933776', '', '10.2737237 11.1650978', 'Gombe', 'Nafada/BajogaÂ\\xa0', 'CONFIRMED']\n",
      "['SAADATU', 'SAADATU ', 'ZAKARIYYAH', 'Female', '08063335939', '08063335931', 'zakariyyahsaadatu@gmail.com', '0024901565', 'Unity Bank', '22453628437', '1995-04-29T00:00:00.000Z', '', 'B.Sc.', '52 Jalo waziri street  Gombe ', '2', \"Mus'ab Sabo Maina\", 'B.Sc.', '', \"Main market marafa's store \", '08033727263', '', '10.294284 11.1440551', 'Gombe', 'Gombe', 'CONFIRMED']\n",
      "['HAFSAT', 'AHMAD', 'HASSAN', 'Female', '08101999047', '08101999047', 'hafsiyya05@gmail.com', '3029324387', 'Polaris bank', '22300347889', '1991-01-01T00:00:00.000Z', '', 'Diploma (OND or Others)', '85 Herwagana quarters Gombe', '4', 'Amina Ahmad Hassan', 'B.Sc.', '', 'Gdss Hassan central gombe', '07067586778', '', '10.2929532 11.1679293', 'Gombe', 'Yamaltu/Delta', 'CONFIRMED']\n",
      "['ETHNI', 'BABALE', 'ILIYA', 'Female', '07036683654', '09055293351', 'ethnibabaleiliya@gmail.com', '3050861377', 'First Bank', '22272057971', '1989-10-23T00:00:00.000Z', '', 'HND', '04 First Entrance Tanglang', '5', 'Esther Iliya Babale', 'Diploma (OND or Others)', '', 'The Correctional service of Nigeria', '07034859384', '', '9.8477451 11.1796099', 'Gombe', 'Billiri', 'CONFIRMED']\n",
      "['JIBRIN', 'JIBRIN', 'SULEIMAN', 'Male', '08080292534', '08080292534', 'sulaimanjibrin2015@gmail.com', '2093335962', 'UBA', '22417834555', '1992-07-10T00:00:00.000Z', '', 'Diploma (OND or Others)', 'Nil Unguwar Shamaki Wuro jabe', '5', 'SADIQ ABUBAKAR USMAN', 'Masters or Higher', '', 'GOMBE STATE UNIVERSTY', '08033315009', '', '10.409294 11.3744895', 'Gombe', 'Kwami', 'CONFIRMED']\n",
      "['DAHIRU', 'KWAMI', 'IBRAHIM', 'Male', '08063144068', '08039912220', 'daibrahk@gmail.com', '0248876769', 'GTBank', '22440805070', '1993-11-27T00:00:00.000Z', '', 'B.Sc.', 'Nil Gomnan Yobe street Gombe', '15', 'Ibrahim Muhammad Ibrahim', 'Masters or Higher', '', 'Tudun-wada shamaki Ward Gombe', '08035337301', '', '10.2967133 11.1689911', 'Gombe', 'Kwami', 'CONFIRMED']\n",
      "['ISHAKU', ' ', 'HAMIDU', 'Male', '08111070910', '08066094281', 'ishiyakuzanna@gmai.com', '0026233881', 'Stanbic IBTC', '22346591356', '1988-11-14T00:00:00.000Z', '', 'Diploma (OND or Others)', '34 Banyan secretariat  Kumo', '2', 'Abdulmumini Adamu Kofur', 'B.Sc.', '', 'Billiri', '08065761283', '', '10.0501398 11.1992425', 'Gombe', 'Akko', 'CONFIRMED']\n",
      "['DODO', 'EZRA', 'SAUL', 'Male', '08154400242', '08026119811', 'sdezra20@gmail.com', '0044270767', 'Union Bank', '22324970553', '1986-06-20T00:00:00.000Z', '', 'HND', '07 Bayan fadar hakimin baule Kaltin tula', '7', 'Barr AY Galadima', 'Masters or Higher', '', 'Makani Chambers', '08026263834', '', '10.2709339 11.1459877', 'Gombe', 'Kaltungo', 'CONFIRMED']\n",
      "['MUHAMMAD', 'BAKURA', 'HARUNA', 'Male', '08036226027', '08036226027', 'bakurahmuhammad@gmail.com', '3113426172', 'First Bank', '22232525821', '1989-10-06T00:00:00.000Z', '', 'B.Sc.', 'Wr05 Wuro yayaru nafada road Gombe', '50', 'Muhammed Yunusa Muhammed ', 'B.Sc.', '', 'Along GATC GombeGombe State ', '08102102292', '', '10.28774 11.1789019', 'Gombe', 'Funakaye', 'CONFIRMED']\n",
      "['MUHAMMAD', 'Nill', 'ADAMU', 'Male', '07038458691', '07037317060', 'muhammadadamukawuabare1@gmail.com', '2100880083', 'UBA', '22431845119', '1991-03-01T00:00:00.000Z', '', 'B.Sc.', '08 Federal Low-Cost Closed behind ministry of land and survey  Gombe/Gombe ', '6', 'Bello Idris ', 'Diploma (OND or Others)', '', 'Eaman Catering and service ', '07035604821', '', '10.2971064 11.1576657', 'Gombe', 'Kwami', 'CONFIRMED']\n",
      "['AISHA  ', ' ', 'AHMAD', 'Female', '07030092897', '08030762695', 'ahmadaysher@gmail.com', '0782901610', 'Access Bank', '22279056595', '1994-12-23T00:00:00.000Z', '', 'B.Sc.', '03 Sheikh Saleh Danaje Street Gombe', '5', 'Abdussalaam Ahmad Abubakar', 'B.Sc.', '', 'Kasuwan katako Gombe', '07066506131', '', '10.3123471 11.1760701', 'Gombe', 'Gombe', 'CONFIRMED']\n",
      "['PHILIP', 'NILL', 'SARAKI', 'Male', '08126033161', '08167080347', 'philipsaraki1212@gmail.com', '3060709997', 'First Bank', '22340071692', '1995-11-02T00:00:00.000Z', '', 'Diploma (OND or Others)', 'House number 001 Karel orthopedic center Shongom', '7', 'Mr. Hussaini Saraki', 'B.Sc.', '', 'Opposite gateway Church Gombe', '08060638283', '', '9.8144571 11.3127953', 'Gombe', 'Shomgom', 'CONFIRMED']\n",
      "['WASIU', 'MUHAMMAD', 'MUHAMMAD', 'Male', '07055315532', '07055315532', 'muhammadwasiyumuhammad67@gmail.com', '0140837910', 'GTBank', '22383387367', '1987-08-10T00:00:00.000Z', '', 'Diploma (OND or Others)', '055 BEHIND NNPC MEGA STATION STREET GOMBE GOMBE', '5', 'ANAS MUHAMMAD', 'B.Sc.', '', 'GOMBE OLD MARKET GOMBE', '08032792797', '', '9.0570752 7.471104', 'Gombe', 'Gombe', 'CONFIRMED']\n",
      "['MUHAMMAD', 'ALAMIN', 'ABUBAKAR', 'Male', '08068771442', '08068771442', 'makurba02@gmail.com', '2101379005', 'UBA', '22294174953', '1994-02-22T00:00:00.000Z', '', 'B.Sc.', '20 Unguwa uku behind borehole number 69 Gombe Gombe State  Gombe /kurba ', '50', 'Abubakar Isa kurba ', 'B.Sc.', '', 'Kurba district Head palace Yamaltu Emirates Yamatul/Deba L.G.a', '08034998759', '', '10.2961229 11.1859817', 'Gombe', 'Gombe', 'CONFIRMED']\n",
      "['DENIS', 'AUDU', 'MOHAMMED', 'Male', '08133528531', '08133528531', 'denisaudu02@gmail.com', '3049262626', 'First Bank', '22325118891', '1989-01-10T00:00:00.000Z', '', 'B.Sc.', 'House number 001 behind ecwa termana Opposite ECWA Church termana Kaltungo', '10', 'Mr. Muhammed Audu', 'Secondary School', '', 'Devision A jos plateau state', '08025576774', '', '9.8158534 11.3120864', 'Gombe', 'Kaltungo', 'CONFIRMED']\n",
      "['MOHAMMED', 'MANU', 'MANU', 'Male', '08039430970', '08039430970', 'mohammedmanu252@gmail.com', '2832900012', 'FCMB', '22296492374', '1989-06-06T00:00:00.000Z', '', 'Diploma (OND or Others)', '15 Emirate palace street unguwar madaki bajoga  Bajoga/funa-kaye', '8', 'Ali muhammad', 'Diploma (OND or Others)', '', 'Agro farming house unguwar wakili gajimi gimbal umaru', '07038489913', '', '10.8556278 11.4308983', 'Gombe', 'Funakaye', 'CONFIRMED']\n",
      "['ADAMU', 'MELE', 'MUSA', 'Male', '08026915110', '08026915110', 'adamumusamele08@gmail.com', '0054838570', 'Unity Bank', '22250644160', '1981-02-15T00:00:00.000Z', '', 'Diploma (OND or Others)', '022 SHAMAKI SARKIN DABE STREET GOMBE', '3', 'MUHAMMAD MUSA IBRAHIM', 'Masters or Higher', '', 'GOMBE STATE UNIVERSITY', '08034222422', '', '9.0570752 7.471104', 'Gombe', 'Gombe', 'CONFIRMED']\n",
      "['ADAMU', 'GWANI', 'MUHAMMAD', 'Male', '08100099594', '09120914719', 'Muhammadadamugwani@gmail.com', '0793536058', 'Access Bank', '22467775640', '1995-02-13T00:00:00.000Z', '', 'Diploma (OND or Others)', '13 Layin gidan hakimin Gwani  GOMBE', '13', 'Auwal Adam ', 'Diploma (OND or Others)', '', 'Federal college of education Gombe ', '08134255708', '', '10.3121746 11.1810258', 'Gombe', 'Yamaltu/Delta', 'CONFIRMED']\n",
      "['ABDULRAHMAN', '.', 'MOHAMMED', 'Male', '08037318105', '08037318105', 'mufseel4real@gmail.com', '0044931026', 'GTBank', '22181223207', '1989-11-28T00:00:00.000Z', '', 'Masters or Higher', '28 Honda Villa Street  Gombe', '6', 'Mohammed Mohammed ', 'Diploma (OND or Others)', '', 'Gombe Main Market ', '08039510210', '', '9.3404648 12.5066804', 'Gombe', 'Gombe', 'CONFIRMED']\n",
      "['ABUBAKAR', ' ', 'USMAN', 'Male', '8029370810', '08031196080', 'abasssadiqkumo@gmail.com', '0724210312', 'Access Bank', '22188462539', '1991-09-27T00:00:00.000Z', '', 'B.Sc.', 'No. 001 Behind Maternity Fada Street Kumo', '4', 'Muhammad Usman', 'B.Sc.', '', 'General Hospital Kumo', '07036178692', '', '10.0477043 11.2135976', 'Gombe', 'Akko', 'CONFIRMED']\n",
      "['IBRAHIM MUHAMMAD', '  ', 'MAGAJI', 'Male', '08035549276', '08035549276', 'ibrahimmagajimuhammad3030@gmail.com', '0812121542', 'Access Bank', '22382445330', '1995-06-06T00:00:00.000Z', '', 'B.Sc.', 'Number 5 State low-cost YD Street  Gombe ', '50', 'Abubakar Umar Abubakar ', 'B.Sc.', '', 'Ministry for local government and chieftancy affairs Dahiru Deba secretariat ', '08030531345', '', '10.2797038 11.1817337', 'Gombe', 'Gombe', 'CONFIRMED']\n",
      "['rabiat', 'Not Applicable ', 'salihu', 'Female', '07063821407', '07063821407', 'rabiatsalihu209@gmail.com', '0763392646', 'Access Bank', '22369611060', '1995-05-12T00:00:00.000Z', '', 'B.Sc.', '31 Namadi Sambo Street  Gombe', '1', 'Umar Faruk Yunus ', 'B.Sc.', '', 'Federal university of lafia ', '08068028576', '', '10.2572705 11.1619126', 'Gombe', 'Gombe', 'CONFIRMED']\n",
      "['ZAINAB', 'DANLAMI', 'MOHAMMED', 'Female', '07036421446', '07036421446', 'zainabamuhammad46@gmail.com', '0043250416', 'Stanbic IBTC', '22425835696', '1992-12-11T00:00:00.000Z', '', 'Diploma (OND or Others)', '7 Guskudu Gombe', '0', 'Adamu Muhammad danlami', 'B.Sc.', '', 'Herwagana mega station junction', '07063992135', '', '10.5956063 7.4565602', 'Gombe', 'Kwami', 'CONFIRMED']\n",
      "['ABUBAKAR', 'Abubakar ', 'MUSA', 'Male', '07062191204', '07062191204', 'abubakarmusa2222@gmail.com', '2677263011', 'FCMB', '22335057018', '1995-10-01T00:00:00.000Z', '', 'Diploma (OND or Others)', 'NILL Gandu street Bajoga ', '5', 'Musa Adamu', 'Diploma (OND or Others)', '', 'Bajoga police division', '08086223094', '', '10.8590322 11.4326727', 'Gombe', 'Funakaye', 'CONFIRMED']\n",
      "['MARYAM', 'DELAKU', 'IBRAHIM', 'Female', '07031359804', '07031359804', 'maryamalewa24@gmail.com', '0725052384', 'Access Bank', '22264019983', '1990-07-24T00:00:00.000Z', '', 'B.Sc.', 'No. 06 Kwallam Tula baule', '0', 'Hannatu Ibrahim ', 'HND', '', 'Min. Of finance office of the Accountant General Gombe State', '07037389385', '', '10.2881439 11.1573118', 'Gombe', 'Kaltungo', 'CONFIRMED']\n",
      "['MUHAMMAD', 'AMINU', 'SHEHU', 'Male', '08169949236', '08169949236', 'muhammadameenushehu@gmail.com', '0807170335', 'Access Bank', '22493269887', '1996-09-10T00:00:00.000Z', '', 'B.Sc.', '79 Tudunwada  Gombe', '2', 'Aliyu shehu', 'B.Sc.', '', 'Tudunwada shamaki Gombe', '08036894170', '', '10.2991665 11.1679293', 'Gombe', 'Gombe', 'CONFIRMED']\n",
      "['HASSANA', ' ', 'MUSA', 'Female', '07036079414', '07036079414', 'hassanamusa152@gmail.com', '2361021857', 'Ecobank', '22405182716', '1985-05-12T00:00:00.000Z', '', 'Diploma (OND or Others)', '8 PANTAMI WATER BOARD Gombe', '3', 'Hassan musa', 'B.Sc.', '', ' ', '07060775170', '', '11.8359951 13.0798092', 'Gombe', 'Gombe', 'CONFIRMED']\n",
      "['AMINU', 'SALLAH', 'MUHAMMAD', 'Male', '07068553330', '07068553330', 'sallahaminum@gmail.com', '0263486213', 'GTBank', '22461174955', '1994-08-06T00:00:00.000Z', '', 'Diploma (OND or Others)', '084 Bolari waziri street  Gombe gombe ', '20', 'Saminu Salla', 'Secondary School', '', 'Bolari waziri street gombe ', '08034004699', '', '10.2817365 11.1728845', 'Gombe', 'Akko', 'CONFIRMED']\n",
      "['MOHAMMED', ' ', 'MOHAMMED', 'Male', '08031123577', '08031123577', 'galkali0299@gmail.com', '4516158025', 'FCMB', '22359552607', '1986-01-16T00:00:00.000Z', '', 'B.Sc.', '80 Catholic church Bajoga', '14', 'Bello adamu isah', 'B.Sc.', '', 'GDSSS JALINGO ASHAKA CEM', '08038649859', '', '10.8500085 11.4326727', 'Gombe', 'Funakaye', 'CONFIRMED']\n",
      "['ALIYU', 'BARAYA', 'UMAR', 'Male', '08023424102', '08023424102', 'aliyuumarbaraya00@gmail.com', '0035391332', 'Stanbic IBTC', '22373443831', '1993-05-25T00:00:00.000Z', '', 'B.Sc.', '016 jalo waziri street gombe Gombe', '5', 'Umaru baraya', 'Masters or Higher', '', 'ICT officer', '07034940880', '', '10.2983655 11.1711148', 'Gombe', 'Gombe', 'CONFIRMED']\n",
      "['ABBAS', 'DIO', 'HASSAN', 'Male', '08084420803', '08084420803', 'abbashassandio5@gmail.com', '3048870654', 'Polaris bank', '22495001614', '1993-09-03T00:00:00.000Z', '', 'Diploma (OND or Others)', '2 Pz commercial area  Gombe state', '3', 'Sibah Hassan dio', 'Diploma (OND or Others)', '', 'Dasa', '07060447712', '', '10.2924369 11.1827957', 'Gombe', 'Yamaltu/Delta', 'CONFIRMED']\n",
      "['AISHATU', 'GALADIMA', 'SALIHU', 'Female', '07066847255', '07066847255', 'ayshgaladeema@gmail.com', '2067734524', 'UBA', '22270160671', '1995-07-29T00:00:00.000Z', '', 'Diploma (OND or Others)', '001 Sarkin yaqi Kumo', '2', 'Zainab salihu Galadima', 'B.Sc.', '', 'Usman memories primary school Gombe', '08035488209', '', '10.3118417 11.1806718', 'Gombe', 'Akko', 'CONFIRMED']\n",
      "['HAMZA', 'MIYABE', 'IBRAHIM', 'Male', '08089809481', '08089809481', 'fayzavet@gmail.com', '0718919630', 'Access Bank', '22195013605', '1990-02-19T00:00:00.000Z', '', 'HND', '100 Catholic church Bajoga', '12', 'Alhaji bappayo yaya', 'Masters or Higher', '', 'Funakaye local government PHC', '08035585320', '', '10.8500085 11.4326727', 'Gombe', 'Funakaye', 'CONFIRMED']\n",
      "['ABUBAKAR', 'TUKUR', 'ALI', 'Male', '09032255708', '09032255708', 'abubakaralitukur@gmail.com', '0002956790', 'Jaiz', '22434226283', '1997-07-30T00:00:00.000Z', '', 'Diploma (OND or Others)', 'No 263 PANTAMI WEST ALONG TIKEN PANTAMI LINE NO 6 Gombe', '3', 'Muhammad Tukur Aliyu', 'HND', '', 'Government House Gombe', '07035018486', '', '10.2795843 11.1811106', 'Gombe', 'Gombe', 'CONFIRMED']\n",
      "['AMANI', 'LAMBAWAN', 'AUDI', 'Male', '07031048103', '07031048103', 'audiamani4@gmail.com', '0130874594', 'GTBank', '22233456582', '1991-03-23T00:00:00.000Z', '', 'B.Sc.', 'House no 24 Farin kasa Gombe', '3', 'Musa Bulama', 'Masters or Higher', '', 'Customs headquarters Abuja', '08139101406', '', '10.2872904 11.1021194', 'Gombe', 'Shomgom', 'CONFIRMED']\n",
      "['ABDULHAFEEZ', 'MUHAMMAD', 'UMAR', 'Male', '08037565848', '08037565848', 'umarabdulhafiz82@gmail.com', '0237299786', 'GTBank', '22296070718', '1996-03-26T00:00:00.000Z', '', 'B.Sc.', '02 Union Bank Road State Lowcost  Gombe', '2', 'Zainab Abubakar', 'Secondary School', '', 'Zai.ab@recdp@ng.com', '08169549984', '', '10.2804063 11.1813798', 'Gombe', 'Gombe', 'CONFIRMED']\n",
      "['BULUS', '.', 'UMORU', 'Male', '08169780099', '08169780099', 'bulusumoru@gmail.com', '2211879956', 'Zenith Bank', '22289300190', '1993-12-20T00:00:00.000Z', '', 'B.Sc.', 'No 15 tudun wada Tudun wada Kashere Akko LGA Gombe state ', '3', 'Patience Bwana Iliya', 'Masters or Higher', '', 'Department of Mathematics Federal University Kashere', '08033877225', '', '9.9113573 11.0123217', 'Gombe', 'Akko', 'CONFIRMED']\n",
      "['Phenias', '.', 'Onis', 'Male', '07039205188', '08063173348', 'pheniasonis@gmail.com', '3036664040', 'First Bank', '22249733282', '1989-12-01T00:00:00.000Z', '', 'Diploma (OND or Others)', 'House No. 001 opposite viewing center kulishen Oktong street Shongom', '12', 'Mr. Haruna Doji', 'Masters or Higher', '', 'Civil service commission abuja head office', '08060496460', '', '9.826741 11.3046432', 'Gombe', 'Shomgom', 'CONFIRMED']\n",
      "['BILYAMINU', '.', 'ABDULLAHI', 'Male', '08161511684', '08161511684', 'abdullahibilyaminu2020@gmail.com', '2151283693', 'UBA', '22258448689', '1992-02-19T00:00:00.000Z', '', 'Diploma (OND or Others)', '4 Bypass Gombe', '5', 'Alhasan Abdullahi', 'Secondary School', '', 'Bypass', '09165690993', '', '10.2558456 11.1831497', 'Gombe', 'Yamaltu/Delta', 'CONFIRMED']\n",
      "['ABUBAKAR', 'ABUBAKAR', 'HUSSAINI', 'Male', '08107576087', '08107576087', 'abubakarhussaynee@gmail.com', '4932268016', 'FCMB', '22373139286', '1994-09-25T00:00:00.000Z', '', 'Diploma (OND or Others)', '3 Gona Quaters Access Bank Street Dukku Gombe', '3', 'Musa Hussaini Abdullahi ', 'Diploma (OND or Others)', '', 'Imamu Malik Community Islamic Academy Dawaki Quaters Gombe Gombe State ', '07069683886', '', '10.2985262 11.1764241', 'Gombe', 'Dukku', 'CONFIRMED']\n",
      "['MARYAM', 'ALI', 'AHMAD', 'Female', '08034426622', '08034426622', 'ahmarfiliya145@gmail.com', '0001170887', 'Jaiz', '22230821994', '1994-09-28T00:00:00.000Z', '', 'B.Sc.', 'Fada Fada Gombe', '4', 'Ibrahim Hassan', 'Masters or Higher', '', 'Gombe State Polytechnic Bajoga', '07038128521', '', '10.3075244 11.1558962', 'Gombe', 'Shomgom', 'CONFIRMED']\n",
      "['ADAMU', 'ADAMU', 'ABUBAKAR', 'Male', '08067553316', '08067553316', 'adamuabubakar2345@gmail.com', '3965177018', 'FCMB', '22402209140', '1992-01-01T00:00:00.000Z', '', 'Diploma (OND or Others)', '12 Galadima house Gombe', '2', 'Barr. Aliyu Galadima', 'B.Sc.', '', 'Gombe state Billiri L.G.A Galadima House', '08027326965', '', '10.3071177 11.1576657', 'Gombe', 'Billiri', 'CONFIRMED']\n",
      "['JOEL', 'NICHOLAS', 'NICHOLAS', 'Male', '08144214150', '08147780582', 'nicholasjoel53@gmail.com', '0429679196', 'GTBank', '22328657269', '1994-10-15T00:00:00.000Z', '', 'Diploma (OND or Others)', '45 POPANDI KALTUNGO', '50', 'NICHOLAS ATIKU', 'Secondary School', '', 'POPANDI KALTUNGO LGA GOMBE STATE.', '07041469545', '', '9.0567 7.4969', 'Gombe', 'Kaltungo', 'CONFIRMED']\n",
      "['HABIBA', '.', 'HASSAN', 'Female', '07032097350', '07032097350', 'hassanhabiba551@gmail.com', '0381794469', 'GTBank', '22477484932', '1992-03-31T00:00:00.000Z', '', 'Diploma (OND or Others)', 'None Madaki Street Gombe Gombe', '5', 'Haruna Hassan', 'Diploma (OND or Others)', '', 'Yamaltu Deba Gombe', '07030861578', '', '10.2720504 11.1835037', 'Gombe', 'Gombe', 'CONFIRMED']\n",
      "['CECELIA', 'CECILIA', 'UHUMAGHO', 'Female', '08036655615', '08036655615', 'uhumaghocecilia@gmail.com', '0015719831', 'Union Bank', '22344279287', '1967-05-10T00:00:00.000Z', '', 'B.Sc.', '008 ABDULMUMINI STREET FED. LOWCOST GOMBE GOMBE', '6', 'FRIDAY UHUMAGHO', 'Secondary School', '', 'GOMBE MAIN MARKET GOMBE', '07031024618', '', '9.0570752 7.471104', 'Gombe', 'Gombe', 'CONFIRMED']\n",
      "['ABUBAKAR', 'ISAH', 'SARKI', 'Male', '07060417044', '07060417044', 'dansarki69@gmail.com', '0007234590', 'Jaiz', '22169435787', '1992-06-02T00:00:00.000Z', '', 'B.Sc.', 'No1- Anguwar Barde kolo Bajoga Layin Maliya Bajoga', '15', 'Sarki Isah ', 'B.Sc.', '', 'Communications Manager ', '08028251075', '', '10.8576173 11.4333825', 'Gombe', 'Funakaye', 'CONFIRMED']\n",
      "['ADAMU', 'Mustapha ', 'SANI', 'Male', '08060324439', '08060324439', 'adamusani85@gmail.com', '0222069402', 'GTBank', '22393167483', '1988-05-19T00:00:00.000Z', '', 'Diploma (OND or Others)', '85 Pantami street  Gombe ', '5', 'Abdulrahman sani ', 'B.Sc.', '', 'Bypass road Gombe behind lelewal filling station ', '08039317555', '', '10.2643697 11.1661596', 'Gombe', 'Gombe', 'CONFIRMED']\n",
      "['MOHAMMED', 'BELLO', 'ALIYU', 'Male', '08087345477', '07063078208', 'muhammadaliyuail8@gmail.com', '3053428806', 'Polaris bank', '22490422821', '1988-11-25T00:00:00.000Z', '', 'Secondary School', '090 SHEHUN BUREMA STREET GOMBE', '7', 'USMAN ALIYU', 'Diploma (OND or Others)', '', 'GOMBE OLD MARKET GOMBE', '08140807675', '', '10.2881448 11.1663499', 'Gombe', 'Gombe', 'CONFIRMED']\n",
      "['ABDULMUMIN', 'Nil', 'NAFIU', 'Male', '08100589290', '08100589290', 'abdulmuminnafiusara00@gmail.com', '0611502136', 'GTBank', '22459226006', '1999-01-01T00:00:00.000Z', '', 'Diploma (OND or Others)', 'Nil Kukan daka street  Gombe', '4', 'Abdulmajid ubah', 'Diploma (OND or Others)', '', 'Kumbiya kumbiya', '08031148286', '', '10.2864933 11.1650978', 'Gombe', 'Gombe', 'CONFIRMED']\n",
      "['HAFSAT', 'Usman', 'MUKHTAR', 'Female', '08030789950', '08030789950', 'hafsatmukhtar50@gmail.com', '0044946176', 'GTBank', '22359782545', '1988-05-22T00:00:00.000Z', '', 'Diploma (OND or Others)', '12 Dawaki shamaki ward Gombe state', '9', 'Zubairu Muhammad umar', 'Masters or Higher', '', 'Min. Of Justice', '08035800246', '', '10.28824 11.1445723', 'Gombe', 'Gombe', 'CONFIRMED']\n",
      "['YAHAYA', 'MA AJI', 'MOHAMMED', 'Male', '08065354988', '08065354988', 'mmaaji86@gmail.com', '2022666396', 'First Bank', '22359204807', '1984-01-01T00:00:00.000Z', '', 'Diploma (OND or Others)', '1 Kore /jingeri Talasse', '16', 'Galadima Halilu', 'B.Sc.', '', 'Farm', '08036189475', '', '9.7100072 11.7134124', 'Gombe', 'Balanga', 'CONFIRMED']\n",
      "['ASABE', 'Mohammed ', 'MOHAMMED', 'Female', '09054185885', '08126751487', 'asabemohammed747@gmail.com', '0057155550', 'Union Bank', '22421515349', '1989-05-02T00:00:00.000Z', '', 'Diploma (OND or Others)', '314 Unguwan kuka Street balanga  Talasse ', '7', 'Godion Gaius', 'Primary School', '', 'Unguwan kuka balanga ', '09088560789', '', '9.9702883 11.6817465', 'Gombe', 'Balanga', 'CONFIRMED']\n",
      "[' AHMED', ' USMAN ', 'MIJINYAWA ', 'Male', '07036178584', '08109556953', 'ausmanmininyawa@gmail.com', '2065495850', 'UBA', '22182913479', '1990-09-01T00:00:00.000Z', '', 'B.Sc.', '2 mijinyawa yakubu street Gombe', '3', 'Usman Mijinyawa', 'HND', '', 'Danmarna Filling station along Gombe-Biu road', '08033649656', '', '10.3028073 11.1279538', 'Gombe', 'Gombe', 'CONFIRMED']\n",
      "['SYLVESTER', 'SYLVESTER', 'HAGGAI', 'Male', '07013523498', '07013523498', 'haggaisylvester6@gmail.com', '0434793636', 'GTBank', '22506378494', '1993-06-11T00:00:00.000Z', '', 'Diploma (OND or Others)', '10 Toro Gwandum Ward Shongom LGA Gombe State Toro Gwandum Ward', '10', 'Kenos Philip', 'B.Sc.', '', 'LEA SHONGOM', '09070848174', '', '9.5890667 11.0491117', 'Gombe', 'Shomgom', 'CONFIRMED']\n",
      "['BALARABE', 'BALARABE', 'AHMED', 'Male', '08032820042', '08080008112', 'ahmadbalarabe21@gmail.com', '0001158209', 'Unity Bank', '22179402047', '1984-08-28T00:00:00.000Z', '', 'Diploma (OND or Others)', '7 Byepass Gombe state', '9', 'Mustapha Ahmed', 'Masters or Higher', '', 'State University k/hausa', '07064895359', '', '10.2875276 11.1474204', 'Gombe', 'Akko', 'CONFIRMED']\n",
      "['AISHATU', 'GALADIMA', 'SAIDU', 'Female', '08133411660', '08163965940', 'aishatusaidugaladima@gmail.com', '1450495217', 'Access Bank', '22397108464', '1993-11-07T00:00:00.000Z', '', 'Diploma (OND or Others)', 'No. 112 Ibbi Quarters Behind General Hospital Kumo KUMO', '6', 'Mohammed Umar Bello', 'Diploma (OND or Others)', '', 'Akko LGA Secretariat Kumo', '08133411660', '', '10.0480243 11.2143058', 'Gombe', 'Akko', 'CONFIRMED']\n",
      "['KHADIJAH', 'MUHAMMAD', 'JIBRIN', 'Female', '08165174334', '08165174334', 'kmohammedjibrin@gmail.com', '2087599653', 'UBA', '22381574088', '1995-07-14T00:00:00.000Z', '', 'Diploma (OND or Others)', 'Workers village block E26 Workers village  Ashaka Funakaye ', '50', 'Ibrahim dahiru', 'Diploma (OND or Others)', '', 'Ashaka logistic department ', '08162585443', '', '10.922459 11.4816578', 'Gombe', 'Funakaye', 'CONFIRMED']\n",
      "['DANIEL', 'DAUDA', 'DAUDA', 'Male', '07083783704', '07039729361', 'danielngusum@gmail.com', '2137424159', 'UBA', '22170245421', '1988-02-28T00:00:00.000Z', '', 'B.Sc.', '97 Goodluck Jonathan Street GOMBE', '2', 'MARY DAUDA', 'B.Sc.', '', 'FEDERAL TEACHING HOSPITAL GOMBE', '08028332120', '', '10.2893901 11.0812534', 'Gombe', 'Gombe', 'CONFIRMED']\n",
      "['AMINA', 'MUAZU', 'SABO', 'Female', '08144446172', '08139763762', 'aminasabomuazu251@gmail.com', '0735466429', 'Access Bank', '22440191728', '1992-11-14T00:00:00.000Z', '', 'Diploma (OND or Others)', 'Commercial area opp pz Alj baffa jauro street  Gombe', '3', 'Abdulwahab sabo', 'B.Sc.', '', \"Arc'p office \", '08139598880', '', '10.2919048 11.184214', 'Gombe', 'Gombe', 'CONFIRMED']\n",
      "['USMAN', 'ABDULLAHI', 'LAWAN', 'Male', '08063965484', '08063965484', 'lawanusmanabdullahi@gmail.com', '0130854277', 'GTBank', '22400957687', '1991-01-01T00:00:00.000Z', '', 'B.Sc.', '25A Tudun Wadan Pantami near Aminchi Block Gombe Gombe', '5', 'Habiba Adamu Abdullahi', 'Secondary School', '', 'Tudun Wadan Pantami Gombe', '09160904349', '', '10.2639021 11.169699', 'Gombe', 'Gombe', 'CONFIRMED']\n",
      "['NURA', 'NON', 'SANI', 'Male', '08060922348', '08060922348', 'nurasani1120@gmail.com', '3132170458', 'First Bank', '22502186125', '1991-11-02T00:00:00.000Z', '', 'Diploma (OND or Others)', '16 KALTUNGO MOTOR PARK KALTUNGO', '50', 'ALhassan Audu', 'B.Sc.', '', 'Kalorgu Kaltungo ', '08065998687', '', '9.0567 7.4969', 'Gombe', 'Kaltungo', 'CONFIRMED']\n",
      "['BABAYO', 'MUHAMMAD', 'MUHAMMAD', 'Male', '08148030598', '08038920368', 'Muhammadbabayo76@gmail.com', '0023185465', 'Unity Bank', '22321963877', '1992-01-01T00:00:00.000Z', '', 'Diploma (OND or Others)', 'Nil Liberty junction jekadafari  Gombe', '3', 'YAHAYA HARUNA DALIBI', 'Masters or Higher', '', 'Federal university lokoja', '08036934308', '', '10.3012489 11.1576657', 'Gombe', 'Gombe', 'CONFIRMED']\n",
      "['MURJANATU', ' ', 'YUSUF', 'Female', '08031107273', '08031107273', 'murjanatuyusuf3110@gmail.com', '0235607062', 'GTBank', '22421333381', '1991-03-01T00:00:00.000Z', '', 'Diploma (OND or Others)', '14 Doma Street  Jekadafari ', '5', 'Usman Yusuf ', 'Diploma (OND or Others)', '', 'Arabic Teaching  College', '08031107272', '', '10.288288288288289 11.188909146597013', 'Gombe', 'Gombe', 'CONFIRMED']\n",
      "['ABUBAKAR', 'ABUBAKAR', 'MUSA', 'Male', '09035218314', '09035218314', 'abubakarmusaabubakar0101@gmail.com', '0002946353', 'Jaiz', '22432994108', '1996-12-12T00:00:00.000Z', '', 'Diploma (OND or Others)', '58 Anguwar Chiroma Lafiya Tale', '9', 'Maina Musa Abubakar ', 'Diploma (OND or Others)', '', 'AYU civil engineering company', '08138978144', '', '10.3187696 11.1502341', 'Gombe', 'Dukku', 'CONFIRMED']\n",
      "['habiba', 'musa', 'haruna', 'Female', '08148422735', '08148422735', 'habibaharunamusa350@gmail.com', '3112101153', 'First Bank', '22399226629', '1994-07-15T00:00:00.000Z', '', 'Diploma (OND or Others)', '17 EMIRS PALACE KALTUNGO LGA KALTUNGO', '50', 'UMAR AYUBA', 'Diploma (OND or Others)', '', ' ', '07068821336', '', '9.0567 7.4969', 'Gombe', 'Kaltungo', 'CONFIRMED']\n",
      "['YAKUBU', 'MUHAMMAD', 'SANI', 'Male', '07032132313', '07032132313', 'yakubest001@gmail.com', '0058893680', 'Sterling Bank', '22398953364', '1987-06-15T00:00:00.000Z', '', 'Diploma (OND or Others)', '14 Sarankiyo babban layi Akko', '0', 'Ibrahim Muhammad inuwa', 'B.Sc.', '', 'Gombe state secretaria', '08065671264', '', '10.2561008 11.1658057', 'Gombe', 'Akko', 'CONFIRMED']\n",
      "['SADDAM', ' ', 'IBRAHIM', 'Male', '08066661050', '08066661050', 'saddami499@gmail.com', '0719891012', 'Access Bank', '22313604108', '1989-06-12T00:00:00.000Z', '', 'B.Sc.', '5 Jekadafari Behind Specialist Hospital Gombe House no 5 Gombe', '3', 'Qs Yusuf ibrahim maiwake ', 'Masters or Higher', '', 'Beside deputy governor house gombe G R A', '08065868722', '', '10.2863813 11.1583735', 'Gombe', 'Gombe', 'CONFIRMED']\n",
      "['MUHAMMAD', 'BALA', 'AMINU', 'Male', '08131329937', '08131329937', 'muhammadbalaaminu150@gmail.com', '3098415114', 'First Bank', '22359494426', '1998-03-23T00:00:00.000Z', '', 'Diploma (OND or Others)', '9 Putoki Village Degri Ward Balanga LGA Gombe State Gombe City', '7', 'Aminu Garba Bala', 'Diploma (OND or Others)', '', 'Gombe State Ministry of Environment', '08024265841', '', '10.2635448 11.1700529', 'Gombe', 'Balanga', 'CONFIRMED']\n",
      "['UMAR', 'NON', 'AYUBA', 'Male', '07068821336', '07068821336', 'umarayuba1987@gmail.com', '3034202880', 'First Bank', '22331200689', '1985-01-02T00:00:00.000Z', '', 'Diploma (OND or Others)', 'NON EMIRS PALACE KALTUNGO LGA KALTUNGO', '50', 'ABDULRASHEED YUSUF', 'B.Sc.', '', 'FEDERAL POLYTECHNIC KALTUNGO', '07036919914', '', '9.0567 7.4969', 'Gombe', 'Kaltungo', 'CONFIRMED']\n",
      "['ISAH IBRAHIM ', 'Isah', 'IBRAHIM', 'Male', '08169171199', '08169171199', 'ibrahimisahibrahim@gmail.com', '0210904432', 'GTBank', '22373967221', '1992-08-30T00:00:00.000Z', '', 'Diploma (OND or Others)', '15 Sen. Haruna Garba Resident Gombe', '7', 'Khadija Abdullah Sulaiman', 'No School', '', ' ', '07030031604', '', '10.2726139 11.1775613', 'Gombe', 'Gombe', 'CONFIRMED']\n",
      "['FAISAL', '-', 'ADAMU', 'Male', '09036001034', '09036001034', 'faisaladamu20@gmail.com', '0163533774', 'GTBank', '22223520086', '1990-05-12T00:00:00.000Z', '', 'B.Sc.', '003 Malam Inna gada biyu  Gombe', '7', 'Adamu Adamu', 'No School', '', 'Nil', '08137678869', '', '10.30871 11.1813798', 'Gombe', 'Gombe', 'CONFIRMED']\n",
      "['UBAIDULLAHI ', '-', 'ABDULLAHI', 'Male', '08083057160', '08083057160', 'binabdallah4.ua@gmail.com', '0666337332', 'GTBank', '22244115566', '1991-07-18T00:00:00.000Z', '', 'Diploma (OND or Others)', 'S057 Jalo Ganga Street near Government Comprehensive day secondary school Gombe Gombe', '3', 'Suleiman Abdullahi', 'Diploma (OND or Others)', '', 'Gombe LGA Secretariat', '08039537664', '', '10.2981687 11.1767781', 'Gombe', 'Gombe', 'CONFIRMED']\n",
      "['JENNIFER', 'HASSAN', 'HASSAN', 'Male', '07060766239', '07060766239', 'jennyhassan05@gmail.com', '3142092053', 'Ecobank', '22391178786', '1990-05-25T00:00:00.000Z', '', 'Diploma (OND or Others)', '13 Komta Road Kalmai', '5', 'Prof Ibrahim Njodi', 'Masters or Higher', '', 'SSG Complex Gombe Government House ', '08023835177', '', '10.2847885 11.1045953', 'Gombe', 'Billiri', 'CONFIRMED']\n",
      "['ABDULWAHAB', 'MAIKANO', 'NASIRU', 'Male', '08068765797', '08068765797', 'abdulwahabnasir138@gmail.com', '0000394337', 'Stanbic IBTC', '22402092272', '1993-12-30T00:00:00.000Z', '', 'Diploma (OND or Others)', '020 LIQUID POWER STREET  GOMBE', '17', 'FAHAD NASIR MAIKANO ', 'Secondary School', '', 'YALANGURUZA QUARTERS GOMBEGOMBE STATE ', '07032109720', '', '10.2777332 11.1987265', 'Gombe', 'Gombe', 'CONFIRMED']\n",
      "['SHUAIBU', ' ', 'USMAN', 'Male', '07063070336', '07063070336', 'shuaibuusman199@gmail.com', '0044984338', 'GTBank', '22238291988', '1987-02-10T00:00:00.000Z', '', 'Diploma (OND or Others)', '4444 Unguwar Sarki Gombe', '10', 'Abubakar Bolari', 'Diploma (OND or Others)', '', 'Bolari central mosque', '08035662670', '', '10.2796044 11.1746543', 'Gombe', 'Kwami', 'CONFIRMED']\n",
      "['UMAR', 'BAPPAH', 'MUHAMMAD', 'Male', '07067003451', '07067003451', 'umarmuhammedbappah22@gmail.com', '4982253019', 'FCMB', '22313443244', '1997-06-18T00:00:00.000Z', '', 'Diploma (OND or Others)', '27  Unguwan barde kolo bajoga BAJOGA', '0', 'Ahmed Mohammed', 'Secondary School', '', 'unguwan barde kolo bajoga', '07025353505', '', '10.856322 11.4308983', 'Gombe', 'Funakaye', 'CONFIRMED']\n",
      "['ABUBAKAR', '.', 'UMAR', 'Male', '07030100770', '07030100770', 'aadanumar2@gmail.com', '0044965001', 'GTBank', '22305413943', '1992-12-27T00:00:00.000Z', '', 'Diploma (OND or Others)', '12 Abacha Road  Gombe ', '7', 'Muhammad Danjuma Umar ', 'Masters or Higher', '', 'Auditor General Gombe ', '08038154720', '', '10.2901658 11.1587274', 'Gombe', 'Gombe', 'CONFIRMED']\n",
      "['DAHIRU', '.', 'MOHAMMED', 'Male', '08100630063', '08100630063', 'salimdhr24@gmail.com', '3904618019', 'FCMB', '22396049320', '1993-04-24T00:00:00.000Z', '', 'Diploma (OND or Others)', '04 Titin anguwan zana kumo Kumo', '3', 'AHMAD AJIYA', 'HND', '', 'Nnpc combe', '08065782010', '', '10.0533195 11.2104107', 'Gombe', 'Akko', 'CONFIRMED']\n",
      "['HAMZA', '.', 'ABUBAKAR', 'Male', '08080619901', '08069282353', 'hamzaabubakar11@gmail.com', '0124128645', 'GTBank', '22356735168', '1988-08-23T00:00:00.000Z', '', 'Masters or Higher', '358 Shehu Nafada Street Gombe', '4', 'Anas Adamu Muhammad ', 'Masters or Higher', '', 'Federal Low Cost Gombe', '08035052285', '', '10.2955044 11.1815736', 'Gombe', 'Gombe', 'CONFIRMED']\n",
      "['MUHAMMAD', '.', 'ADAM', 'Male', '08070951658', '07067589190', 'adamsgsu@gmail.com', '0107358443', 'GTBank', '22224022534', '1990-08-06T00:00:00.000Z', '', 'B.Sc.', 'Jekadafari Qtrs Behind Old Market Gombe  Ahmadu Bello Way Gombe', '6', 'Sabo Adamu ', 'Secondary School', '', 'Jekadafari Old Market Gombe', '07036033194', '', '10.320066 11.1725305', 'Gombe', 'Gombe', 'CONFIRMED']\n",
      "['SAGIR MUHAMMAD       ', 'MUHAMMAD', 'MUHAMMAD ', 'Male', '08166609064', '08166609064', 'muhammedsagir8@gmail.com', '0235421594', 'GTBank', '22419678779', '1994-04-29T00:00:00.000Z', '', 'Diploma (OND or Others)', '3  Pantami west near winner bread  Gombe ', '1', 'Ahmad Muhammad ', 'Diploma (OND or Others)', '', 'Pantami west near winner bread ', '07061176337', '', '10.2762743 11.1612047', 'Gombe', 'Gombe', 'CONFIRMED']\n",
      "['UKASHA', 'HARUNA', 'ABUBAKAR', 'Male', '08161109082', '08161109082', 'ukashaabubakarharuna@gmail.com', '0063394914', 'Sterling Bank', '22422471017', '1996-11-01T00:00:00.000Z', '', 'Diploma (OND or Others)', '42 Yalanguruza Dan gusau street  Gombe state', '7', 'Abubakar aminu Musa ', 'Masters or Higher', '', 'Ministry of youths development ', '08130232313', '', '11.8053186 13.2041832', 'Gombe', 'Gombe', 'CONFIRMED']\n",
      "['SAHABI', 'SAHABI', 'ADAMU', 'Male', '08167047666', '08167047666', 'sahabiadamuarcp@gmail.com', '0025493818', 'Unity Bank', '22382398357', '1990-06-01T00:00:00.000Z', '', 'Diploma (OND or Others)', '081 GADAN MAI ALEWA STREET GOMBE', '4', 'UZAIRU ADAMU UMAR', 'B.Sc.', '', 'GADAN MAI ALEWA STREET JEKADAFARI QUARTERS GOMBE', '09035815738', '', '9.060352 7.45472', 'Gombe', 'Gombe', 'CONFIRMED']\n",
      "['SALIM', 'MUHAMMAD', 'MUHAMMAD', 'Male', '08151419915', '08151419915', 'salimmuhammadmuhd745@gmail.com', '2085540448', 'UBA', '22362445790', '1992-11-19T00:00:00.000Z', '', 'Diploma (OND or Others)', 'BA04 Checheniya behind police barrack Gombe Gombe', '3', 'Saleh Yusuf Yashi', 'B.Sc.', '', 'Nigerian Correctional Service Gombe ', '08059570707', '', '10.2813274 11.1765061', 'Gombe', 'Gombe', 'CONFIRMED']\n",
      "['NASEER', 'JIBIR', 'MOHAMMED', 'Male', '08032511244', '08032511244', 'hananjay8@gmail.com', '1773010392', 'Ecobank', '22200904818', '1979-02-02T00:00:00.000Z', '', 'Diploma (OND or Others)', '22 Gomna yobe street Gombe', '8', 'Barr Aliyu Musa', 'B.Sc.', '', 'Gomnan yobe street', '07067616171', '', '10.2858153 11.1647439', 'Gombe', 'Gombe', 'CONFIRMED']\n",
      "['NASIRU ', 'BABA', 'BABA', 'Male', '07063642976', '07063642976', 'nasirubaba26@gmail.com', '0002043850', 'Jaiz', '22383578482', '1994-03-04T00:00:00.000Z', '', 'Diploma (OND or Others)', '06 Anguwan Nassarawo talasse Talasse', '7', 'Ibrahim baba', 'Diploma (OND or Others)', '', 'Federal Teaching Hospital Gombe', '07030426298', '', '10.3005216 11.1587274', 'Gombe', 'Balanga', 'CONFIRMED']\n",
      "['MAHMUD', '..', 'AUWAL', 'Male', '08067678743', '08067678743', 'mahmudegwe@gmail.com', '3101599363', 'First Bank', '22371740316', '1992-02-12T00:00:00.000Z', '', 'B.Sc.', '24 Layin maman talba Gombe', '10', 'Abubakar Aminu musa', 'B.Sc.', '', 'Ministry of youth Gombe state', '08035353566', '', '10.2862464 11.1622665', 'Gombe', 'Gombe', 'CONFIRMED']\n",
      "['ADAMU', 'MUSA', 'KAWU', 'Male', '07067967897', '07067967897', 'adamumusakumo662@gmail.com', '0735240001', 'Access Bank', '22436409095', '1992-03-13T00:00:00.000Z', '', 'B.Sc.', 'B051 Waziri Malle Quarters Kumo  Kumo', '6', 'Bello Musa ', 'Diploma (OND or Others)', '', 'Akko L.G.E.A.', '08085142001', '', '10.039722 11.2054536', 'Gombe', 'Akko', 'CONFIRMED']\n",
      "['GADDAFI', 'ABUBAKAR', 'TUKUR', 'Male', '07032124440', '08160600052', 'abubakargadafitukur1414@gmail.com', '2033610025', 'First Bank', '22316081155', '1993-10-27T00:00:00.000Z', '', 'Diploma (OND or Others)', 'non EMIRS PALACE KALTUNGO', '50', 'MALAMI MUHAMMAD AL-AMIN', 'Diploma (OND or Others)', '', ' ', '08146108000', '', '9.0567 7.4969', 'Gombe', 'Kaltungo', 'CONFIRMED']\n",
      "['ZAINAB', 'MANGA', 'MUHAMMAD', 'Female', '08100406880', '08100406880', 'muhammadmangazainab@gmail.com', '6237894509', 'Fidelity Bank', '22499472090', '1995-10-09T00:00:00.000Z', '', 'Diploma (OND or Others)', '38 Low-cost Low-cost', '10', 'Abubakar Manga ', 'B.Sc.', '', 'Ministry of education', '08069815935', '', '10.3019501 11.1474032', 'Gombe', 'Kwami', 'CONFIRMED']\n",
      "['ISHAQ', 'ABDULLAHI', 'LAWAN', 'Male', '07068879385', '08146020692', 'ishabamir52@gmail.com', '2295313940', 'UBA', '22280750806', '1985-07-25T00:00:00.000Z', '', 'Diploma (OND or Others)', '02 Unguwar kara jalingo Ashaka Ashaka Funakaye ', '50', 'Abubakar Muhammad ', 'Secondary School', '', 'No.1 gate jalingo Ashaka Funakaye ', '08032907404', '', '10.9154079 11.4752671', 'Gombe', 'Funakaye', 'CONFIRMED']\n",
      "['FAIZA', 'GONI', 'GARBA', 'Female', '08169565622', '08169565622', 'faizagarba04@gmail.com', '3114173703', 'First Bank', '22224757469', '1991-10-25T00:00:00.000Z', '', 'HND', 'NON EMIRS PALACE   KALTUNGO', '50', 'MAL. YAHAYA AUDU', 'B.Sc.', '', 'LEA', '07034893253', '', '9.0567 7.4969', 'Gombe', 'Kaltungo', 'CONFIRMED']\n",
      "['ALIYU', 'ABUBAKAR', 'UMAR', 'Male', '08065763672', '08065763672', 'aliyuuabubakar@gmail.com', '0141737608', 'GTBank', '22341652865', '1991-07-10T00:00:00.000Z', '', 'B.Sc.', '012 Maijuju Street Old Market Gombe/Gombe', '6', 'Alhaji Umar Abubakar', 'B.Sc.', '', 'Gombe Old Market', '08066554224', '', '10.29214 11.1714687', 'Gombe', 'Gombe', 'CONFIRMED']\n",
      "['PHILIEARS', 'NON', 'DONALD', 'Male', '08135552151', '08135552151', 'donaldphilears@gmail.com', '3044161566', 'First Bank', '22327530844', '1987-10-08T00:00:00.000Z', '', 'Diploma (OND or Others)', 'NON TERMANA AREA KALTUNGO', '50', 'DOMINIC PHILEARS', 'B.Sc.', '', 'GOMBE STATE', '07056129995', '', '9.0567 7.4969', 'Gombe', 'Kaltungo', 'CONFIRMED']\n",
      "['BELLO', 'Nil', 'ZUBAIRU', 'Male', '08035995381', '08035995381', 'bbellozubairu497@gmail.com', '3191158015', 'First Bank', '22469362211', '1975-05-11T00:00:00.000Z', '', 'Secondary School', 'Nil A.A Haruna street near Government house Gombe.  Gombe ', '5', 'Fatima Sarkile', 'Diploma (OND or Others)', '', 'Bolari west near A.A Haruna street. ', '08025545689', '', '10.2882191 11.1650978', 'Gombe', 'Gombe', 'CONFIRMED']\n",
      "['METTUSELA', 'MAISAMARI', 'AMOS', 'Male', '07060119910', '07063119916', 'amosmethuselah1@gmail.com', '3174492828', 'First Bank', '22514084095', '1990-02-12T00:00:00.000Z', '', 'Diploma (OND or Others)', 'How number 002 lalaipido primary school street Primary school street Shongom', '8', 'Mr. Yusuf Sabo Wuro', 'B.Sc.', '', 'General hospital akko local government ', '08027294571', '', '9.8156294 11.308542', 'Gombe', 'Shomgom', 'CONFIRMED']\n",
      "['AUWAL', 'ABUBAKAR', 'BELLO', 'Male', '08149395283', '08149395283', 'Auwala301@gmail.com', '3047009798', 'Polaris bank', '22430632082', '1991-01-01T00:00:00.000Z', '', 'Diploma (OND or Others)', 'House no 17 dawqki  Layin masallacin biu Gombe', '2', 'Ibrahim garba', 'B.Sc.', '', 'House no 17 dawaki ward', '07033902433', '', '10.2813075 11.1765004', 'Gombe', 'Gombe', 'CONFIRMED']\n",
      "['LUKUMAN', 'Nil', 'DAHIRU', 'Male', '07018684940', '08034757102', 'lukmandahiru@gmail.com', '1421865740', 'Access Bank', '22401589513', '1992-01-01T00:00:00.000Z', '', 'Diploma (OND or Others)', 'New building Orji Estate Gombe', '0', 'Yahaya Abubakar', 'B.Sc.', '', 'Gombe State Prison. Opposite Gombe Local ', '08032503800', '', '10.2892216 11.1261738', 'Gombe', 'Gombe', 'CONFIRMED']\n",
      "['MUJAHEED', '-', 'SALEH', 'Male', '08167514369', '08167514369', 'mujaheedeensaleh@gmail.com', '0787674063', 'Access Bank', '22401197325', '1992-08-02T00:00:00.000Z', '', 'B.Sc.', '25 Tudun wada near central mosque Gombe/kalshingi', '0', 'Saleh yarima', 'Diploma (OND or Others)', '', 'Retired headmaster', '08102171618', '', '10.171464 11.2500766', 'Gombe', 'Akko', 'CONFIRMED']\n",
      "['MUHAMMAD', 'WALIH', 'ADAMU', 'Male', '08136600665', '08165787510', 'mohammedadamuwali@gmail.com', '4526496018', 'FCMB', '22368507214', '1991-01-01T00:00:00.000Z', '', 'Diploma (OND or Others)', 'Nill Unguwar barde kolo bajoga Bajoga', '3', 'MUHAMMAD KABIR ADAM', 'B.Sc.', '', 'Funakaye local government secreteriat', '07068878999', '', '10.859070583333335 11.436148566666668', 'Gombe', 'Funakaye', 'CONFIRMED']\n",
      "['MUHAMMAD', 'YAHAYA', 'UMAR', 'Male', '07069556005', '07069556005', 'muhammadyahayaumartongo@gmail.com', '0812652875', 'Access Bank', '22278787658', '1989-09-12T00:00:00.000Z', '', 'B.Sc.', '001 Fada quarters  Tongo', '6', 'Alh. Bappayo Yaya ', 'Masters or Higher', '', 'NPI Manager Funakaye LGA ', '08035585320', '', '10.2803467 11.1845181', 'Gombe', 'Funakaye', 'CONFIRMED']\n",
      "['AHMED', 'WAKILI', 'UMAR', 'Male', '08085080827', '08066209934', 'Umarwakiliahmed@gmail.com', '3066570011', 'FCMB', '22308509221', '1991-08-20T00:00:00.000Z', '', 'Diploma (OND or Others)', 'Nill Barde kolo treet Bajoga', '5', 'Musa ahmad', 'Masters or Higher', '', 'Resource center gombe state', '08065650403', '', '10.86289 11.4316081', 'Gombe', 'Funakaye', 'CONFIRMED']\n",
      "['ABUBAKAR', 'BELLO', 'BABANGIDA', 'Male', '07084957983', '08143753236', 'bbabs3912@gmail.com', '3869035018', 'FCMB', '22394638274', '1991-03-22T00:00:00.000Z', '', 'Diploma (OND or Others)', '3912 Opposite Railway station bamalum bajoga funakaye  Bajoga', '8', 'Tijjani modibbo tukur gombe ', 'Diploma (OND or Others)', '', 'Opposite Bubayero primary school dawaki gombe ', '08035796923', '', '10.8467923 11.4351569', 'Gombe', 'Funakaye', 'CONFIRMED']\n",
      "['UMAR', '-', 'AUWAL', 'Male', '08034171643', '08039212920', 'auwalumar1108@gmail.com', '3027365282', 'First Bank', '22272334931', '1990-08-10T00:00:00.000Z', '', 'B.Sc.', '03256 Aliyu Modibbo Street Gombe', '4', 'Alh Shehu Yarima Abdullahi', 'B.Sc.', '', 'Ajiya Ward Behind Amb. Alh Yarima Abdullahi Residence.', '08036165231', '', '10.2912284 11.17784', 'Gombe', 'Gombe', 'CONFIRMED']\n",
      "['MUHAMMAD', 'MUHAMMAD', 'MUNKAILA', 'Male', '07030938866', '07030938866', 'mmunkaila1@gmail.com', '0044982925', 'GTBank', '22178625052', '1994-02-15T00:00:00.000Z', '', 'B.Sc.', '041 Jalo Ganga street  Gombe ', '5', 'Saddam Munkaila ', 'B.Sc.', '', 'Teachers service commission Gombe ', '07036194859', '', '10.2904397 11.1806718', 'Gombe', 'Gombe', 'CONFIRMED']\n",
      "['NASIRU', '. ', 'SULAIMAN', 'Male', '08067504197', '08067504147', 'nasirusulaiman74@gmail.com', '0695090683', 'Access Bank', '22297331599', '1993-05-05T00:00:00.000Z', '', 'Diploma (OND or Others)', '10 Waziri Malle kumo Kumo', '5', 'Yahaya Adamu Abdullahi ', 'B.Sc.', '', 'Waziri Malle Quarters Kumo', '08034142796', '', '10.0505233 11.2015589', 'Gombe', 'Akko', 'CONFIRMED']\n",
      "['AYUBA', 'GWAZA', 'YUSUF', 'Male', '07030895026', '07030895026', 'aygwaza8519@gma.com', '0198727870', 'GTBank', '22364349964', '1996-07-16T00:00:00.000Z', '', 'B.Sc.', '10 Main market  Talasse', '7', 'Dr Bello Ambi Talasse ', 'B.Sc.', '', 'Women and children hospital Gombe', '08034248127', '', '10.2934641 11.0932773', 'Gombe', 'Balanga', 'CONFIRMED']\n",
      "['AISHATU', 'DABO', 'MUHD', 'Female', '09030341547', '07030627160', 'aishatumuhammaddabo07030@gmail.com', '2216433241', 'Zenith Bank', '22525081863', '1997-11-28T00:00:00.000Z', '', 'Diploma (OND or Others)', '2 Alkhairi road Gombe ', '2', 'Mohammed Dabo ', 'Secondary School', '', 'FCE(T) Gombe ', '08065504061', '', '10.3118906 11.169345', 'Gombe', 'Akko', 'CONFIRMED']\n",
      "['USMAN', 'Usman ', 'ABDULHAMID', 'Male', '08038379832', '08038379832', 'usmanabdulhamidreme@gmail.com', '0099434127', 'Union Bank', '22500330155', '1996-06-15T00:00:00.000Z', '', 'Diploma (OND or Others)', '5 Water Board Talasse  Talasse ', '7', 'Dahiru Abdulhamid ', 'Secondary School', '', 'Talasse ', '08105923379', '', '9.9699826 11.6806793', 'Gombe', 'Balanga', 'CONFIRMED']\n",
      "['ISA', 'UMAR', 'MOHAMMED', 'Male', '08028653323', '08028053323', 'mluggerewo@gmail.com', '0060244884', 'Access Bank', '22165622325', '1989-11-15T00:00:00.000Z', '', 'B.Sc.', '019 GEJ Road Gombe', '6', 'Abubakar Mohammed', 'Masters or Higher', '', 'Gombe State House of Assembly', '08039722585', '', '10.2853211 11.1501886', 'Gombe', 'Akko', 'CONFIRMED']\n",
      "['ABUBAKAR', '. ', 'ADAMU', 'Male', '08104748933', '08104748933', 'yayajimoba@gmail.com', '0713467758', 'Access Bank', '22401947449', '1999-02-28T00:00:00.000Z', '', 'Diploma (OND or Others)', '10 Bakasi street  Kumo', '3', 'Hon Mohammed ahmed kumo ', 'B.Sc.', '', 'Tumfure Gombe  Gombe state ', '08067734977', '', '10.0505233 11.2015589', 'Gombe', 'Akko', 'CONFIRMED']\n",
      "['MOHAMMED', 'REME', 'BABANGIDA', 'Male', '07038319497', '09033184477', 'babangidamreme@gmail.com', '0115587501', 'GTBank', '22315798289', '1987-04-04T00:00:00.000Z', '', 'Diploma (OND or Others)', '127 Chief imam of waja house talasse  Talasse ', '8', 'Idris Usman', 'B.Sc.', '', 'Federal teaching hospital gombe ', '08063610206', '', '9.9723862 11.6806793', 'Gombe', 'Balanga', 'CONFIRMED']\n",
      "['DAHIRU', 'Dahiru ', 'SAIDU', 'Male', '09037642316', '08129058091', 'dahirusaidu506@gmail.com', '0071303607', 'Union Bank', '22401799112', '1993-03-03T00:00:00.000Z', '', 'Diploma (OND or Others)', '003 Tindi street  Talasse', '5', 'Abubakar saidu', 'HND', '', 'Abubakar shopping complex talasse', '07030499887', '', '9.963963963963964 11.689833922742618', 'Gombe', 'Balanga', 'CONFIRMED']\n",
      "[\"SA'AD\", 'Saadu ', 'SHEHU', 'Male', '07060806228', '07060800228', 'shehusaadu098@gmail.com', '0053023867', 'Access Bank', '22153372175', '1983-10-02T00:00:00.000Z', '', 'B.Sc.', '002 Tsamiya Uku Dukku ', '4', 'Abubakaur Usman Guli ', 'B.Sc.', '', 'Dukku LGA', '08035367395', '', '10.823104 10.7659868', 'Gombe', 'Dukku', 'CONFIRMED']\n",
      "['MARGARET', 'OBAJE', 'SAMUEL', 'Female', '08107911919', '08107911919', 'margaretsamuel9@gmail.com', '0689210282', 'Access Bank', '22258202470', '1991-01-01T00:00:00.000Z', '', 'HND', '301 artillery regiment army barracks Gombe State lowcost Gombe', '8', 'Jamaluddeen Abubakar', 'B.Sc.', '', 'Wacot', '08132173714', '', '10.2786808 11.1813798', 'Gombe', 'Gombe', 'CONFIRMED']\n",
      "['ISIYAKU', 'BABANYAWO', 'SALIHU', 'Male', '08036471476', '08036471476', 'alhajiisiyaku332@gmail.com', '0054095589', 'Sterling Bank', '22281370915', '1972-01-01T00:00:00.000Z', '', 'Diploma (OND or Others)', 'Nil Pantami Near Emir palace Gombe', '10', 'Abdulrahman sudais', 'Secondary School', '', 'Pantami ward Gombe', '09038909615', '', '10.284312 11.1682832', 'Gombe', 'Gombe', 'CONFIRMED']\n",
      "['RABIU', ' ', 'ALIYU', 'Male', '08117768428', '07035304635', 'csrabiualiyu001@gmail.com', '4687569013', 'FCMB', '22441907180', '1996-01-11T00:00:00.000Z', '', 'Diploma (OND or Others)', 'No. 88 JB Sarkin Ruwa Street Jekadafari Gombe', '6', 'Ahmad Muhammad Alhajijo', 'Masters or Higher', '', 'No. 2 Sarkin Ruwa Street Jekadafari Quarters Gombe', '07032808616', '', '9.0570752 7.471104', 'Gombe', 'Gombe', 'CONFIRMED']\n",
      "['ALIYU', ' ', 'MUHAMMED', 'Male', '07064325549', '07064325549', 'hydaarmaliyu4@gmail.com', '0154374326', 'GTBank', '22158127820', '1987-10-10T00:00:00.000Z', '', 'B.Sc.', '34 Behind district head palace Gombe', '5', 'Mohammed Abdullahi', 'Masters or Higher', '', 'Federal University Kashere Gombe Satate', '08065559786', '', '10.2867661 11.177132', 'Gombe', 'Akko', 'CONFIRMED']\n",
      "['SAFIYANU', ' ', 'SHEHU', 'Male', '08037313605', '08037313605', 'shehusafiyanu52@gmail.com', '1570272029', 'FCMB', '22347328919', '1989-09-11T00:00:00.000Z', '', 'B.Sc.', '055 CHIROMA QUARTERS NEAR CENTRAL PRIMARY SCHOOL DUKKU DUKKU', '10', 'IBRAHIM ABUBAKAR', 'HND', '', 'Chip accountant Dukku LGA gombe state ', '07032215407', '', '10.8213674 10.7758561', 'Gombe', 'Dukku', 'CONFIRMED']\n",
      "['ILIYASU', 'SULAIMAN', 'IBRAHIM', 'Male', '08100494499', '08100494499', 'iliyasuibrahimsulaiman@gmail.com', '0067700078', 'Sterling Bank', '22466957270', '1996-04-12T00:00:00.000Z', '', 'Diploma (OND or Others)', '4 Central Primary school kashere Kashere', '2', 'Salihu Ibrahim Sulaiman', 'B.Sc.', '', 'Federal University of Kashere', '08038450071', '', '9.9082515 11.0126751', 'Gombe', 'Akko', 'CONFIRMED']\n",
      "['YUSUF', '-', 'DANLADI', 'Male', '08035944136', '08035944136', 'yusufdanladisangaru@gmail.com', '3169739451', 'First Bank', '22363502489', '1992-11-15T00:00:00.000Z', '', 'Diploma (OND or Others)', 'House no.23 from Izala mosque sangaru Bajoga Funakaye LGA of Gombe State Unguwar Yobe street behind general hospital Bajoga. Bajoga', '4', 'Muhammad Mustapha', 'B.Sc.', '', 'Confidential secretary to the office of Secretary Funakaye Local Government', '08028688308', '', '10.840464 11.4280594', 'Gombe', 'Funakaye', 'CONFIRMED']\n",
      "['BELLO', 'BELLO', 'MUHAMMAD', 'Male', '07037844908', '07037844908', 'bellomuhammad7808@gmail.com', '0108492513', 'Union Bank', '22513546455', '1996-02-03T00:00:00.000Z', '', 'Diploma (OND or Others)', '003 Unguwan Bauchi Tongo area court Tongo', '1', 'Abubakar Barde', 'Diploma (OND or Others)', '', 'Tongo area court', '08145582102', '', '10.6768009 11.3624313', 'Gombe', 'Funakaye', 'CONFIRMED']\n",
      "['ABUBAKAR', 'Abubakar ', 'BELLO', 'Male', '07087786381', '07087786381', 'abubakarbelloyauta20@gmail.com', '0737316724', 'Access Bank', '22369002095', '1994-03-12T00:00:00.000Z', '', 'B.Sc.', '001 Bakari quarters Dukku LGA  Dukku', '5', 'Muhammad sani bello', 'B.Sc.', '', 'Access bank Dukku ', '09064791799', '', '10.8254518 10.7783236', 'Gombe', 'Dukku', 'CONFIRMED']\n",
      "['USMAN', '.', 'MOHAMMED', 'Male', '08038417823', '08038417823', 'um15833@gmail.com', '3116004726', 'First Bank', '22395622205', '1997-09-03T00:00:00.000Z', '', 'Diploma (OND or Others)', 'House number 004 termana quarters Ecwa Church termana street Kaltungo', '8', 'Mr. Ahmed Hassan Ibrahim', 'Diploma (OND or Others)', '', 'Gombe state House of assembly', '08062675072', '', '9.8258402 11.3110231', 'Gombe', 'Kaltungo', 'CONFIRMED']\n",
      "['SALISU', 'SALISU', 'JALO', 'Male', '08061122780', '08061122780', 'jalosalisu@gmail.com', '0219618448', 'GTBank', '22388196593', '1989-01-01T00:00:00.000Z', '', 'Diploma (OND or Others)', '06 Emier place Gombe', '2', 'Nasiru jalo', 'B.Sc.', '', 'Federal low cost Gombe', '07081111014', '', '10.3126786 11.156604', 'Gombe', 'Kwami', 'CONFIRMED']\n",
      "['KABIRU', '-', 'SHEHU', 'Male', '07034723674', '07034723674', 'Kbdoma3472@gmail.com', '0736698063', 'Access Bank', '22359942369', '1993-01-12T00:00:00.000Z', '', 'B.Sc.', '- District head of Doma street  Gombe ', '6', 'Sani Garba', 'Masters or Higher', '', 'Gombe State Govt. House', '08037956982', '', '10.2604447 11.2097026', 'Gombe', 'Gombe', 'CONFIRMED']\n",
      "['ABDULRAHMAN', 'ISA', 'ISA', 'Male', '08066005862', '08066005862', 'abdulisadong043@gmail.com', '0061042822', 'Union Bank', '22433246796', '1992-04-23T00:00:00.000Z', '', 'B.Sc.', '0115 NASARAWA QUARTERS BEHIND JIYAMERE HOTEL TALASSE  TALASSE ', '0', 'ISA IDRIS AHMAD ', 'B.Sc.', '', 'PRINCIPAL COMMUNITY COLLEGE FOR ARABIC AND ISLAMIC STUDIES TALASSE ', '07031053263', '', '8.9369541 7.0943904', 'Gombe', 'Balanga', 'CONFIRMED']\n",
      "['ADAMU', 'IDRIS', 'DALHA', 'Male', '07038930121', '07038930121', 'adamudalhaidris@gmail.com', '2203802195', 'UBA', '22291091558', '1995-12-06T00:00:00.000Z', '', 'Diploma (OND or Others)', 'Nil A.A Haruna street near Government house Gombe.  Gombe ', '4', 'Maimuna Usman Muhammad', 'Secondary School', '', ' ', '08161107497', '', '10.2798989 11.1661596', 'Gombe', 'Gombe', 'CONFIRMED']\n",
      "['MAMMAN', 'WAZIRI', 'MAIGARI', 'Male', '07064315461', '07064315461', 'mammanmaigariwaziri@gmail.com', '4137108012', 'FCMB', '22413132039', '1991-01-02T00:00:00.000Z', '', 'B.Sc.', '091 Waziri Street Hashidu', '12', 'Sani Maigari', 'Secondary School', '', 'Hashidu Madaki Quarters Dukku Local Government', '08039129551', '', '10.8340028 10.6127933', 'Gombe', 'Dukku', 'CONFIRMED']\n",
      "['SOLOMON', '.', 'EMMANUEL', 'Male', '08176233313', '08036978595', 'emmanuelsolomon13@gmail.com', '3065754899', 'First Bank', '22336301844', '1989-04-07T00:00:00.000Z', '', 'B.Sc.', 'House number 003 nasarawa quarters  Baba kamat street Kaltungo', '7', 'PhD. Emmanuel Michael ', 'Masters or Higher', '', 'Chemistry department gombe state university tudu  wada Gombe', '07067732731', '', '9.8161965 11.3120864', 'Gombe', 'Kaltungo', 'CONFIRMED']\n",
      "['FATIMA', 'FARUK', 'HARUNA', 'Female', '08184879701', '08184879701', 'Ftmhrn@gmail.com', '0051421343', 'GTBank', '22293439859', '1987-12-03T00:00:00.000Z', '', 'Diploma (OND or Others)', '115 Tula road  Gombe ', '15', 'Faruk Ibrahim ', 'Diploma (OND or Others)', '', 'A.y.u kwaari ', '08033352692', '', '10.2736482 11.1573118', 'Gombe', 'Gombe', 'CONFIRMED']\n",
      "['EMMANUEL', 'SAMUEL', 'MELA', 'Female', '07061294344', '07061794344', 'emmanuelsmela14@gmail.com', '0215354094', 'GTBank', '22325691301', '1990-08-24T00:00:00.000Z', '', 'Diploma (OND or Others)', 'No 1 Komta Kalmai road Billiri ', '5', 'Prof Ibrahim Njodi', 'B.Sc.', '', 'GRA Gombe ', '08023835177', '', '10.2847885 11.1045953', 'Gombe', 'Billiri', 'CONFIRMED']\n",
      "['YAHAYA', 'SADIQ', 'ABUBAKAR', 'Male', '08099716757', '09030681437', 'yasadiq171@gmail.com', '0149028892', 'GTBank', '22210314511', '1996-09-18T00:00:00.000Z', '', 'B.Sc.', 'No. 35 Alkahira Quarters Opposite Garin Babadidi Pri & Sec. School Gombe  Alkahira street  Gombe ', '5', 'Abubakar Mohammed Sadiq ', 'B.Sc.', '', 'Ministry of Rural Development Gombe Gombe State ', '08037702584', '', '10.3251618 9.8538271', 'Gombe', 'Dukku', 'CONFIRMED']\n",
      "['AISHATU', 'JIBRIN', 'ADAMU', 'Female', '08068424297', '08068424297', 'aishaadamujibrin01@gmail.com', '5333881015', 'FCMB', '22477118992', '1998-07-07T00:00:00.000Z', '', 'Diploma (OND or Others)', '3 Near Zara shopping complex  Funakaye ', '0', 'Musa adamu ', 'Diploma (OND or Others)', '', 'Bakin Kasuwa Bajoga', '09077772710', '', '10.8604072 11.4330276', 'Gombe', 'Funakaye', 'CONFIRMED']\n",
      "['NAFISATU', 'Sabo', 'SABO', 'Female', '07085491728', '08119566841', 'nafisamaina@gmail.com', '0735994483', 'Access Bank', '22448572758', '1984-04-16T00:00:00.000Z', '', 'Diploma (OND or Others)', 'House no 5 Adamu Soye Street gombe Adamu Soye Gombe', '4', 'Muhammad Sabo maina', 'B.Sc.', '', 'New commercial Area Gombe', '08061212021', '', '10.2881439 11.1573118', 'Gombe', 'Gombe', 'CONFIRMED']\n"
     ]
    }
   ],
   "source": [
    "#Import and read CSV files\n",
    "\n",
    "import csv\n",
    "\n",
    "csv_file_path = 'facilitators.csv'\n",
    "\n",
    "with open(csv_file_path,'r') as csv_file:\n",
    "    #creating a csv reader object\n",
    "    csv_reader = csv.reader(csv_file)\n",
    "    \n",
    "    #print each line\n",
    "    for eachRow in csv_reader:\n",
    "        print (eachRow)"
   ]
  },
  {
   "cell_type": "code",
   "execution_count": 21,
   "id": "459a8bf0",
   "metadata": {},
   "outputs": [
    {
     "name": "stdout",
     "output_type": "stream",
     "text": [
      "   Product Code  Option Name  Option Value\n",
      "0           323  Jollof Rice          3000\n",
      "1           432      Chicken          4500\n",
      "2           123    Goat meat          2334\n",
      "3           345      Moi Moi           500\n"
     ]
    }
   ],
   "source": [
    "#Import and read Excel files\n",
    "\n",
    "import pandas\n",
    "\n",
    "file_pathh = 'import.xlsx'\n",
    "\n",
    "#creating a dataframe\n",
    "excel_df = pandas.read_excel(file_pathh, sheet_name = 'sheet1')\n",
    "   \n",
    "print(excel_df)\n"
   ]
  },
  {
   "cell_type": "code",
   "execution_count": 11,
   "id": "12ee101c",
   "metadata": {},
   "outputs": [
    {
     "name": "stdout",
     "output_type": "stream",
     "text": [
      "My name is Frank, my age is 34\n"
     ]
    }
   ],
   "source": [
    "d1 = \"Frank\"\n",
    "d2 = 34\n",
    "\n",
    "print (F\"My name is {d1}, my age is {d2}\")"
   ]
  },
  {
   "cell_type": "code",
   "execution_count": 25,
   "id": "efef66a6",
   "metadata": {},
   "outputs": [
    {
     "name": "stdout",
     "output_type": "stream",
     "text": [
      "A child\n"
     ]
    }
   ],
   "source": [
    "#if person is 65 and aove save as Elder\n",
    "# if 40-64 save as older adult\n",
    "# if 20 - 29 young adult\n",
    "# if 13 - 19 save as teenager\n",
    "# 0 - 12 save as Child\n",
    "\n",
    "age = 12\n",
    "\n",
    "if age >= 65:\n",
    "    print(\"An Elder\")\n",
    "elif age >= 40 and age <= 64:\n",
    "    print(\"Older adult\")\n",
    "elif age >= 20 and age <= 39:\n",
    "    print(\"Young adult\")\n",
    "elif age >= 13 and age <= 19:\n",
    "    print(\"Teenager\")\n",
    "elif age >= 0 and age <= 12:\n",
    "    print(\"A child\")\n",
    "else:\n",
    "    print(\"Error input\")"
   ]
  },
  {
   "cell_type": "code",
   "execution_count": 26,
   "id": "6f67d10e",
   "metadata": {},
   "outputs": [
    {
     "name": "stdout",
     "output_type": "stream",
     "text": [
      "Young adult\n",
      "Teenager\n",
      "A child\n"
     ]
    }
   ],
   "source": [
    "age2 = 23\n",
    "\n",
    "if age2 >=0 :\n",
    "    if age2 >= 65:\n",
    "        print(\"An Elder\")\n",
    "    if age2 >= 40 and age <= 64:\n",
    "        print(\"Older adult\")\n",
    "    if age2 >= 20 and age <= 39:\n",
    "        print(\"Young adult\")\n",
    "    if age2 >= 13 and age <= 19:\n",
    "        print(\"Teenager\")\n",
    "    if age2 >= 0 and age <= 12:\n",
    "        print(\"A child\")\n",
    "else:\n",
    "    print(\"An error has occured\")"
   ]
  },
  {
   "cell_type": "code",
   "execution_count": 32,
   "id": "0cb7b81a",
   "metadata": {},
   "outputs": [
    {
     "name": "stdout",
     "output_type": "stream",
     "text": [
      "['Young adult']\n"
     ]
    }
   ],
   "source": [
    "age = 29\n",
    "age_desc = []\n",
    "\n",
    "if age >= 65:\n",
    "    age_desc.append(\"An Elder\")\n",
    "elif age >= 40 and age <= 64:\n",
    "    age_desc.append(\"Older adult\")\n",
    "elif age >= 20 and age <= 39:\n",
    "    age_desc.append(\"Young adult\")\n",
    "elif age >= 13 and age <= 19:\n",
    "    age_desc.append(\"Teenager\")\n",
    "elif age >= 0 and age <= 12:\n",
    "    age_desc.append(\"A child\")\n",
    "else:\n",
    "    age_desc.append(\"Error input\")\n",
    "    \n",
    "print(age_desc)"
   ]
  },
  {
   "cell_type": "code",
   "execution_count": 6,
   "id": "7e83fc84",
   "metadata": {},
   "outputs": [
    {
     "name": "stdout",
     "output_type": "stream",
     "text": [
      "The sum of 0 and 1 is: 1\n",
      "The sum of 1 and 2 is: 3\n",
      "The sum of 3 and 3 is: 6\n",
      "The sum of 6 and 4 is: 10\n",
      "The sum of 10 and 5 is: 15\n",
      "The sum of 15 and 6 is: 21\n",
      "The sum of 21 and 7 is: 28\n",
      "The sum of 28 and 8 is: 36\n",
      "The sum of 36 and 9 is: 45\n",
      "The sum of 45 and 10 is: 55\n"
     ]
    }
   ],
   "source": [
    "sum_result = 0\n",
    "current_number = 1\n",
    "\n",
    "while current_number <=10:\n",
    "    print(f\"The sum of {sum_result} and {current_number} is: {sum_result + current_number}\")\n",
    "    sum_result +=current_number\n",
    "    current_number +=1"
   ]
  },
  {
   "cell_type": "code",
   "execution_count": 13,
   "id": "adb26a93",
   "metadata": {},
   "outputs": [
    {
     "name": "stdout",
     "output_type": "stream",
     "text": [
      "The sum of 0 and 1 is: 1\n",
      "The sum of 1 and 2 is: 3\n",
      "The sum of 3 and 3 is: 6\n",
      "The sum of 6 and 4 is: 10\n",
      "The sum of 10 and 5 is: 15\n",
      "The sum of 15 and 6 is: 21\n",
      "The sum of 21 and 7 is: 28\n",
      "The sum of 28 and 8 is: 36\n",
      "The sum of 36 and 9 is: 45\n",
      "The sum of 45 and 10 is: 55\n"
     ]
    }
   ],
   "source": [
    "sum_result = 0\n",
    "current_number = 1\n",
    "\n",
    "while current_number <=10:\n",
    "    print(f\"The sum of {sum_result} and {current_number} is:\", end=' ')\n",
    "    sum_result +=current_number\n",
    "    print(sum_result)\n",
    "    current_number +=1"
   ]
  },
  {
   "cell_type": "code",
   "execution_count": 23,
   "id": "4ca6b776",
   "metadata": {},
   "outputs": [
    {
     "name": "stdout",
     "output_type": "stream",
     "text": [
      "0\n",
      "1\n",
      "3\n",
      "5\n",
      "7\n",
      "9\n"
     ]
    }
   ],
   "source": [
    "even_num = [2, 4, 6, 8, 10]\n",
    "\n",
    "for i in range(11):\n",
    "    if i in even_num:\n",
    "        continue\n",
    "    print(i)"
   ]
  },
  {
   "cell_type": "code",
   "execution_count": 2,
   "id": "39dcdb1f",
   "metadata": {},
   "outputs": [
    {
     "name": "stdout",
     "output_type": "stream",
     "text": [
      "Enter a password: dfadf\n",
      "Please try again with the correct password: afaea\n",
      "Please try again with the correct password: 342\n",
      "Please try again with the correct password: user123\n",
      "Success, password is correct! \n"
     ]
    }
   ],
   "source": [
    "#7 prompt the user for password. use a while loop to keep prompting until the correct password is entered. Use a break to exit loop when password is correct.\n",
    "\n",
    "corrPassword = 'user123'\n",
    "enteredPassword = str(input(\"Enter a password: \"))\n",
    "\n",
    "while enteredPassword != corrPassword:\n",
    "    enteredPassword = str(input(\"Please try again with the correct password: \"))\n",
    "    if enteredPassword == corrPassword: \n",
    "        print(\"Success, password is correct! \")\n",
    "        break\n"
   ]
  },
  {
   "cell_type": "code",
   "execution_count": 17,
   "id": "1331b7a8",
   "metadata": {},
   "outputs": [
    {
     "name": "stdout",
     "output_type": "stream",
     "text": [
      "Enter number: 10\n",
      "Factorial of 10 is: 3628800\n"
     ]
    }
   ],
   "source": [
    "#5 calc the factorial (n! = n x (n-1) x (n-2)...) of a number using a for loop\n",
    "\n",
    "fnum = int(input('Enter number: '))\n",
    "mainNum = fnum\n",
    "for i in range(2, fnum):\n",
    "    fnum *= i\n",
    "print(f\"Factorial of {mainNum} is: {fnum}\")\n"
   ]
  },
  {
   "cell_type": "code",
   "execution_count": null,
   "id": "e39494a4",
   "metadata": {},
   "outputs": [],
   "source": []
  },
  {
   "cell_type": "markdown",
   "id": "de81a966",
   "metadata": {},
   "source": [
    "write a python program that takes the number of courses you did in a semester and saves the name and score you had in a dictionary."
   ]
  },
  {
   "cell_type": "code",
   "execution_count": null,
   "id": "fdb4c983",
   "metadata": {},
   "outputs": [],
   "source": [
    "#Import and read CSV files\n",
    "import pandas as pd\n",
    "import csv\n",
    "\n",
    "csv_file_path = 'courses.csv'\n",
    "name_score = {}\n",
    "\n",
    "with open(csv_file_path,'r') as csv_file:\n",
    "    #creating a csv reader object\n",
    "    csv_reader = csv.reader(csv_file)\n",
    "    \n",
    "    # #print each line\n",
    "    # for eachRow in csv_reader:\n",
    "    #    name_score[eachRow[0]] = eachRow[1]\n",
    "        \n",
    "    # print(name_score)\n",
    "        \n",
    "        \n",
    "        # print (eachRow)\n",
    "pd.head(10)"
   ]
  },
  {
   "cell_type": "code",
   "execution_count": 81,
   "id": "4f26400e",
   "metadata": {},
   "outputs": [
    {
     "data": {
      "text/html": [
       "<div>\n",
       "<style scoped>\n",
       "    .dataframe tbody tr th:only-of-type {\n",
       "        vertical-align: middle;\n",
       "    }\n",
       "\n",
       "    .dataframe tbody tr th {\n",
       "        vertical-align: top;\n",
       "    }\n",
       "\n",
       "    .dataframe thead th {\n",
       "        text-align: right;\n",
       "    }\n",
       "</style>\n",
       "<table border=\"1\" class=\"dataframe\">\n",
       "  <thead>\n",
       "    <tr style=\"text-align: right;\">\n",
       "      <th></th>\n",
       "      <th>PassengerId</th>\n",
       "      <th>Survived</th>\n",
       "      <th>Pclass</th>\n",
       "      <th>Name</th>\n",
       "      <th>Sex</th>\n",
       "      <th>Age</th>\n",
       "      <th>SibSp</th>\n",
       "      <th>Parch</th>\n",
       "      <th>Ticket</th>\n",
       "      <th>Fare</th>\n",
       "      <th>Cabin</th>\n",
       "      <th>Embarked</th>\n",
       "    </tr>\n",
       "  </thead>\n",
       "  <tbody>\n",
       "    <tr>\n",
       "      <th>886</th>\n",
       "      <td>887</td>\n",
       "      <td>0</td>\n",
       "      <td>2</td>\n",
       "      <td>Montvila, Rev. Juozas</td>\n",
       "      <td>male</td>\n",
       "      <td>27.0</td>\n",
       "      <td>0</td>\n",
       "      <td>0</td>\n",
       "      <td>211536</td>\n",
       "      <td>13.00</td>\n",
       "      <td>NaN</td>\n",
       "      <td>S</td>\n",
       "    </tr>\n",
       "    <tr>\n",
       "      <th>887</th>\n",
       "      <td>888</td>\n",
       "      <td>1</td>\n",
       "      <td>1</td>\n",
       "      <td>Graham, Miss. Margaret Edith</td>\n",
       "      <td>female</td>\n",
       "      <td>19.0</td>\n",
       "      <td>0</td>\n",
       "      <td>0</td>\n",
       "      <td>112053</td>\n",
       "      <td>30.00</td>\n",
       "      <td>B42</td>\n",
       "      <td>S</td>\n",
       "    </tr>\n",
       "    <tr>\n",
       "      <th>888</th>\n",
       "      <td>889</td>\n",
       "      <td>0</td>\n",
       "      <td>3</td>\n",
       "      <td>Johnston, Miss. Catherine Helen \"Carrie\"</td>\n",
       "      <td>female</td>\n",
       "      <td>NaN</td>\n",
       "      <td>1</td>\n",
       "      <td>2</td>\n",
       "      <td>W./C. 6607</td>\n",
       "      <td>23.45</td>\n",
       "      <td>NaN</td>\n",
       "      <td>S</td>\n",
       "    </tr>\n",
       "    <tr>\n",
       "      <th>889</th>\n",
       "      <td>890</td>\n",
       "      <td>1</td>\n",
       "      <td>1</td>\n",
       "      <td>Behr, Mr. Karl Howell</td>\n",
       "      <td>male</td>\n",
       "      <td>26.0</td>\n",
       "      <td>0</td>\n",
       "      <td>0</td>\n",
       "      <td>111369</td>\n",
       "      <td>30.00</td>\n",
       "      <td>C148</td>\n",
       "      <td>C</td>\n",
       "    </tr>\n",
       "    <tr>\n",
       "      <th>890</th>\n",
       "      <td>891</td>\n",
       "      <td>0</td>\n",
       "      <td>3</td>\n",
       "      <td>Dooley, Mr. Patrick</td>\n",
       "      <td>male</td>\n",
       "      <td>32.0</td>\n",
       "      <td>0</td>\n",
       "      <td>0</td>\n",
       "      <td>370376</td>\n",
       "      <td>7.75</td>\n",
       "      <td>NaN</td>\n",
       "      <td>Q</td>\n",
       "    </tr>\n",
       "  </tbody>\n",
       "</table>\n",
       "</div>"
      ],
      "text/plain": [
       "     PassengerId  Survived  Pclass                                      Name  \\\n",
       "886          887         0       2                     Montvila, Rev. Juozas   \n",
       "887          888         1       1              Graham, Miss. Margaret Edith   \n",
       "888          889         0       3  Johnston, Miss. Catherine Helen \"Carrie\"   \n",
       "889          890         1       1                     Behr, Mr. Karl Howell   \n",
       "890          891         0       3                       Dooley, Mr. Patrick   \n",
       "\n",
       "        Sex   Age  SibSp  Parch      Ticket   Fare Cabin Embarked  \n",
       "886    male  27.0      0      0      211536  13.00   NaN        S  \n",
       "887  female  19.0      0      0      112053  30.00   B42        S  \n",
       "888  female   NaN      1      2  W./C. 6607  23.45   NaN        S  \n",
       "889    male  26.0      0      0      111369  30.00  C148        C  \n",
       "890    male  32.0      0      0      370376   7.75   NaN        Q  "
      ]
     },
     "execution_count": 81,
     "metadata": {},
     "output_type": "execute_result"
    }
   ],
   "source": [
    "#Import and read CSV files\n",
    "import pandas as pd\n",
    "\n",
    "file_path = 'titanic train dataset.csv'\n",
    "df = pd.read_csv(file_path)\n",
    "df.head(5)\n",
    "df.tail(5)"
   ]
  },
  {
   "cell_type": "code",
   "execution_count": 82,
   "id": "7220e253",
   "metadata": {},
   "outputs": [
    {
     "name": "stdout",
     "output_type": "stream",
     "text": [
      "<class 'pandas.core.frame.DataFrame'>\n",
      "RangeIndex: 891 entries, 0 to 890\n",
      "Data columns (total 12 columns):\n",
      " #   Column       Non-Null Count  Dtype  \n",
      "---  ------       --------------  -----  \n",
      " 0   PassengerId  891 non-null    int64  \n",
      " 1   Survived     891 non-null    int64  \n",
      " 2   Pclass       891 non-null    int64  \n",
      " 3   Name         891 non-null    object \n",
      " 4   Sex          891 non-null    object \n",
      " 5   Age          714 non-null    float64\n",
      " 6   SibSp        891 non-null    int64  \n",
      " 7   Parch        891 non-null    int64  \n",
      " 8   Ticket       891 non-null    object \n",
      " 9   Fare         891 non-null    float64\n",
      " 10  Cabin        204 non-null    object \n",
      " 11  Embarked     889 non-null    object \n",
      "dtypes: float64(2), int64(5), object(5)\n",
      "memory usage: 83.7+ KB\n"
     ]
    }
   ],
   "source": [
    "df.info()"
   ]
  },
  {
   "cell_type": "code",
   "execution_count": 83,
   "id": "67b1c40d",
   "metadata": {},
   "outputs": [
    {
     "data": {
      "text/html": [
       "<div>\n",
       "<style scoped>\n",
       "    .dataframe tbody tr th:only-of-type {\n",
       "        vertical-align: middle;\n",
       "    }\n",
       "\n",
       "    .dataframe tbody tr th {\n",
       "        vertical-align: top;\n",
       "    }\n",
       "\n",
       "    .dataframe thead th {\n",
       "        text-align: right;\n",
       "    }\n",
       "</style>\n",
       "<table border=\"1\" class=\"dataframe\">\n",
       "  <thead>\n",
       "    <tr style=\"text-align: right;\">\n",
       "      <th></th>\n",
       "      <th>PassengerId</th>\n",
       "      <th>Survived</th>\n",
       "      <th>Pclass</th>\n",
       "      <th>Age</th>\n",
       "      <th>SibSp</th>\n",
       "      <th>Parch</th>\n",
       "      <th>Fare</th>\n",
       "    </tr>\n",
       "  </thead>\n",
       "  <tbody>\n",
       "    <tr>\n",
       "      <th>count</th>\n",
       "      <td>891.000000</td>\n",
       "      <td>891.000000</td>\n",
       "      <td>891.000000</td>\n",
       "      <td>714.000000</td>\n",
       "      <td>891.000000</td>\n",
       "      <td>891.000000</td>\n",
       "      <td>891.000000</td>\n",
       "    </tr>\n",
       "    <tr>\n",
       "      <th>mean</th>\n",
       "      <td>446.000000</td>\n",
       "      <td>0.383838</td>\n",
       "      <td>2.308642</td>\n",
       "      <td>29.699118</td>\n",
       "      <td>0.523008</td>\n",
       "      <td>0.381594</td>\n",
       "      <td>32.204208</td>\n",
       "    </tr>\n",
       "    <tr>\n",
       "      <th>std</th>\n",
       "      <td>257.353842</td>\n",
       "      <td>0.486592</td>\n",
       "      <td>0.836071</td>\n",
       "      <td>14.526497</td>\n",
       "      <td>1.102743</td>\n",
       "      <td>0.806057</td>\n",
       "      <td>49.693429</td>\n",
       "    </tr>\n",
       "    <tr>\n",
       "      <th>min</th>\n",
       "      <td>1.000000</td>\n",
       "      <td>0.000000</td>\n",
       "      <td>1.000000</td>\n",
       "      <td>0.420000</td>\n",
       "      <td>0.000000</td>\n",
       "      <td>0.000000</td>\n",
       "      <td>0.000000</td>\n",
       "    </tr>\n",
       "    <tr>\n",
       "      <th>25%</th>\n",
       "      <td>223.500000</td>\n",
       "      <td>0.000000</td>\n",
       "      <td>2.000000</td>\n",
       "      <td>20.125000</td>\n",
       "      <td>0.000000</td>\n",
       "      <td>0.000000</td>\n",
       "      <td>7.910400</td>\n",
       "    </tr>\n",
       "    <tr>\n",
       "      <th>50%</th>\n",
       "      <td>446.000000</td>\n",
       "      <td>0.000000</td>\n",
       "      <td>3.000000</td>\n",
       "      <td>28.000000</td>\n",
       "      <td>0.000000</td>\n",
       "      <td>0.000000</td>\n",
       "      <td>14.454200</td>\n",
       "    </tr>\n",
       "    <tr>\n",
       "      <th>75%</th>\n",
       "      <td>668.500000</td>\n",
       "      <td>1.000000</td>\n",
       "      <td>3.000000</td>\n",
       "      <td>38.000000</td>\n",
       "      <td>1.000000</td>\n",
       "      <td>0.000000</td>\n",
       "      <td>31.000000</td>\n",
       "    </tr>\n",
       "    <tr>\n",
       "      <th>max</th>\n",
       "      <td>891.000000</td>\n",
       "      <td>1.000000</td>\n",
       "      <td>3.000000</td>\n",
       "      <td>80.000000</td>\n",
       "      <td>8.000000</td>\n",
       "      <td>6.000000</td>\n",
       "      <td>512.329200</td>\n",
       "    </tr>\n",
       "  </tbody>\n",
       "</table>\n",
       "</div>"
      ],
      "text/plain": [
       "       PassengerId    Survived      Pclass         Age       SibSp  \\\n",
       "count   891.000000  891.000000  891.000000  714.000000  891.000000   \n",
       "mean    446.000000    0.383838    2.308642   29.699118    0.523008   \n",
       "std     257.353842    0.486592    0.836071   14.526497    1.102743   \n",
       "min       1.000000    0.000000    1.000000    0.420000    0.000000   \n",
       "25%     223.500000    0.000000    2.000000   20.125000    0.000000   \n",
       "50%     446.000000    0.000000    3.000000   28.000000    0.000000   \n",
       "75%     668.500000    1.000000    3.000000   38.000000    1.000000   \n",
       "max     891.000000    1.000000    3.000000   80.000000    8.000000   \n",
       "\n",
       "            Parch        Fare  \n",
       "count  891.000000  891.000000  \n",
       "mean     0.381594   32.204208  \n",
       "std      0.806057   49.693429  \n",
       "min      0.000000    0.000000  \n",
       "25%      0.000000    7.910400  \n",
       "50%      0.000000   14.454200  \n",
       "75%      0.000000   31.000000  \n",
       "max      6.000000  512.329200  "
      ]
     },
     "execution_count": 83,
     "metadata": {},
     "output_type": "execute_result"
    }
   ],
   "source": [
    "df.describe() #displays the stats of all columns with numerical data types"
   ]
  },
  {
   "cell_type": "code",
   "execution_count": null,
   "id": "40e82336",
   "metadata": {},
   "outputs": [],
   "source": [
    "df.columns.duplicated()"
   ]
  },
  {
   "cell_type": "code",
   "execution_count": 87,
   "id": "4198d7ed",
   "metadata": {},
   "outputs": [
    {
     "data": {
      "text/plain": [
       "0"
      ]
     },
     "execution_count": 87,
     "metadata": {},
     "output_type": "execute_result"
    }
   ],
   "source": [
    "df['PassengerId'].duplicated().sum() #checks for duplicate in the PassengerId column"
   ]
  },
  {
   "cell_type": "code",
   "execution_count": 88,
   "id": "848c8d1e",
   "metadata": {},
   "outputs": [
    {
     "data": {
      "text/plain": [
       "(891, 12)"
      ]
     },
     "execution_count": 88,
     "metadata": {},
     "output_type": "execute_result"
    }
   ],
   "source": [
    "df.shape # checks for (row, column ) of the dataframe"
   ]
  },
  {
   "cell_type": "code",
   "execution_count": 91,
   "metadata": {},
   "outputs": [
    {
     "data": {
      "text/plain": [
       "PassengerId    891\n",
       "Survived       891\n",
       "Pclass         891\n",
       "Name           891\n",
       "Sex            891\n",
       "Age            891\n",
       "SibSp          891\n",
       "Parch          891\n",
       "Ticket         891\n",
       "Fare           891\n",
       "Cabin          891\n",
       "Embarked       891\n",
       "dtype: int64"
      ]
     },
     "execution_count": 91,
     "metadata": {},
     "output_type": "execute_result"
    }
   ],
   "source": [
    "df.isnull().sum()   #shows the numer of duplicate found in the columns "
   ]
  },
  {
   "cell_type": "code",
   "execution_count": 93,
   "id": "6995fd5c",
   "metadata": {},
   "outputs": [
    {
     "data": {
      "text/plain": [
       "PassengerId    891\n",
       "Survived       891\n",
       "Pclass         891\n",
       "Name           891\n",
       "Sex            891\n",
       "Age            714\n",
       "SibSp          891\n",
       "Parch          891\n",
       "Ticket         891\n",
       "Fare           891\n",
       "Cabin          204\n",
       "Embarked       889\n",
       "dtype: int64"
      ]
     },
     "execution_count": 93,
     "metadata": {},
     "output_type": "execute_result"
    }
   ],
   "source": [
    "df.count()"
   ]
  },
  {
   "cell_type": "markdown",
   "id": "587ce05a",
   "metadata": {},
   "source": [
    "CLASS EXERCISE: CREATING A DATASET FOR A STUDENT\n",
    "1. Write a python program that takes the number of courses done in a semester and saves the name and score for each course in a dictionary.\n",
    "2. Further calculate the grade based on the inputed score and add this grade to the existing dictionary.\n",
    "3. Also, prompt the user for the credit unit for each course and add the inputed value to the existing dictionary\n",
    "4. Create numeric values for each grade and add this grade score to the existing dictionary. A = 5, B = 4, C = 3, D = 2, E = 1, F = 0\n",
    "5. Calculate the grade credit score which is the grade score * credit unit and append the result to the existing dictionary.\n",
    "6. Find the GPA = sum of all the grade credit score / sum of all the credit unit"
   ]
  },
  {
   "cell_type": "code",
   "execution_count": 54,
   "id": "76cb3c84",
   "metadata": {},
   "outputs": [
    {
     "name": "stdout",
     "output_type": "stream",
     "text": [
      "[{'title': 'math', 'score': 87.0, 'grade': 'A', 'credit_unit': 3, 'grade_score': 5, 'grade_credit_score': 15}, {'title': 'eng', 'score': 57.0, 'grade': 'C', 'credit_unit': 2, 'grade_score': 3, 'grade_credit_score': 6}]\n"
     ]
    }
   ],
   "source": [
    "num_courses = int(input(\"How many courses have you completed: \"))\n",
    "list_of_dict = []\n",
    "\n",
    "for i in range(num_courses):\n",
    "    course_title = str(input(\"Enter course title: \"))\n",
    "    score = float(input(\"Enter score: \"))\n",
    "    credit_unit = int(input(\"Enter credit unit: \"))\n",
    "\n",
    "    if score > 0 and score <=100:\n",
    "        if score >= 75:\n",
    "            grade = 'A'\n",
    "            grade_score = 5\n",
    "        elif score >=60:\n",
    "            grade = 'B'\n",
    "            grade_score = 4\n",
    "        elif score >= 45:\n",
    "            grade = 'C'\n",
    "            grade_score = 3\n",
    "        elif score >= 35:\n",
    "            grade = 'D'\n",
    "            grade_score = 2\n",
    "        elif score >= 25:\n",
    "            grade = 'E'\n",
    "            grade_score = 1\n",
    "        else:\n",
    "            grade = 'F'\n",
    "            grade_score = 0\n",
    "    else:\n",
    "        print(\"An error occurred, check the score you entered\")\n",
    "        break\n",
    "\n",
    "    grade_credit_score = grade_score * credit_unit\n",
    "    dict_entry = {'title':course_title, 'score':score,'grade':grade, 'credit_unit':credit_unit, 'grade_score':grade_score, 'grade_credit_score':grade_credit_score}\n",
    "    list_of_dict.append(dict_entry)\n",
    "    \n",
    "\n",
    "print(list_of_dict)"
   ]
  },
  {
   "cell_type": "code",
   "execution_count": 72,
   "id": "421adbd9",
   "metadata": {},
   "outputs": [
    {
     "name": "stdout",
     "output_type": "stream",
     "text": [
      "<generator object <genexpr> at 0x000001C528A62260>\n"
     ]
    }
   ],
   "source": [
    "total_crunit = sum(eachCourse['credit_unit'] for eachCourse in list_of_dict)"
   ]
  },
  {
   "cell_type": "code",
   "execution_count": null,
   "id": "99b45374",
   "metadata": {},
   "outputs": [],
   "source": [
    "for course in list_of_dict:\n",
    "    sum(course['credit_unit'])\n"
   ]
  },
  {
   "cell_type": "code",
   "execution_count": 61,
   "id": "6a13205b",
   "metadata": {},
   "outputs": [
    {
     "data": {
      "text/plain": [
       "[{'title': 'math',\n",
       "  'score': 87.0,\n",
       "  'grade': 'A',\n",
       "  'credit_unit': 3,\n",
       "  'grade_score': 5,\n",
       "  'grade_credit_score': 15},\n",
       " {'title': 'eng',\n",
       "  'score': 57.0,\n",
       "  'grade': 'C',\n",
       "  'credit_unit': 2,\n",
       "  'grade_score': 3,\n",
       "  'grade_credit_score': 6}]"
      ]
     },
     "execution_count": 61,
     "metadata": {},
     "output_type": "execute_result"
    }
   ],
   "source": [
    "list_of_dict"
   ]
  },
  {
   "cell_type": "code",
   "execution_count": 55,
   "id": "211aed90",
   "metadata": {},
   "outputs": [
    {
     "name": "stdout",
     "output_type": "stream",
     "text": [
      "{'title': 'math', 'score': 87.0, 'grade': 'A', 'credit_unit': 3, 'grade_score': 5, 'grade_credit_score': 15}\n",
      "{'title': 'eng', 'score': 57.0, 'grade': 'C', 'credit_unit': 2, 'grade_score': 3, 'grade_credit_score': 6}\n"
     ]
    }
   ],
   "source": [
    "for eachCourse in list_of_dict:\n",
    "    print(eachCourse)"
   ]
  },
  {
   "cell_type": "code",
   "execution_count": 73,
   "id": "03459967",
   "metadata": {},
   "outputs": [
    {
     "data": {
      "text/html": [
       "<div>\n",
       "<style scoped>\n",
       "    .dataframe tbody tr th:only-of-type {\n",
       "        vertical-align: middle;\n",
       "    }\n",
       "\n",
       "    .dataframe tbody tr th {\n",
       "        vertical-align: top;\n",
       "    }\n",
       "\n",
       "    .dataframe thead th {\n",
       "        text-align: right;\n",
       "    }\n",
       "</style>\n",
       "<table border=\"1\" class=\"dataframe\">\n",
       "  <thead>\n",
       "    <tr style=\"text-align: right;\">\n",
       "      <th></th>\n",
       "      <th>title</th>\n",
       "      <th>score</th>\n",
       "      <th>grade</th>\n",
       "      <th>credit_unit</th>\n",
       "      <th>grade_score</th>\n",
       "      <th>grade_credit_score</th>\n",
       "    </tr>\n",
       "  </thead>\n",
       "  <tbody>\n",
       "    <tr>\n",
       "      <th>0</th>\n",
       "      <td>math</td>\n",
       "      <td>87.0</td>\n",
       "      <td>A</td>\n",
       "      <td>3</td>\n",
       "      <td>5</td>\n",
       "      <td>15</td>\n",
       "    </tr>\n",
       "    <tr>\n",
       "      <th>1</th>\n",
       "      <td>eng</td>\n",
       "      <td>57.0</td>\n",
       "      <td>C</td>\n",
       "      <td>2</td>\n",
       "      <td>3</td>\n",
       "      <td>6</td>\n",
       "    </tr>\n",
       "  </tbody>\n",
       "</table>\n",
       "</div>"
      ],
      "text/plain": [
       "  title  score grade  credit_unit  grade_score  grade_credit_score\n",
       "0  math   87.0     A            3            5                  15\n",
       "1   eng   57.0     C            2            3                   6"
      ]
     },
     "execution_count": 73,
     "metadata": {},
     "output_type": "execute_result"
    }
   ],
   "source": [
    "import pandas\n",
    "\n",
    "df = pandas.DataFrame(list_of_dict)\n",
    "df"
   ]
  },
  {
   "cell_type": "code",
   "execution_count": 28,
   "id": "bc866baa",
   "metadata": {},
   "outputs": [
    {
     "name": "stdout",
     "output_type": "stream",
     "text": [
      "56.0\n",
      "C\n"
     ]
    }
   ],
   "source": [
    "#Get the score and grade for a specific course\n",
    "\n",
    "for course in list_of_dict:\n",
    "    if course['title'] == 'French':\n",
    "        print(course['score'])\n",
    "        print(course['grade'])"
   ]
  },
  {
   "cell_type": "code",
   "execution_count": 29,
   "id": "4d032df3",
   "metadata": {},
   "outputs": [
    {
     "data": {
      "text/plain": [
       "3"
      ]
     },
     "execution_count": 29,
     "metadata": {},
     "output_type": "execute_result"
    }
   ],
   "source": [
    "#Get the length of the list of courses\n",
    "\n",
    "len(list_of_dict)"
   ]
  },
  {
   "cell_type": "code",
   "execution_count": 41,
   "id": "0dddb05f",
   "metadata": {},
   "outputs": [
    {
     "data": {
      "text/plain": [
       "{'title': 'English', 'score': 95.0, 'grade': 'A'}"
      ]
     },
     "execution_count": 41,
     "metadata": {},
     "output_type": "execute_result"
    }
   ],
   "source": [
    "#Get the first element/entry inside the list of courses\n",
    "\n",
    "list_of_dict[0]"
   ]
  },
  {
   "cell_type": "code",
   "execution_count": 45,
   "id": "a9dd2439",
   "metadata": {},
   "outputs": [
    {
     "data": {
      "text/plain": [
       "[{'title': 'English', 'score': 95.0, 'grade': 'A'},\n",
       " {'title': 'French', 'score': 56.0, 'grade': 'C'},\n",
       " {'title': 'Maths', 'score': 91.0, 'grade': 'A'}]"
      ]
     },
     "execution_count": 45,
     "metadata": {},
     "output_type": "execute_result"
    }
   ],
   "source": [
    "#change the course title from eng to english\n",
    "\n",
    "for course in list_of_dict:\n",
    "    if course['title'] == 'Eng':\n",
    "        course['title'] = 'English'\n",
    "list_of_dict"
   ]
  },
  {
   "cell_type": "code",
   "execution_count": 46,
   "id": "c91346ab",
   "metadata": {},
   "outputs": [
    {
     "data": {
      "text/plain": [
       "[{'title': 'English', 'score': 95.0, 'grade': 'A'},\n",
       " {'title': 'French', 'score': 56.0, 'grade': 'C'},\n",
       " {'title': 'Mathematics', 'score': 91.0, 'grade': 'A'}]"
      ]
     },
     "execution_count": 46,
     "metadata": {},
     "output_type": "execute_result"
    }
   ],
   "source": [
    "#change the course title from Maths to Mathematics\n",
    "\n",
    "for course in list_of_dict:\n",
    "    if course['title'] == 'Maths':\n",
    "        course['title'] = 'Mathematics'\n",
    "list_of_dict"
   ]
  }
 ],
 "metadata": {
  "kernelspec": {
   "display_name": "Python 3 (ipykernel)",
   "language": "python",
   "name": "python3"
  },
  "language_info": {
   "codemirror_mode": {
    "name": "ipython",
    "version": 3
   },
   "file_extension": ".py",
   "mimetype": "text/x-python",
   "name": "python",
   "nbconvert_exporter": "python",
   "pygments_lexer": "ipython3",
   "version": "3.11.5"
  }
 },
 "nbformat": 4,
 "nbformat_minor": 5
}
